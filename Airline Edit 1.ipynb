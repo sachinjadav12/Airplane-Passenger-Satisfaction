{
 "cells": [
  {
   "cell_type": "markdown",
   "metadata": {
    "id": "9b94aedf-3f28-437a-ae41-10b327ca20e6"
   },
   "source": [
    "# Flight Passenger Satisfaction"
   ]
  },
  {
   "cell_type": "markdown",
   "metadata": {
    "id": "20b3d962-2f62-4b62-beed-cdaa3c497540"
   },
   "source": [
    "# PROBLEM STATEMENT\n",
    "#Primarily objective of data is to predict the satisfaction of passenger for flight service. We will try to use this data to create a model which tries to predict the passenger satisfaction."
   ]
  },
  {
   "cell_type": "code",
   "execution_count": 129,
   "metadata": {
    "executionInfo": {
     "elapsed": 678,
     "status": "ok",
     "timestamp": 1670050924462,
     "user": {
      "displayName": "Shrikant Chormale",
      "userId": "06649212260482941230"
     },
     "user_tz": -330
    },
    "id": "44caafd7-2cb5-4f3c-8c92-86cc915a298a"
   },
   "outputs": [],
   "source": [
    "# import the libraries\n",
    "import numpy as np\n",
    "import pandas as pd\n",
    "import matplotlib.pyplot as plt\n",
    "import seaborn as sns \n",
    "import warnings\n",
    "warnings.filterwarnings('ignore')"
   ]
  },
  {
   "cell_type": "code",
   "execution_count": null,
   "metadata": {
    "executionInfo": {
     "elapsed": 849,
     "status": "ok",
     "timestamp": 1670050926093,
     "user": {
      "displayName": "Shrikant Chormale",
      "userId": "06649212260482941230"
     },
     "user_tz": -330
    },
    "id": "ZnJmL72BunAn"
   },
   "outputs": [],
   "source": []
  },
  {
   "cell_type": "code",
   "execution_count": 130,
   "metadata": {
    "executionInfo": {
     "elapsed": 106,
     "status": "ok",
     "timestamp": 1670050926094,
     "user": {
      "displayName": "Shrikant Chormale",
      "userId": "06649212260482941230"
     },
     "user_tz": -330
    },
    "id": "2bfaa1b5-08ee-4f20-9d45-0c270410e569"
   },
   "outputs": [],
   "source": [
    "# GET THE DATA "
   ]
  },
  {
   "cell_type": "code",
   "execution_count": 131,
   "metadata": {
    "executionInfo": {
     "elapsed": 107,
     "status": "ok",
     "timestamp": 1670050926096,
     "user": {
      "displayName": "Shrikant Chormale",
      "userId": "06649212260482941230"
     },
     "user_tz": -330
    },
    "id": "5e9d2765-ac29-4397-acd0-a8ec509d47ad"
   },
   "outputs": [],
   "source": [
    "# Read the file \n",
    "df=pd.read_csv(\"train.csv\")\n",
    "df1=pd.read_csv(\"test.csv\")"
   ]
  },
  {
   "cell_type": "code",
   "execution_count": 132,
   "metadata": {
    "colab": {
     "base_uri": "https://localhost:8080/",
     "height": 438
    },
    "executionInfo": {
     "elapsed": 108,
     "status": "ok",
     "timestamp": 1670050926097,
     "user": {
      "displayName": "Shrikant Chormale",
      "userId": "06649212260482941230"
     },
     "user_tz": -330
    },
    "id": "586a3baf-5447-410f-a5bc-5046b80540e8",
    "outputId": "aa7ea33c-208f-4a64-c303-019bb926575d"
   },
   "outputs": [
    {
     "data": {
      "text/html": [
       "<div>\n",
       "<style scoped>\n",
       "    .dataframe tbody tr th:only-of-type {\n",
       "        vertical-align: middle;\n",
       "    }\n",
       "\n",
       "    .dataframe tbody tr th {\n",
       "        vertical-align: top;\n",
       "    }\n",
       "\n",
       "    .dataframe thead th {\n",
       "        text-align: right;\n",
       "    }\n",
       "</style>\n",
       "<table border=\"1\" class=\"dataframe\">\n",
       "  <thead>\n",
       "    <tr style=\"text-align: right;\">\n",
       "      <th></th>\n",
       "      <th>Unnamed: 0</th>\n",
       "      <th>id</th>\n",
       "      <th>Gender</th>\n",
       "      <th>Customer Type</th>\n",
       "      <th>Age</th>\n",
       "      <th>Type of Travel</th>\n",
       "      <th>Class</th>\n",
       "      <th>Flight Distance</th>\n",
       "      <th>Inflight wifi service</th>\n",
       "      <th>Departure/Arrival time convenient</th>\n",
       "      <th>...</th>\n",
       "      <th>Inflight entertainment</th>\n",
       "      <th>On-board service</th>\n",
       "      <th>Leg room service</th>\n",
       "      <th>Baggage handling</th>\n",
       "      <th>Checkin service</th>\n",
       "      <th>Inflight service</th>\n",
       "      <th>Cleanliness</th>\n",
       "      <th>Departure Delay in Minutes</th>\n",
       "      <th>Arrival Delay in Minutes</th>\n",
       "      <th>satisfaction</th>\n",
       "    </tr>\n",
       "  </thead>\n",
       "  <tbody>\n",
       "    <tr>\n",
       "      <th>0</th>\n",
       "      <td>87303</td>\n",
       "      <td>11149</td>\n",
       "      <td>Female</td>\n",
       "      <td>Loyal Customer</td>\n",
       "      <td>36</td>\n",
       "      <td>Personal Travel</td>\n",
       "      <td>Eco</td>\n",
       "      <td>429</td>\n",
       "      <td>3</td>\n",
       "      <td>4</td>\n",
       "      <td>...</td>\n",
       "      <td>3</td>\n",
       "      <td>5</td>\n",
       "      <td>1</td>\n",
       "      <td>4</td>\n",
       "      <td>2</td>\n",
       "      <td>5</td>\n",
       "      <td>3</td>\n",
       "      <td>12</td>\n",
       "      <td>20.0</td>\n",
       "      <td>neutral or dissatisfied</td>\n",
       "    </tr>\n",
       "    <tr>\n",
       "      <th>1</th>\n",
       "      <td>87304</td>\n",
       "      <td>109922</td>\n",
       "      <td>Female</td>\n",
       "      <td>Loyal Customer</td>\n",
       "      <td>40</td>\n",
       "      <td>Personal Travel</td>\n",
       "      <td>Eco</td>\n",
       "      <td>1034</td>\n",
       "      <td>2</td>\n",
       "      <td>5</td>\n",
       "      <td>...</td>\n",
       "      <td>2</td>\n",
       "      <td>4</td>\n",
       "      <td>5</td>\n",
       "      <td>5</td>\n",
       "      <td>5</td>\n",
       "      <td>5</td>\n",
       "      <td>2</td>\n",
       "      <td>0</td>\n",
       "      <td>0.0</td>\n",
       "      <td>neutral or dissatisfied</td>\n",
       "    </tr>\n",
       "    <tr>\n",
       "      <th>2</th>\n",
       "      <td>87305</td>\n",
       "      <td>56927</td>\n",
       "      <td>Female</td>\n",
       "      <td>disloyal Customer</td>\n",
       "      <td>49</td>\n",
       "      <td>Business travel</td>\n",
       "      <td>Business</td>\n",
       "      <td>2454</td>\n",
       "      <td>2</td>\n",
       "      <td>2</td>\n",
       "      <td>...</td>\n",
       "      <td>4</td>\n",
       "      <td>5</td>\n",
       "      <td>3</td>\n",
       "      <td>4</td>\n",
       "      <td>1</td>\n",
       "      <td>4</td>\n",
       "      <td>1</td>\n",
       "      <td>0</td>\n",
       "      <td>0.0</td>\n",
       "      <td>neutral or dissatisfied</td>\n",
       "    </tr>\n",
       "    <tr>\n",
       "      <th>3</th>\n",
       "      <td>87306</td>\n",
       "      <td>6882</td>\n",
       "      <td>Female</td>\n",
       "      <td>disloyal Customer</td>\n",
       "      <td>22</td>\n",
       "      <td>Business travel</td>\n",
       "      <td>Eco</td>\n",
       "      <td>265</td>\n",
       "      <td>2</td>\n",
       "      <td>0</td>\n",
       "      <td>...</td>\n",
       "      <td>5</td>\n",
       "      <td>3</td>\n",
       "      <td>4</td>\n",
       "      <td>5</td>\n",
       "      <td>4</td>\n",
       "      <td>4</td>\n",
       "      <td>5</td>\n",
       "      <td>0</td>\n",
       "      <td>0.0</td>\n",
       "      <td>neutral or dissatisfied</td>\n",
       "    </tr>\n",
       "    <tr>\n",
       "      <th>4</th>\n",
       "      <td>87307</td>\n",
       "      <td>118045</td>\n",
       "      <td>Female</td>\n",
       "      <td>disloyal Customer</td>\n",
       "      <td>29</td>\n",
       "      <td>Business travel</td>\n",
       "      <td>Business</td>\n",
       "      <td>1262</td>\n",
       "      <td>2</td>\n",
       "      <td>2</td>\n",
       "      <td>...</td>\n",
       "      <td>4</td>\n",
       "      <td>5</td>\n",
       "      <td>3</td>\n",
       "      <td>4</td>\n",
       "      <td>5</td>\n",
       "      <td>5</td>\n",
       "      <td>4</td>\n",
       "      <td>0</td>\n",
       "      <td>0.0</td>\n",
       "      <td>neutral or dissatisfied</td>\n",
       "    </tr>\n",
       "  </tbody>\n",
       "</table>\n",
       "<p>5 rows × 25 columns</p>\n",
       "</div>"
      ],
      "text/plain": [
       "   Unnamed: 0      id  Gender      Customer Type  Age   Type of Travel  \\\n",
       "0       87303   11149  Female     Loyal Customer   36  Personal Travel   \n",
       "1       87304  109922  Female     Loyal Customer   40  Personal Travel   \n",
       "2       87305   56927  Female  disloyal Customer   49  Business travel   \n",
       "3       87306    6882  Female  disloyal Customer   22  Business travel   \n",
       "4       87307  118045  Female  disloyal Customer   29  Business travel   \n",
       "\n",
       "      Class  Flight Distance  Inflight wifi service  \\\n",
       "0       Eco              429                      3   \n",
       "1       Eco             1034                      2   \n",
       "2  Business             2454                      2   \n",
       "3       Eco              265                      2   \n",
       "4  Business             1262                      2   \n",
       "\n",
       "   Departure/Arrival time convenient  ...  Inflight entertainment  \\\n",
       "0                                  4  ...                       3   \n",
       "1                                  5  ...                       2   \n",
       "2                                  2  ...                       4   \n",
       "3                                  0  ...                       5   \n",
       "4                                  2  ...                       4   \n",
       "\n",
       "   On-board service  Leg room service  Baggage handling  Checkin service  \\\n",
       "0                 5                 1                 4                2   \n",
       "1                 4                 5                 5                5   \n",
       "2                 5                 3                 4                1   \n",
       "3                 3                 4                 5                4   \n",
       "4                 5                 3                 4                5   \n",
       "\n",
       "   Inflight service  Cleanliness  Departure Delay in Minutes  \\\n",
       "0                 5            3                          12   \n",
       "1                 5            2                           0   \n",
       "2                 4            1                           0   \n",
       "3                 4            5                           0   \n",
       "4                 5            4                           0   \n",
       "\n",
       "   Arrival Delay in Minutes             satisfaction  \n",
       "0                      20.0  neutral or dissatisfied  \n",
       "1                       0.0  neutral or dissatisfied  \n",
       "2                       0.0  neutral or dissatisfied  \n",
       "3                       0.0  neutral or dissatisfied  \n",
       "4                       0.0  neutral or dissatisfied  \n",
       "\n",
       "[5 rows x 25 columns]"
      ]
     },
     "execution_count": 132,
     "metadata": {},
     "output_type": "execute_result"
    }
   ],
   "source": [
    "# #  first five data in the dataset\n",
    "df.head()"
   ]
  },
  {
   "cell_type": "code",
   "execution_count": null,
   "metadata": {
    "executionInfo": {
     "elapsed": 103,
     "status": "ok",
     "timestamp": 1670050926098,
     "user": {
      "displayName": "Shrikant Chormale",
      "userId": "06649212260482941230"
     },
     "user_tz": -330
    },
    "id": "phPNhHdeuVFE"
   },
   "outputs": [],
   "source": []
  },
  {
   "cell_type": "code",
   "execution_count": null,
   "metadata": {
    "executionInfo": {
     "elapsed": 103,
     "status": "ok",
     "timestamp": 1670050926099,
     "user": {
      "displayName": "Shrikant Chormale",
      "userId": "06649212260482941230"
     },
     "user_tz": -330
    },
    "id": "rB-yjRg4ul0Y"
   },
   "outputs": [],
   "source": []
  },
  {
   "cell_type": "code",
   "execution_count": 133,
   "metadata": {
    "colab": {
     "base_uri": "https://localhost:8080/",
     "height": 438
    },
    "executionInfo": {
     "elapsed": 103,
     "status": "ok",
     "timestamp": 1670050926100,
     "user": {
      "displayName": "Shrikant Chormale",
      "userId": "06649212260482941230"
     },
     "user_tz": -330
    },
    "id": "7fa6cc3c-f260-45ae-8e30-0b96099b0f1a",
    "outputId": "ea9212f0-cea0-40c8-ac61-4e04b5f36c35"
   },
   "outputs": [
    {
     "data": {
      "text/html": [
       "<div>\n",
       "<style scoped>\n",
       "    .dataframe tbody tr th:only-of-type {\n",
       "        vertical-align: middle;\n",
       "    }\n",
       "\n",
       "    .dataframe tbody tr th {\n",
       "        vertical-align: top;\n",
       "    }\n",
       "\n",
       "    .dataframe thead th {\n",
       "        text-align: right;\n",
       "    }\n",
       "</style>\n",
       "<table border=\"1\" class=\"dataframe\">\n",
       "  <thead>\n",
       "    <tr style=\"text-align: right;\">\n",
       "      <th></th>\n",
       "      <th>Unnamed: 0</th>\n",
       "      <th>id</th>\n",
       "      <th>Gender</th>\n",
       "      <th>Customer Type</th>\n",
       "      <th>Age</th>\n",
       "      <th>Type of Travel</th>\n",
       "      <th>Class</th>\n",
       "      <th>Flight Distance</th>\n",
       "      <th>Inflight wifi service</th>\n",
       "      <th>Departure/Arrival time convenient</th>\n",
       "      <th>...</th>\n",
       "      <th>Inflight entertainment</th>\n",
       "      <th>On-board service</th>\n",
       "      <th>Leg room service</th>\n",
       "      <th>Baggage handling</th>\n",
       "      <th>Checkin service</th>\n",
       "      <th>Inflight service</th>\n",
       "      <th>Cleanliness</th>\n",
       "      <th>Departure Delay in Minutes</th>\n",
       "      <th>Arrival Delay in Minutes</th>\n",
       "      <th>satisfaction</th>\n",
       "    </tr>\n",
       "  </thead>\n",
       "  <tbody>\n",
       "    <tr>\n",
       "      <th>16596</th>\n",
       "      <td>103899</td>\n",
       "      <td>94171</td>\n",
       "      <td>Female</td>\n",
       "      <td>disloyal Customer</td>\n",
       "      <td>23</td>\n",
       "      <td>Business travel</td>\n",
       "      <td>Eco</td>\n",
       "      <td>192</td>\n",
       "      <td>2</td>\n",
       "      <td>1</td>\n",
       "      <td>...</td>\n",
       "      <td>2</td>\n",
       "      <td>3</td>\n",
       "      <td>1</td>\n",
       "      <td>4</td>\n",
       "      <td>2</td>\n",
       "      <td>3</td>\n",
       "      <td>2</td>\n",
       "      <td>3</td>\n",
       "      <td>0.0</td>\n",
       "      <td>neutral or dissatisfied</td>\n",
       "    </tr>\n",
       "    <tr>\n",
       "      <th>16597</th>\n",
       "      <td>103900</td>\n",
       "      <td>73097</td>\n",
       "      <td>Male</td>\n",
       "      <td>Loyal Customer</td>\n",
       "      <td>49</td>\n",
       "      <td>Business travel</td>\n",
       "      <td>Business</td>\n",
       "      <td>2347</td>\n",
       "      <td>4</td>\n",
       "      <td>4</td>\n",
       "      <td>...</td>\n",
       "      <td>5</td>\n",
       "      <td>5</td>\n",
       "      <td>5</td>\n",
       "      <td>5</td>\n",
       "      <td>5</td>\n",
       "      <td>5</td>\n",
       "      <td>4</td>\n",
       "      <td>0</td>\n",
       "      <td>0.0</td>\n",
       "      <td>satisfied</td>\n",
       "    </tr>\n",
       "    <tr>\n",
       "      <th>16598</th>\n",
       "      <td>103901</td>\n",
       "      <td>68825</td>\n",
       "      <td>Male</td>\n",
       "      <td>disloyal Customer</td>\n",
       "      <td>30</td>\n",
       "      <td>Business travel</td>\n",
       "      <td>Business</td>\n",
       "      <td>1995</td>\n",
       "      <td>1</td>\n",
       "      <td>1</td>\n",
       "      <td>...</td>\n",
       "      <td>4</td>\n",
       "      <td>3</td>\n",
       "      <td>2</td>\n",
       "      <td>4</td>\n",
       "      <td>5</td>\n",
       "      <td>5</td>\n",
       "      <td>4</td>\n",
       "      <td>7</td>\n",
       "      <td>14.0</td>\n",
       "      <td>neutral or dissatisfied</td>\n",
       "    </tr>\n",
       "    <tr>\n",
       "      <th>16599</th>\n",
       "      <td>103902</td>\n",
       "      <td>54173</td>\n",
       "      <td>Female</td>\n",
       "      <td>disloyal Customer</td>\n",
       "      <td>22</td>\n",
       "      <td>Business travel</td>\n",
       "      <td>Eco</td>\n",
       "      <td>1000</td>\n",
       "      <td>1</td>\n",
       "      <td>1</td>\n",
       "      <td>...</td>\n",
       "      <td>1</td>\n",
       "      <td>4</td>\n",
       "      <td>5</td>\n",
       "      <td>1</td>\n",
       "      <td>5</td>\n",
       "      <td>4</td>\n",
       "      <td>1</td>\n",
       "      <td>0</td>\n",
       "      <td>0.0</td>\n",
       "      <td>neutral or dissatisfied</td>\n",
       "    </tr>\n",
       "    <tr>\n",
       "      <th>16600</th>\n",
       "      <td>103903</td>\n",
       "      <td>62567</td>\n",
       "      <td>Male</td>\n",
       "      <td>Loyal Customer</td>\n",
       "      <td>27</td>\n",
       "      <td>Business travel</td>\n",
       "      <td>Business</td>\n",
       "      <td>1723</td>\n",
       "      <td>1</td>\n",
       "      <td>3</td>\n",
       "      <td>...</td>\n",
       "      <td>1</td>\n",
       "      <td>1</td>\n",
       "      <td>1</td>\n",
       "      <td>4</td>\n",
       "      <td>4</td>\n",
       "      <td>3</td>\n",
       "      <td>1</td>\n",
       "      <td>0</td>\n",
       "      <td>0.0</td>\n",
       "      <td>neutral or dissatisfied</td>\n",
       "    </tr>\n",
       "  </tbody>\n",
       "</table>\n",
       "<p>5 rows × 25 columns</p>\n",
       "</div>"
      ],
      "text/plain": [
       "       Unnamed: 0     id  Gender      Customer Type  Age   Type of Travel  \\\n",
       "16596      103899  94171  Female  disloyal Customer   23  Business travel   \n",
       "16597      103900  73097    Male     Loyal Customer   49  Business travel   \n",
       "16598      103901  68825    Male  disloyal Customer   30  Business travel   \n",
       "16599      103902  54173  Female  disloyal Customer   22  Business travel   \n",
       "16600      103903  62567    Male     Loyal Customer   27  Business travel   \n",
       "\n",
       "          Class  Flight Distance  Inflight wifi service  \\\n",
       "16596       Eco              192                      2   \n",
       "16597  Business             2347                      4   \n",
       "16598  Business             1995                      1   \n",
       "16599       Eco             1000                      1   \n",
       "16600  Business             1723                      1   \n",
       "\n",
       "       Departure/Arrival time convenient  ...  Inflight entertainment  \\\n",
       "16596                                  1  ...                       2   \n",
       "16597                                  4  ...                       5   \n",
       "16598                                  1  ...                       4   \n",
       "16599                                  1  ...                       1   \n",
       "16600                                  3  ...                       1   \n",
       "\n",
       "       On-board service  Leg room service  Baggage handling  Checkin service  \\\n",
       "16596                 3                 1                 4                2   \n",
       "16597                 5                 5                 5                5   \n",
       "16598                 3                 2                 4                5   \n",
       "16599                 4                 5                 1                5   \n",
       "16600                 1                 1                 4                4   \n",
       "\n",
       "       Inflight service  Cleanliness  Departure Delay in Minutes  \\\n",
       "16596                 3            2                           3   \n",
       "16597                 5            4                           0   \n",
       "16598                 5            4                           7   \n",
       "16599                 4            1                           0   \n",
       "16600                 3            1                           0   \n",
       "\n",
       "       Arrival Delay in Minutes             satisfaction  \n",
       "16596                       0.0  neutral or dissatisfied  \n",
       "16597                       0.0                satisfied  \n",
       "16598                      14.0  neutral or dissatisfied  \n",
       "16599                       0.0  neutral or dissatisfied  \n",
       "16600                       0.0  neutral or dissatisfied  \n",
       "\n",
       "[5 rows x 25 columns]"
      ]
     },
     "execution_count": 133,
     "metadata": {},
     "output_type": "execute_result"
    }
   ],
   "source": [
    "df.tail()"
   ]
  },
  {
   "cell_type": "code",
   "execution_count": 134,
   "metadata": {
    "colab": {
     "base_uri": "https://localhost:8080/",
     "height": 438
    },
    "executionInfo": {
     "elapsed": 103,
     "status": "ok",
     "timestamp": 1670050926101,
     "user": {
      "displayName": "Shrikant Chormale",
      "userId": "06649212260482941230"
     },
     "user_tz": -330
    },
    "id": "e94aa9ef-196e-4e76-9b22-538bc058770e",
    "outputId": "f31249f3-6c7f-4dc2-e0d2-b37f42364f70"
   },
   "outputs": [
    {
     "data": {
      "text/html": [
       "<div>\n",
       "<style scoped>\n",
       "    .dataframe tbody tr th:only-of-type {\n",
       "        vertical-align: middle;\n",
       "    }\n",
       "\n",
       "    .dataframe tbody tr th {\n",
       "        vertical-align: top;\n",
       "    }\n",
       "\n",
       "    .dataframe thead th {\n",
       "        text-align: right;\n",
       "    }\n",
       "</style>\n",
       "<table border=\"1\" class=\"dataframe\">\n",
       "  <thead>\n",
       "    <tr style=\"text-align: right;\">\n",
       "      <th></th>\n",
       "      <th>Unnamed: 0</th>\n",
       "      <th>id</th>\n",
       "      <th>Gender</th>\n",
       "      <th>Customer Type</th>\n",
       "      <th>Age</th>\n",
       "      <th>Type of Travel</th>\n",
       "      <th>Class</th>\n",
       "      <th>Flight Distance</th>\n",
       "      <th>Inflight wifi service</th>\n",
       "      <th>Departure/Arrival time convenient</th>\n",
       "      <th>...</th>\n",
       "      <th>Inflight entertainment</th>\n",
       "      <th>On-board service</th>\n",
       "      <th>Leg room service</th>\n",
       "      <th>Baggage handling</th>\n",
       "      <th>Checkin service</th>\n",
       "      <th>Inflight service</th>\n",
       "      <th>Cleanliness</th>\n",
       "      <th>Departure Delay in Minutes</th>\n",
       "      <th>Arrival Delay in Minutes</th>\n",
       "      <th>satisfaction</th>\n",
       "    </tr>\n",
       "  </thead>\n",
       "  <tbody>\n",
       "    <tr>\n",
       "      <th>0</th>\n",
       "      <td>0</td>\n",
       "      <td>19556</td>\n",
       "      <td>Female</td>\n",
       "      <td>Loyal Customer</td>\n",
       "      <td>52</td>\n",
       "      <td>Business travel</td>\n",
       "      <td>Eco</td>\n",
       "      <td>160</td>\n",
       "      <td>5</td>\n",
       "      <td>4</td>\n",
       "      <td>...</td>\n",
       "      <td>5</td>\n",
       "      <td>5</td>\n",
       "      <td>5</td>\n",
       "      <td>5</td>\n",
       "      <td>2</td>\n",
       "      <td>5</td>\n",
       "      <td>5</td>\n",
       "      <td>50</td>\n",
       "      <td>44.0</td>\n",
       "      <td>satisfied</td>\n",
       "    </tr>\n",
       "    <tr>\n",
       "      <th>1</th>\n",
       "      <td>1</td>\n",
       "      <td>90035</td>\n",
       "      <td>Female</td>\n",
       "      <td>Loyal Customer</td>\n",
       "      <td>36</td>\n",
       "      <td>Business travel</td>\n",
       "      <td>Business</td>\n",
       "      <td>2863</td>\n",
       "      <td>1</td>\n",
       "      <td>1</td>\n",
       "      <td>...</td>\n",
       "      <td>4</td>\n",
       "      <td>4</td>\n",
       "      <td>4</td>\n",
       "      <td>4</td>\n",
       "      <td>3</td>\n",
       "      <td>4</td>\n",
       "      <td>5</td>\n",
       "      <td>0</td>\n",
       "      <td>0.0</td>\n",
       "      <td>satisfied</td>\n",
       "    </tr>\n",
       "    <tr>\n",
       "      <th>2</th>\n",
       "      <td>2</td>\n",
       "      <td>12360</td>\n",
       "      <td>Male</td>\n",
       "      <td>disloyal Customer</td>\n",
       "      <td>20</td>\n",
       "      <td>Business travel</td>\n",
       "      <td>Eco</td>\n",
       "      <td>192</td>\n",
       "      <td>2</td>\n",
       "      <td>0</td>\n",
       "      <td>...</td>\n",
       "      <td>2</td>\n",
       "      <td>4</td>\n",
       "      <td>1</td>\n",
       "      <td>3</td>\n",
       "      <td>2</td>\n",
       "      <td>2</td>\n",
       "      <td>2</td>\n",
       "      <td>0</td>\n",
       "      <td>0.0</td>\n",
       "      <td>neutral or dissatisfied</td>\n",
       "    </tr>\n",
       "    <tr>\n",
       "      <th>3</th>\n",
       "      <td>3</td>\n",
       "      <td>77959</td>\n",
       "      <td>Male</td>\n",
       "      <td>Loyal Customer</td>\n",
       "      <td>44</td>\n",
       "      <td>Business travel</td>\n",
       "      <td>Business</td>\n",
       "      <td>3377</td>\n",
       "      <td>0</td>\n",
       "      <td>0</td>\n",
       "      <td>...</td>\n",
       "      <td>1</td>\n",
       "      <td>1</td>\n",
       "      <td>1</td>\n",
       "      <td>1</td>\n",
       "      <td>3</td>\n",
       "      <td>1</td>\n",
       "      <td>4</td>\n",
       "      <td>0</td>\n",
       "      <td>6.0</td>\n",
       "      <td>satisfied</td>\n",
       "    </tr>\n",
       "    <tr>\n",
       "      <th>4</th>\n",
       "      <td>4</td>\n",
       "      <td>36875</td>\n",
       "      <td>Female</td>\n",
       "      <td>Loyal Customer</td>\n",
       "      <td>49</td>\n",
       "      <td>Business travel</td>\n",
       "      <td>Eco</td>\n",
       "      <td>1182</td>\n",
       "      <td>2</td>\n",
       "      <td>3</td>\n",
       "      <td>...</td>\n",
       "      <td>2</td>\n",
       "      <td>2</td>\n",
       "      <td>2</td>\n",
       "      <td>2</td>\n",
       "      <td>4</td>\n",
       "      <td>2</td>\n",
       "      <td>4</td>\n",
       "      <td>0</td>\n",
       "      <td>20.0</td>\n",
       "      <td>satisfied</td>\n",
       "    </tr>\n",
       "  </tbody>\n",
       "</table>\n",
       "<p>5 rows × 25 columns</p>\n",
       "</div>"
      ],
      "text/plain": [
       "   Unnamed: 0     id  Gender      Customer Type  Age   Type of Travel  \\\n",
       "0           0  19556  Female     Loyal Customer   52  Business travel   \n",
       "1           1  90035  Female     Loyal Customer   36  Business travel   \n",
       "2           2  12360    Male  disloyal Customer   20  Business travel   \n",
       "3           3  77959    Male     Loyal Customer   44  Business travel   \n",
       "4           4  36875  Female     Loyal Customer   49  Business travel   \n",
       "\n",
       "      Class  Flight Distance  Inflight wifi service  \\\n",
       "0       Eco              160                      5   \n",
       "1  Business             2863                      1   \n",
       "2       Eco              192                      2   \n",
       "3  Business             3377                      0   \n",
       "4       Eco             1182                      2   \n",
       "\n",
       "   Departure/Arrival time convenient  ...  Inflight entertainment  \\\n",
       "0                                  4  ...                       5   \n",
       "1                                  1  ...                       4   \n",
       "2                                  0  ...                       2   \n",
       "3                                  0  ...                       1   \n",
       "4                                  3  ...                       2   \n",
       "\n",
       "   On-board service  Leg room service  Baggage handling  Checkin service  \\\n",
       "0                 5                 5                 5                2   \n",
       "1                 4                 4                 4                3   \n",
       "2                 4                 1                 3                2   \n",
       "3                 1                 1                 1                3   \n",
       "4                 2                 2                 2                4   \n",
       "\n",
       "   Inflight service  Cleanliness  Departure Delay in Minutes  \\\n",
       "0                 5            5                          50   \n",
       "1                 4            5                           0   \n",
       "2                 2            2                           0   \n",
       "3                 1            4                           0   \n",
       "4                 2            4                           0   \n",
       "\n",
       "   Arrival Delay in Minutes             satisfaction  \n",
       "0                      44.0                satisfied  \n",
       "1                       0.0                satisfied  \n",
       "2                       0.0  neutral or dissatisfied  \n",
       "3                       6.0                satisfied  \n",
       "4                      20.0                satisfied  \n",
       "\n",
       "[5 rows x 25 columns]"
      ]
     },
     "execution_count": 134,
     "metadata": {},
     "output_type": "execute_result"
    }
   ],
   "source": [
    "# #  first five data in the dataset\n",
    "df1.head()"
   ]
  },
  {
   "cell_type": "code",
   "execution_count": 135,
   "metadata": {
    "colab": {
     "base_uri": "https://localhost:8080/",
     "height": 438
    },
    "executionInfo": {
     "elapsed": 102,
     "status": "ok",
     "timestamp": 1670050926103,
     "user": {
      "displayName": "Shrikant Chormale",
      "userId": "06649212260482941230"
     },
     "user_tz": -330
    },
    "id": "7d3bdad7-f0ef-4637-b7f9-230291057d5e",
    "outputId": "c66a0526-88ec-4c22-f70e-a741c4334560"
   },
   "outputs": [
    {
     "data": {
      "text/html": [
       "<div>\n",
       "<style scoped>\n",
       "    .dataframe tbody tr th:only-of-type {\n",
       "        vertical-align: middle;\n",
       "    }\n",
       "\n",
       "    .dataframe tbody tr th {\n",
       "        vertical-align: top;\n",
       "    }\n",
       "\n",
       "    .dataframe thead th {\n",
       "        text-align: right;\n",
       "    }\n",
       "</style>\n",
       "<table border=\"1\" class=\"dataframe\">\n",
       "  <thead>\n",
       "    <tr style=\"text-align: right;\">\n",
       "      <th></th>\n",
       "      <th>Unnamed: 0</th>\n",
       "      <th>id</th>\n",
       "      <th>Gender</th>\n",
       "      <th>Customer Type</th>\n",
       "      <th>Age</th>\n",
       "      <th>Type of Travel</th>\n",
       "      <th>Class</th>\n",
       "      <th>Flight Distance</th>\n",
       "      <th>Inflight wifi service</th>\n",
       "      <th>Departure/Arrival time convenient</th>\n",
       "      <th>...</th>\n",
       "      <th>Inflight entertainment</th>\n",
       "      <th>On-board service</th>\n",
       "      <th>Leg room service</th>\n",
       "      <th>Baggage handling</th>\n",
       "      <th>Checkin service</th>\n",
       "      <th>Inflight service</th>\n",
       "      <th>Cleanliness</th>\n",
       "      <th>Departure Delay in Minutes</th>\n",
       "      <th>Arrival Delay in Minutes</th>\n",
       "      <th>satisfaction</th>\n",
       "    </tr>\n",
       "  </thead>\n",
       "  <tbody>\n",
       "    <tr>\n",
       "      <th>16596</th>\n",
       "      <td>103899</td>\n",
       "      <td>94171</td>\n",
       "      <td>Female</td>\n",
       "      <td>disloyal Customer</td>\n",
       "      <td>23</td>\n",
       "      <td>Business travel</td>\n",
       "      <td>Eco</td>\n",
       "      <td>192</td>\n",
       "      <td>2</td>\n",
       "      <td>1</td>\n",
       "      <td>...</td>\n",
       "      <td>2</td>\n",
       "      <td>3</td>\n",
       "      <td>1</td>\n",
       "      <td>4</td>\n",
       "      <td>2</td>\n",
       "      <td>3</td>\n",
       "      <td>2</td>\n",
       "      <td>3</td>\n",
       "      <td>0.0</td>\n",
       "      <td>neutral or dissatisfied</td>\n",
       "    </tr>\n",
       "    <tr>\n",
       "      <th>16597</th>\n",
       "      <td>103900</td>\n",
       "      <td>73097</td>\n",
       "      <td>Male</td>\n",
       "      <td>Loyal Customer</td>\n",
       "      <td>49</td>\n",
       "      <td>Business travel</td>\n",
       "      <td>Business</td>\n",
       "      <td>2347</td>\n",
       "      <td>4</td>\n",
       "      <td>4</td>\n",
       "      <td>...</td>\n",
       "      <td>5</td>\n",
       "      <td>5</td>\n",
       "      <td>5</td>\n",
       "      <td>5</td>\n",
       "      <td>5</td>\n",
       "      <td>5</td>\n",
       "      <td>4</td>\n",
       "      <td>0</td>\n",
       "      <td>0.0</td>\n",
       "      <td>satisfied</td>\n",
       "    </tr>\n",
       "    <tr>\n",
       "      <th>16598</th>\n",
       "      <td>103901</td>\n",
       "      <td>68825</td>\n",
       "      <td>Male</td>\n",
       "      <td>disloyal Customer</td>\n",
       "      <td>30</td>\n",
       "      <td>Business travel</td>\n",
       "      <td>Business</td>\n",
       "      <td>1995</td>\n",
       "      <td>1</td>\n",
       "      <td>1</td>\n",
       "      <td>...</td>\n",
       "      <td>4</td>\n",
       "      <td>3</td>\n",
       "      <td>2</td>\n",
       "      <td>4</td>\n",
       "      <td>5</td>\n",
       "      <td>5</td>\n",
       "      <td>4</td>\n",
       "      <td>7</td>\n",
       "      <td>14.0</td>\n",
       "      <td>neutral or dissatisfied</td>\n",
       "    </tr>\n",
       "    <tr>\n",
       "      <th>16599</th>\n",
       "      <td>103902</td>\n",
       "      <td>54173</td>\n",
       "      <td>Female</td>\n",
       "      <td>disloyal Customer</td>\n",
       "      <td>22</td>\n",
       "      <td>Business travel</td>\n",
       "      <td>Eco</td>\n",
       "      <td>1000</td>\n",
       "      <td>1</td>\n",
       "      <td>1</td>\n",
       "      <td>...</td>\n",
       "      <td>1</td>\n",
       "      <td>4</td>\n",
       "      <td>5</td>\n",
       "      <td>1</td>\n",
       "      <td>5</td>\n",
       "      <td>4</td>\n",
       "      <td>1</td>\n",
       "      <td>0</td>\n",
       "      <td>0.0</td>\n",
       "      <td>neutral or dissatisfied</td>\n",
       "    </tr>\n",
       "    <tr>\n",
       "      <th>16600</th>\n",
       "      <td>103903</td>\n",
       "      <td>62567</td>\n",
       "      <td>Male</td>\n",
       "      <td>Loyal Customer</td>\n",
       "      <td>27</td>\n",
       "      <td>Business travel</td>\n",
       "      <td>Business</td>\n",
       "      <td>1723</td>\n",
       "      <td>1</td>\n",
       "      <td>3</td>\n",
       "      <td>...</td>\n",
       "      <td>1</td>\n",
       "      <td>1</td>\n",
       "      <td>1</td>\n",
       "      <td>4</td>\n",
       "      <td>4</td>\n",
       "      <td>3</td>\n",
       "      <td>1</td>\n",
       "      <td>0</td>\n",
       "      <td>0.0</td>\n",
       "      <td>neutral or dissatisfied</td>\n",
       "    </tr>\n",
       "  </tbody>\n",
       "</table>\n",
       "<p>5 rows × 25 columns</p>\n",
       "</div>"
      ],
      "text/plain": [
       "       Unnamed: 0     id  Gender      Customer Type  Age   Type of Travel  \\\n",
       "16596      103899  94171  Female  disloyal Customer   23  Business travel   \n",
       "16597      103900  73097    Male     Loyal Customer   49  Business travel   \n",
       "16598      103901  68825    Male  disloyal Customer   30  Business travel   \n",
       "16599      103902  54173  Female  disloyal Customer   22  Business travel   \n",
       "16600      103903  62567    Male     Loyal Customer   27  Business travel   \n",
       "\n",
       "          Class  Flight Distance  Inflight wifi service  \\\n",
       "16596       Eco              192                      2   \n",
       "16597  Business             2347                      4   \n",
       "16598  Business             1995                      1   \n",
       "16599       Eco             1000                      1   \n",
       "16600  Business             1723                      1   \n",
       "\n",
       "       Departure/Arrival time convenient  ...  Inflight entertainment  \\\n",
       "16596                                  1  ...                       2   \n",
       "16597                                  4  ...                       5   \n",
       "16598                                  1  ...                       4   \n",
       "16599                                  1  ...                       1   \n",
       "16600                                  3  ...                       1   \n",
       "\n",
       "       On-board service  Leg room service  Baggage handling  Checkin service  \\\n",
       "16596                 3                 1                 4                2   \n",
       "16597                 5                 5                 5                5   \n",
       "16598                 3                 2                 4                5   \n",
       "16599                 4                 5                 1                5   \n",
       "16600                 1                 1                 4                4   \n",
       "\n",
       "       Inflight service  Cleanliness  Departure Delay in Minutes  \\\n",
       "16596                 3            2                           3   \n",
       "16597                 5            4                           0   \n",
       "16598                 5            4                           7   \n",
       "16599                 4            1                           0   \n",
       "16600                 3            1                           0   \n",
       "\n",
       "       Arrival Delay in Minutes             satisfaction  \n",
       "16596                       0.0  neutral or dissatisfied  \n",
       "16597                       0.0                satisfied  \n",
       "16598                      14.0  neutral or dissatisfied  \n",
       "16599                       0.0  neutral or dissatisfied  \n",
       "16600                       0.0  neutral or dissatisfied  \n",
       "\n",
       "[5 rows x 25 columns]"
      ]
     },
     "execution_count": 135,
     "metadata": {},
     "output_type": "execute_result"
    }
   ],
   "source": [
    "df.tail()"
   ]
  },
  {
   "cell_type": "code",
   "execution_count": 136,
   "metadata": {
    "executionInfo": {
     "elapsed": 100,
     "status": "ok",
     "timestamp": 1670050926103,
     "user": {
      "displayName": "Shrikant Chormale",
      "userId": "06649212260482941230"
     },
     "user_tz": -330
    },
    "id": "aa5738a7-0925-4724-a1b1-2a99dbbc26d3"
   },
   "outputs": [],
   "source": [
    "# concat the df and df1 dataset"
   ]
  },
  {
   "cell_type": "code",
   "execution_count": 137,
   "metadata": {
    "executionInfo": {
     "elapsed": 100,
     "status": "ok",
     "timestamp": 1670050926104,
     "user": {
      "displayName": "Shrikant Chormale",
      "userId": "06649212260482941230"
     },
     "user_tz": -330
    },
    "id": "5a9a8895-39ea-4aaa-be43-59f99a64faad"
   },
   "outputs": [],
   "source": [
    "df=pd.concat([df,df1],axis=0)"
   ]
  },
  {
   "cell_type": "code",
   "execution_count": 138,
   "metadata": {
    "colab": {
     "base_uri": "https://localhost:8080/",
     "height": 438
    },
    "executionInfo": {
     "elapsed": 101,
     "status": "ok",
     "timestamp": 1670050926105,
     "user": {
      "displayName": "Shrikant Chormale",
      "userId": "06649212260482941230"
     },
     "user_tz": -330
    },
    "id": "8c1a34f8-cc93-4656-8130-9f8aea6a6a62",
    "outputId": "d49fc01c-c19d-469c-9c71-7c9cb5e89507"
   },
   "outputs": [
    {
     "data": {
      "text/html": [
       "<div>\n",
       "<style scoped>\n",
       "    .dataframe tbody tr th:only-of-type {\n",
       "        vertical-align: middle;\n",
       "    }\n",
       "\n",
       "    .dataframe tbody tr th {\n",
       "        vertical-align: top;\n",
       "    }\n",
       "\n",
       "    .dataframe thead th {\n",
       "        text-align: right;\n",
       "    }\n",
       "</style>\n",
       "<table border=\"1\" class=\"dataframe\">\n",
       "  <thead>\n",
       "    <tr style=\"text-align: right;\">\n",
       "      <th></th>\n",
       "      <th>Unnamed: 0</th>\n",
       "      <th>id</th>\n",
       "      <th>Gender</th>\n",
       "      <th>Customer Type</th>\n",
       "      <th>Age</th>\n",
       "      <th>Type of Travel</th>\n",
       "      <th>Class</th>\n",
       "      <th>Flight Distance</th>\n",
       "      <th>Inflight wifi service</th>\n",
       "      <th>Departure/Arrival time convenient</th>\n",
       "      <th>...</th>\n",
       "      <th>Inflight entertainment</th>\n",
       "      <th>On-board service</th>\n",
       "      <th>Leg room service</th>\n",
       "      <th>Baggage handling</th>\n",
       "      <th>Checkin service</th>\n",
       "      <th>Inflight service</th>\n",
       "      <th>Cleanliness</th>\n",
       "      <th>Departure Delay in Minutes</th>\n",
       "      <th>Arrival Delay in Minutes</th>\n",
       "      <th>satisfaction</th>\n",
       "    </tr>\n",
       "  </thead>\n",
       "  <tbody>\n",
       "    <tr>\n",
       "      <th>0</th>\n",
       "      <td>87303</td>\n",
       "      <td>11149</td>\n",
       "      <td>Female</td>\n",
       "      <td>Loyal Customer</td>\n",
       "      <td>36</td>\n",
       "      <td>Personal Travel</td>\n",
       "      <td>Eco</td>\n",
       "      <td>429</td>\n",
       "      <td>3</td>\n",
       "      <td>4</td>\n",
       "      <td>...</td>\n",
       "      <td>3</td>\n",
       "      <td>5</td>\n",
       "      <td>1</td>\n",
       "      <td>4</td>\n",
       "      <td>2</td>\n",
       "      <td>5</td>\n",
       "      <td>3</td>\n",
       "      <td>12</td>\n",
       "      <td>20.0</td>\n",
       "      <td>neutral or dissatisfied</td>\n",
       "    </tr>\n",
       "    <tr>\n",
       "      <th>1</th>\n",
       "      <td>87304</td>\n",
       "      <td>109922</td>\n",
       "      <td>Female</td>\n",
       "      <td>Loyal Customer</td>\n",
       "      <td>40</td>\n",
       "      <td>Personal Travel</td>\n",
       "      <td>Eco</td>\n",
       "      <td>1034</td>\n",
       "      <td>2</td>\n",
       "      <td>5</td>\n",
       "      <td>...</td>\n",
       "      <td>2</td>\n",
       "      <td>4</td>\n",
       "      <td>5</td>\n",
       "      <td>5</td>\n",
       "      <td>5</td>\n",
       "      <td>5</td>\n",
       "      <td>2</td>\n",
       "      <td>0</td>\n",
       "      <td>0.0</td>\n",
       "      <td>neutral or dissatisfied</td>\n",
       "    </tr>\n",
       "    <tr>\n",
       "      <th>2</th>\n",
       "      <td>87305</td>\n",
       "      <td>56927</td>\n",
       "      <td>Female</td>\n",
       "      <td>disloyal Customer</td>\n",
       "      <td>49</td>\n",
       "      <td>Business travel</td>\n",
       "      <td>Business</td>\n",
       "      <td>2454</td>\n",
       "      <td>2</td>\n",
       "      <td>2</td>\n",
       "      <td>...</td>\n",
       "      <td>4</td>\n",
       "      <td>5</td>\n",
       "      <td>3</td>\n",
       "      <td>4</td>\n",
       "      <td>1</td>\n",
       "      <td>4</td>\n",
       "      <td>1</td>\n",
       "      <td>0</td>\n",
       "      <td>0.0</td>\n",
       "      <td>neutral or dissatisfied</td>\n",
       "    </tr>\n",
       "    <tr>\n",
       "      <th>3</th>\n",
       "      <td>87306</td>\n",
       "      <td>6882</td>\n",
       "      <td>Female</td>\n",
       "      <td>disloyal Customer</td>\n",
       "      <td>22</td>\n",
       "      <td>Business travel</td>\n",
       "      <td>Eco</td>\n",
       "      <td>265</td>\n",
       "      <td>2</td>\n",
       "      <td>0</td>\n",
       "      <td>...</td>\n",
       "      <td>5</td>\n",
       "      <td>3</td>\n",
       "      <td>4</td>\n",
       "      <td>5</td>\n",
       "      <td>4</td>\n",
       "      <td>4</td>\n",
       "      <td>5</td>\n",
       "      <td>0</td>\n",
       "      <td>0.0</td>\n",
       "      <td>neutral or dissatisfied</td>\n",
       "    </tr>\n",
       "    <tr>\n",
       "      <th>4</th>\n",
       "      <td>87307</td>\n",
       "      <td>118045</td>\n",
       "      <td>Female</td>\n",
       "      <td>disloyal Customer</td>\n",
       "      <td>29</td>\n",
       "      <td>Business travel</td>\n",
       "      <td>Business</td>\n",
       "      <td>1262</td>\n",
       "      <td>2</td>\n",
       "      <td>2</td>\n",
       "      <td>...</td>\n",
       "      <td>4</td>\n",
       "      <td>5</td>\n",
       "      <td>3</td>\n",
       "      <td>4</td>\n",
       "      <td>5</td>\n",
       "      <td>5</td>\n",
       "      <td>4</td>\n",
       "      <td>0</td>\n",
       "      <td>0.0</td>\n",
       "      <td>neutral or dissatisfied</td>\n",
       "    </tr>\n",
       "  </tbody>\n",
       "</table>\n",
       "<p>5 rows × 25 columns</p>\n",
       "</div>"
      ],
      "text/plain": [
       "   Unnamed: 0      id  Gender      Customer Type  Age   Type of Travel  \\\n",
       "0       87303   11149  Female     Loyal Customer   36  Personal Travel   \n",
       "1       87304  109922  Female     Loyal Customer   40  Personal Travel   \n",
       "2       87305   56927  Female  disloyal Customer   49  Business travel   \n",
       "3       87306    6882  Female  disloyal Customer   22  Business travel   \n",
       "4       87307  118045  Female  disloyal Customer   29  Business travel   \n",
       "\n",
       "      Class  Flight Distance  Inflight wifi service  \\\n",
       "0       Eco              429                      3   \n",
       "1       Eco             1034                      2   \n",
       "2  Business             2454                      2   \n",
       "3       Eco              265                      2   \n",
       "4  Business             1262                      2   \n",
       "\n",
       "   Departure/Arrival time convenient  ...  Inflight entertainment  \\\n",
       "0                                  4  ...                       3   \n",
       "1                                  5  ...                       2   \n",
       "2                                  2  ...                       4   \n",
       "3                                  0  ...                       5   \n",
       "4                                  2  ...                       4   \n",
       "\n",
       "   On-board service  Leg room service  Baggage handling  Checkin service  \\\n",
       "0                 5                 1                 4                2   \n",
       "1                 4                 5                 5                5   \n",
       "2                 5                 3                 4                1   \n",
       "3                 3                 4                 5                4   \n",
       "4                 5                 3                 4                5   \n",
       "\n",
       "   Inflight service  Cleanliness  Departure Delay in Minutes  \\\n",
       "0                 5            3                          12   \n",
       "1                 5            2                           0   \n",
       "2                 4            1                           0   \n",
       "3                 4            5                           0   \n",
       "4                 5            4                           0   \n",
       "\n",
       "   Arrival Delay in Minutes             satisfaction  \n",
       "0                      20.0  neutral or dissatisfied  \n",
       "1                       0.0  neutral or dissatisfied  \n",
       "2                       0.0  neutral or dissatisfied  \n",
       "3                       0.0  neutral or dissatisfied  \n",
       "4                       0.0  neutral or dissatisfied  \n",
       "\n",
       "[5 rows x 25 columns]"
      ]
     },
     "execution_count": 138,
     "metadata": {},
     "output_type": "execute_result"
    }
   ],
   "source": [
    "#   first five data in the dataset\n",
    "df.head()"
   ]
  },
  {
   "cell_type": "code",
   "execution_count": 139,
   "metadata": {
    "colab": {
     "base_uri": "https://localhost:8080/",
     "height": 438
    },
    "executionInfo": {
     "elapsed": 99,
     "status": "ok",
     "timestamp": 1670050926106,
     "user": {
      "displayName": "Shrikant Chormale",
      "userId": "06649212260482941230"
     },
     "user_tz": -330
    },
    "id": "042dbb20-aad8-47f9-8ad6-9bc18afc1c97",
    "outputId": "24f6a5ed-bde8-497f-f933-eebb59ea2002"
   },
   "outputs": [
    {
     "data": {
      "text/html": [
       "<div>\n",
       "<style scoped>\n",
       "    .dataframe tbody tr th:only-of-type {\n",
       "        vertical-align: middle;\n",
       "    }\n",
       "\n",
       "    .dataframe tbody tr th {\n",
       "        vertical-align: top;\n",
       "    }\n",
       "\n",
       "    .dataframe thead th {\n",
       "        text-align: right;\n",
       "    }\n",
       "</style>\n",
       "<table border=\"1\" class=\"dataframe\">\n",
       "  <thead>\n",
       "    <tr style=\"text-align: right;\">\n",
       "      <th></th>\n",
       "      <th>Unnamed: 0</th>\n",
       "      <th>id</th>\n",
       "      <th>Gender</th>\n",
       "      <th>Customer Type</th>\n",
       "      <th>Age</th>\n",
       "      <th>Type of Travel</th>\n",
       "      <th>Class</th>\n",
       "      <th>Flight Distance</th>\n",
       "      <th>Inflight wifi service</th>\n",
       "      <th>Departure/Arrival time convenient</th>\n",
       "      <th>...</th>\n",
       "      <th>Inflight entertainment</th>\n",
       "      <th>On-board service</th>\n",
       "      <th>Leg room service</th>\n",
       "      <th>Baggage handling</th>\n",
       "      <th>Checkin service</th>\n",
       "      <th>Inflight service</th>\n",
       "      <th>Cleanliness</th>\n",
       "      <th>Departure Delay in Minutes</th>\n",
       "      <th>Arrival Delay in Minutes</th>\n",
       "      <th>satisfaction</th>\n",
       "    </tr>\n",
       "  </thead>\n",
       "  <tbody>\n",
       "    <tr>\n",
       "      <th>25971</th>\n",
       "      <td>25971</td>\n",
       "      <td>78463</td>\n",
       "      <td>Male</td>\n",
       "      <td>disloyal Customer</td>\n",
       "      <td>34</td>\n",
       "      <td>Business travel</td>\n",
       "      <td>Business</td>\n",
       "      <td>526</td>\n",
       "      <td>3</td>\n",
       "      <td>3</td>\n",
       "      <td>...</td>\n",
       "      <td>4</td>\n",
       "      <td>3</td>\n",
       "      <td>2</td>\n",
       "      <td>4</td>\n",
       "      <td>4</td>\n",
       "      <td>5</td>\n",
       "      <td>4</td>\n",
       "      <td>0</td>\n",
       "      <td>0.0</td>\n",
       "      <td>neutral or dissatisfied</td>\n",
       "    </tr>\n",
       "    <tr>\n",
       "      <th>25972</th>\n",
       "      <td>25972</td>\n",
       "      <td>71167</td>\n",
       "      <td>Male</td>\n",
       "      <td>Loyal Customer</td>\n",
       "      <td>23</td>\n",
       "      <td>Business travel</td>\n",
       "      <td>Business</td>\n",
       "      <td>646</td>\n",
       "      <td>4</td>\n",
       "      <td>4</td>\n",
       "      <td>...</td>\n",
       "      <td>4</td>\n",
       "      <td>4</td>\n",
       "      <td>5</td>\n",
       "      <td>5</td>\n",
       "      <td>5</td>\n",
       "      <td>5</td>\n",
       "      <td>4</td>\n",
       "      <td>0</td>\n",
       "      <td>0.0</td>\n",
       "      <td>satisfied</td>\n",
       "    </tr>\n",
       "    <tr>\n",
       "      <th>25973</th>\n",
       "      <td>25973</td>\n",
       "      <td>37675</td>\n",
       "      <td>Female</td>\n",
       "      <td>Loyal Customer</td>\n",
       "      <td>17</td>\n",
       "      <td>Personal Travel</td>\n",
       "      <td>Eco</td>\n",
       "      <td>828</td>\n",
       "      <td>2</td>\n",
       "      <td>5</td>\n",
       "      <td>...</td>\n",
       "      <td>2</td>\n",
       "      <td>4</td>\n",
       "      <td>3</td>\n",
       "      <td>4</td>\n",
       "      <td>5</td>\n",
       "      <td>4</td>\n",
       "      <td>2</td>\n",
       "      <td>0</td>\n",
       "      <td>0.0</td>\n",
       "      <td>neutral or dissatisfied</td>\n",
       "    </tr>\n",
       "    <tr>\n",
       "      <th>25974</th>\n",
       "      <td>25974</td>\n",
       "      <td>90086</td>\n",
       "      <td>Male</td>\n",
       "      <td>Loyal Customer</td>\n",
       "      <td>14</td>\n",
       "      <td>Business travel</td>\n",
       "      <td>Business</td>\n",
       "      <td>1127</td>\n",
       "      <td>3</td>\n",
       "      <td>3</td>\n",
       "      <td>...</td>\n",
       "      <td>4</td>\n",
       "      <td>3</td>\n",
       "      <td>2</td>\n",
       "      <td>5</td>\n",
       "      <td>4</td>\n",
       "      <td>5</td>\n",
       "      <td>4</td>\n",
       "      <td>0</td>\n",
       "      <td>0.0</td>\n",
       "      <td>satisfied</td>\n",
       "    </tr>\n",
       "    <tr>\n",
       "      <th>25975</th>\n",
       "      <td>25975</td>\n",
       "      <td>34799</td>\n",
       "      <td>Female</td>\n",
       "      <td>Loyal Customer</td>\n",
       "      <td>42</td>\n",
       "      <td>Personal Travel</td>\n",
       "      <td>Eco</td>\n",
       "      <td>264</td>\n",
       "      <td>2</td>\n",
       "      <td>5</td>\n",
       "      <td>...</td>\n",
       "      <td>1</td>\n",
       "      <td>1</td>\n",
       "      <td>2</td>\n",
       "      <td>1</td>\n",
       "      <td>1</td>\n",
       "      <td>1</td>\n",
       "      <td>1</td>\n",
       "      <td>0</td>\n",
       "      <td>0.0</td>\n",
       "      <td>neutral or dissatisfied</td>\n",
       "    </tr>\n",
       "  </tbody>\n",
       "</table>\n",
       "<p>5 rows × 25 columns</p>\n",
       "</div>"
      ],
      "text/plain": [
       "       Unnamed: 0     id  Gender      Customer Type  Age   Type of Travel  \\\n",
       "25971       25971  78463    Male  disloyal Customer   34  Business travel   \n",
       "25972       25972  71167    Male     Loyal Customer   23  Business travel   \n",
       "25973       25973  37675  Female     Loyal Customer   17  Personal Travel   \n",
       "25974       25974  90086    Male     Loyal Customer   14  Business travel   \n",
       "25975       25975  34799  Female     Loyal Customer   42  Personal Travel   \n",
       "\n",
       "          Class  Flight Distance  Inflight wifi service  \\\n",
       "25971  Business              526                      3   \n",
       "25972  Business              646                      4   \n",
       "25973       Eco              828                      2   \n",
       "25974  Business             1127                      3   \n",
       "25975       Eco              264                      2   \n",
       "\n",
       "       Departure/Arrival time convenient  ...  Inflight entertainment  \\\n",
       "25971                                  3  ...                       4   \n",
       "25972                                  4  ...                       4   \n",
       "25973                                  5  ...                       2   \n",
       "25974                                  3  ...                       4   \n",
       "25975                                  5  ...                       1   \n",
       "\n",
       "       On-board service  Leg room service  Baggage handling  Checkin service  \\\n",
       "25971                 3                 2                 4                4   \n",
       "25972                 4                 5                 5                5   \n",
       "25973                 4                 3                 4                5   \n",
       "25974                 3                 2                 5                4   \n",
       "25975                 1                 2                 1                1   \n",
       "\n",
       "       Inflight service  Cleanliness  Departure Delay in Minutes  \\\n",
       "25971                 5            4                           0   \n",
       "25972                 5            4                           0   \n",
       "25973                 4            2                           0   \n",
       "25974                 5            4                           0   \n",
       "25975                 1            1                           0   \n",
       "\n",
       "       Arrival Delay in Minutes             satisfaction  \n",
       "25971                       0.0  neutral or dissatisfied  \n",
       "25972                       0.0                satisfied  \n",
       "25973                       0.0  neutral or dissatisfied  \n",
       "25974                       0.0                satisfied  \n",
       "25975                       0.0  neutral or dissatisfied  \n",
       "\n",
       "[5 rows x 25 columns]"
      ]
     },
     "execution_count": 139,
     "metadata": {},
     "output_type": "execute_result"
    }
   ],
   "source": [
    "#  last five data in the dataset\n",
    "df.tail()"
   ]
  },
  {
   "cell_type": "code",
   "execution_count": 140,
   "metadata": {
    "colab": {
     "base_uri": "https://localhost:8080/"
    },
    "executionInfo": {
     "elapsed": 98,
     "status": "ok",
     "timestamp": 1670050926107,
     "user": {
      "displayName": "Shrikant Chormale",
      "userId": "06649212260482941230"
     },
     "user_tz": -330
    },
    "id": "c8c85db4-e0b1-418f-8295-12761e526fa8",
    "outputId": "544f99f6-1d2b-4312-c7f7-a43f779207cd"
   },
   "outputs": [
    {
     "data": {
      "text/plain": [
       "(42577, 25)"
      ]
     },
     "execution_count": 140,
     "metadata": {},
     "output_type": "execute_result"
    }
   ],
   "source": [
    "df.shape"
   ]
  },
  {
   "cell_type": "code",
   "execution_count": 141,
   "metadata": {
    "colab": {
     "base_uri": "https://localhost:8080/"
    },
    "executionInfo": {
     "elapsed": 76,
     "status": "ok",
     "timestamp": 1670050926107,
     "user": {
      "displayName": "Shrikant Chormale",
      "userId": "06649212260482941230"
     },
     "user_tz": -330
    },
    "id": "60a60b6d-4bf0-4b09-ba6a-cf6d5e1d4672",
    "outputId": "de3593a6-b24d-4f58-ffdc-ad6770407981"
   },
   "outputs": [
    {
     "data": {
      "text/plain": [
       "1064425"
      ]
     },
     "execution_count": 141,
     "metadata": {},
     "output_type": "execute_result"
    }
   ],
   "source": [
    "df.size"
   ]
  },
  {
   "cell_type": "markdown",
   "metadata": {
    "id": "f89395bb-affb-4463-8a0a-03a449f14a58"
   },
   "source": [
    "#conclude=#conclude-We can see that the dataset has 129880 observations and 25 features, and one of those features is the target variable."
   ]
  },
  {
   "cell_type": "code",
   "execution_count": 142,
   "metadata": {
    "colab": {
     "base_uri": "https://localhost:8080/"
    },
    "executionInfo": {
     "elapsed": 72,
     "status": "ok",
     "timestamp": 1670050926108,
     "user": {
      "displayName": "Shrikant Chormale",
      "userId": "06649212260482941230"
     },
     "user_tz": -330
    },
    "id": "acf6075d-167d-4e36-8c0e-8f65115b2ddd",
    "outputId": "1c110df1-c308-4728-97d1-a22e47ca56e9"
   },
   "outputs": [
    {
     "name": "stdout",
     "output_type": "stream",
     "text": [
      "<class 'pandas.core.frame.DataFrame'>\n",
      "Int64Index: 42577 entries, 0 to 25975\n",
      "Data columns (total 25 columns):\n",
      " #   Column                             Non-Null Count  Dtype  \n",
      "---  ------                             --------------  -----  \n",
      " 0   Unnamed: 0                         42577 non-null  int64  \n",
      " 1   id                                 42577 non-null  int64  \n",
      " 2   Gender                             42577 non-null  object \n",
      " 3   Customer Type                      42577 non-null  object \n",
      " 4   Age                                42577 non-null  int64  \n",
      " 5   Type of Travel                     42577 non-null  object \n",
      " 6   Class                              42577 non-null  object \n",
      " 7   Flight Distance                    42577 non-null  int64  \n",
      " 8   Inflight wifi service              42577 non-null  int64  \n",
      " 9   Departure/Arrival time convenient  42577 non-null  int64  \n",
      " 10  Ease of Online booking             42577 non-null  int64  \n",
      " 11  Gate location                      42577 non-null  int64  \n",
      " 12  Food and drink                     42577 non-null  int64  \n",
      " 13  Online boarding                    42577 non-null  int64  \n",
      " 14  Seat comfort                       42577 non-null  int64  \n",
      " 15  Inflight entertainment             42577 non-null  int64  \n",
      " 16  On-board service                   42577 non-null  int64  \n",
      " 17  Leg room service                   42577 non-null  int64  \n",
      " 18  Baggage handling                   42577 non-null  int64  \n",
      " 19  Checkin service                    42577 non-null  int64  \n",
      " 20  Inflight service                   42577 non-null  int64  \n",
      " 21  Cleanliness                        42577 non-null  int64  \n",
      " 22  Departure Delay in Minutes         42577 non-null  int64  \n",
      " 23  Arrival Delay in Minutes           42451 non-null  float64\n",
      " 24  satisfaction                       42577 non-null  object \n",
      "dtypes: float64(1), int64(19), object(5)\n",
      "memory usage: 8.4+ MB\n"
     ]
    }
   ],
   "source": [
    "# get the information of the data \n",
    "df.info()"
   ]
  },
  {
   "cell_type": "markdown",
   "metadata": {
    "id": "ad117c85-d2ea-437b-82d8-d296d52806bc"
   },
   "source": [
    "#conclude-We can observe that the dataset has a combination of categorical (object)=5 and numeric (float and int)-20 features"
   ]
  },
  {
   "cell_type": "markdown",
   "metadata": {
    "id": "466b9e29-0037-485d-997d-5325e3797e49"
   },
   "source": [
    "# Dropping unused  columns."
   ]
  },
  {
   "cell_type": "code",
   "execution_count": 143,
   "metadata": {
    "executionInfo": {
     "elapsed": 67,
     "status": "ok",
     "timestamp": 1670050926109,
     "user": {
      "displayName": "Shrikant Chormale",
      "userId": "06649212260482941230"
     },
     "user_tz": -330
    },
    "id": "661d515d-21ff-493d-8fab-47ef93e33572"
   },
   "outputs": [],
   "source": [
    "# 'Unnamed' and 'id' columms are irrelevant and needs to be dropped.\n",
    "df.drop(columns = ['Unnamed: 0', 'id'], inplace = True)"
   ]
  },
  {
   "cell_type": "code",
   "execution_count": 144,
   "metadata": {
    "colab": {
     "base_uri": "https://localhost:8080/",
     "height": 438
    },
    "executionInfo": {
     "elapsed": 66,
     "status": "ok",
     "timestamp": 1670050926109,
     "user": {
      "displayName": "Shrikant Chormale",
      "userId": "06649212260482941230"
     },
     "user_tz": -330
    },
    "id": "869c5352-725f-400c-a6b8-2e8773952f33",
    "outputId": "041f741d-292d-4d0d-b931-a44ff1c1feac"
   },
   "outputs": [
    {
     "data": {
      "text/html": [
       "<div>\n",
       "<style scoped>\n",
       "    .dataframe tbody tr th:only-of-type {\n",
       "        vertical-align: middle;\n",
       "    }\n",
       "\n",
       "    .dataframe tbody tr th {\n",
       "        vertical-align: top;\n",
       "    }\n",
       "\n",
       "    .dataframe thead th {\n",
       "        text-align: right;\n",
       "    }\n",
       "</style>\n",
       "<table border=\"1\" class=\"dataframe\">\n",
       "  <thead>\n",
       "    <tr style=\"text-align: right;\">\n",
       "      <th></th>\n",
       "      <th>Gender</th>\n",
       "      <th>Customer Type</th>\n",
       "      <th>Age</th>\n",
       "      <th>Type of Travel</th>\n",
       "      <th>Class</th>\n",
       "      <th>Flight Distance</th>\n",
       "      <th>Inflight wifi service</th>\n",
       "      <th>Departure/Arrival time convenient</th>\n",
       "      <th>Ease of Online booking</th>\n",
       "      <th>Gate location</th>\n",
       "      <th>...</th>\n",
       "      <th>Inflight entertainment</th>\n",
       "      <th>On-board service</th>\n",
       "      <th>Leg room service</th>\n",
       "      <th>Baggage handling</th>\n",
       "      <th>Checkin service</th>\n",
       "      <th>Inflight service</th>\n",
       "      <th>Cleanliness</th>\n",
       "      <th>Departure Delay in Minutes</th>\n",
       "      <th>Arrival Delay in Minutes</th>\n",
       "      <th>satisfaction</th>\n",
       "    </tr>\n",
       "  </thead>\n",
       "  <tbody>\n",
       "    <tr>\n",
       "      <th>0</th>\n",
       "      <td>Female</td>\n",
       "      <td>Loyal Customer</td>\n",
       "      <td>36</td>\n",
       "      <td>Personal Travel</td>\n",
       "      <td>Eco</td>\n",
       "      <td>429</td>\n",
       "      <td>3</td>\n",
       "      <td>4</td>\n",
       "      <td>3</td>\n",
       "      <td>3</td>\n",
       "      <td>...</td>\n",
       "      <td>3</td>\n",
       "      <td>5</td>\n",
       "      <td>1</td>\n",
       "      <td>4</td>\n",
       "      <td>2</td>\n",
       "      <td>5</td>\n",
       "      <td>3</td>\n",
       "      <td>12</td>\n",
       "      <td>20.0</td>\n",
       "      <td>neutral or dissatisfied</td>\n",
       "    </tr>\n",
       "    <tr>\n",
       "      <th>1</th>\n",
       "      <td>Female</td>\n",
       "      <td>Loyal Customer</td>\n",
       "      <td>40</td>\n",
       "      <td>Personal Travel</td>\n",
       "      <td>Eco</td>\n",
       "      <td>1034</td>\n",
       "      <td>2</td>\n",
       "      <td>5</td>\n",
       "      <td>2</td>\n",
       "      <td>3</td>\n",
       "      <td>...</td>\n",
       "      <td>2</td>\n",
       "      <td>4</td>\n",
       "      <td>5</td>\n",
       "      <td>5</td>\n",
       "      <td>5</td>\n",
       "      <td>5</td>\n",
       "      <td>2</td>\n",
       "      <td>0</td>\n",
       "      <td>0.0</td>\n",
       "      <td>neutral or dissatisfied</td>\n",
       "    </tr>\n",
       "    <tr>\n",
       "      <th>2</th>\n",
       "      <td>Female</td>\n",
       "      <td>disloyal Customer</td>\n",
       "      <td>49</td>\n",
       "      <td>Business travel</td>\n",
       "      <td>Business</td>\n",
       "      <td>2454</td>\n",
       "      <td>2</td>\n",
       "      <td>2</td>\n",
       "      <td>2</td>\n",
       "      <td>2</td>\n",
       "      <td>...</td>\n",
       "      <td>4</td>\n",
       "      <td>5</td>\n",
       "      <td>3</td>\n",
       "      <td>4</td>\n",
       "      <td>1</td>\n",
       "      <td>4</td>\n",
       "      <td>1</td>\n",
       "      <td>0</td>\n",
       "      <td>0.0</td>\n",
       "      <td>neutral or dissatisfied</td>\n",
       "    </tr>\n",
       "    <tr>\n",
       "      <th>3</th>\n",
       "      <td>Female</td>\n",
       "      <td>disloyal Customer</td>\n",
       "      <td>22</td>\n",
       "      <td>Business travel</td>\n",
       "      <td>Eco</td>\n",
       "      <td>265</td>\n",
       "      <td>2</td>\n",
       "      <td>0</td>\n",
       "      <td>2</td>\n",
       "      <td>1</td>\n",
       "      <td>...</td>\n",
       "      <td>5</td>\n",
       "      <td>3</td>\n",
       "      <td>4</td>\n",
       "      <td>5</td>\n",
       "      <td>4</td>\n",
       "      <td>4</td>\n",
       "      <td>5</td>\n",
       "      <td>0</td>\n",
       "      <td>0.0</td>\n",
       "      <td>neutral or dissatisfied</td>\n",
       "    </tr>\n",
       "    <tr>\n",
       "      <th>4</th>\n",
       "      <td>Female</td>\n",
       "      <td>disloyal Customer</td>\n",
       "      <td>29</td>\n",
       "      <td>Business travel</td>\n",
       "      <td>Business</td>\n",
       "      <td>1262</td>\n",
       "      <td>2</td>\n",
       "      <td>2</td>\n",
       "      <td>2</td>\n",
       "      <td>2</td>\n",
       "      <td>...</td>\n",
       "      <td>4</td>\n",
       "      <td>5</td>\n",
       "      <td>3</td>\n",
       "      <td>4</td>\n",
       "      <td>5</td>\n",
       "      <td>5</td>\n",
       "      <td>4</td>\n",
       "      <td>0</td>\n",
       "      <td>0.0</td>\n",
       "      <td>neutral or dissatisfied</td>\n",
       "    </tr>\n",
       "  </tbody>\n",
       "</table>\n",
       "<p>5 rows × 23 columns</p>\n",
       "</div>"
      ],
      "text/plain": [
       "   Gender      Customer Type  Age   Type of Travel     Class  Flight Distance  \\\n",
       "0  Female     Loyal Customer   36  Personal Travel       Eco              429   \n",
       "1  Female     Loyal Customer   40  Personal Travel       Eco             1034   \n",
       "2  Female  disloyal Customer   49  Business travel  Business             2454   \n",
       "3  Female  disloyal Customer   22  Business travel       Eco              265   \n",
       "4  Female  disloyal Customer   29  Business travel  Business             1262   \n",
       "\n",
       "   Inflight wifi service  Departure/Arrival time convenient  \\\n",
       "0                      3                                  4   \n",
       "1                      2                                  5   \n",
       "2                      2                                  2   \n",
       "3                      2                                  0   \n",
       "4                      2                                  2   \n",
       "\n",
       "   Ease of Online booking  Gate location  ...  Inflight entertainment  \\\n",
       "0                       3              3  ...                       3   \n",
       "1                       2              3  ...                       2   \n",
       "2                       2              2  ...                       4   \n",
       "3                       2              1  ...                       5   \n",
       "4                       2              2  ...                       4   \n",
       "\n",
       "   On-board service  Leg room service  Baggage handling  Checkin service  \\\n",
       "0                 5                 1                 4                2   \n",
       "1                 4                 5                 5                5   \n",
       "2                 5                 3                 4                1   \n",
       "3                 3                 4                 5                4   \n",
       "4                 5                 3                 4                5   \n",
       "\n",
       "   Inflight service  Cleanliness  Departure Delay in Minutes  \\\n",
       "0                 5            3                          12   \n",
       "1                 5            2                           0   \n",
       "2                 4            1                           0   \n",
       "3                 4            5                           0   \n",
       "4                 5            4                           0   \n",
       "\n",
       "   Arrival Delay in Minutes             satisfaction  \n",
       "0                      20.0  neutral or dissatisfied  \n",
       "1                       0.0  neutral or dissatisfied  \n",
       "2                       0.0  neutral or dissatisfied  \n",
       "3                       0.0  neutral or dissatisfied  \n",
       "4                       0.0  neutral or dissatisfied  \n",
       "\n",
       "[5 rows x 23 columns]"
      ]
     },
     "execution_count": 144,
     "metadata": {},
     "output_type": "execute_result"
    }
   ],
   "source": [
    "df.head()"
   ]
  },
  {
   "cell_type": "code",
   "execution_count": 145,
   "metadata": {
    "colab": {
     "base_uri": "https://localhost:8080/",
     "height": 399
    },
    "executionInfo": {
     "elapsed": 78,
     "status": "ok",
     "timestamp": 1670050926686,
     "user": {
      "displayName": "Shrikant Chormale",
      "userId": "06649212260482941230"
     },
     "user_tz": -330
    },
    "id": "373e76f1-7b57-40ea-847d-b0cd901648f1",
    "outputId": "18e5e1af-4061-4d7b-9a11-82c60b469da7"
   },
   "outputs": [
    {
     "data": {
      "text/html": [
       "<div>\n",
       "<style scoped>\n",
       "    .dataframe tbody tr th:only-of-type {\n",
       "        vertical-align: middle;\n",
       "    }\n",
       "\n",
       "    .dataframe tbody tr th {\n",
       "        vertical-align: top;\n",
       "    }\n",
       "\n",
       "    .dataframe thead th {\n",
       "        text-align: right;\n",
       "    }\n",
       "</style>\n",
       "<table border=\"1\" class=\"dataframe\">\n",
       "  <thead>\n",
       "    <tr style=\"text-align: right;\">\n",
       "      <th></th>\n",
       "      <th>Age</th>\n",
       "      <th>Flight Distance</th>\n",
       "      <th>Inflight wifi service</th>\n",
       "      <th>Departure/Arrival time convenient</th>\n",
       "      <th>Ease of Online booking</th>\n",
       "      <th>Gate location</th>\n",
       "      <th>Food and drink</th>\n",
       "      <th>Online boarding</th>\n",
       "      <th>Seat comfort</th>\n",
       "      <th>Inflight entertainment</th>\n",
       "      <th>On-board service</th>\n",
       "      <th>Leg room service</th>\n",
       "      <th>Baggage handling</th>\n",
       "      <th>Checkin service</th>\n",
       "      <th>Inflight service</th>\n",
       "      <th>Cleanliness</th>\n",
       "      <th>Departure Delay in Minutes</th>\n",
       "      <th>Arrival Delay in Minutes</th>\n",
       "    </tr>\n",
       "  </thead>\n",
       "  <tbody>\n",
       "    <tr>\n",
       "      <th>count</th>\n",
       "      <td>42577.000000</td>\n",
       "      <td>42577.000000</td>\n",
       "      <td>42577.000000</td>\n",
       "      <td>42577.000000</td>\n",
       "      <td>42577.000000</td>\n",
       "      <td>42577.000000</td>\n",
       "      <td>42577.000000</td>\n",
       "      <td>42577.000000</td>\n",
       "      <td>42577.000000</td>\n",
       "      <td>42577.000000</td>\n",
       "      <td>42577.000000</td>\n",
       "      <td>42577.000000</td>\n",
       "      <td>42577.000000</td>\n",
       "      <td>42577.000000</td>\n",
       "      <td>42577.000000</td>\n",
       "      <td>42577.000000</td>\n",
       "      <td>42577.000000</td>\n",
       "      <td>42451.000000</td>\n",
       "    </tr>\n",
       "    <tr>\n",
       "      <th>mean</th>\n",
       "      <td>39.550438</td>\n",
       "      <td>1197.359936</td>\n",
       "      <td>2.727177</td>\n",
       "      <td>3.057214</td>\n",
       "      <td>2.762383</td>\n",
       "      <td>2.983019</td>\n",
       "      <td>3.211875</td>\n",
       "      <td>3.258543</td>\n",
       "      <td>3.446767</td>\n",
       "      <td>3.363506</td>\n",
       "      <td>3.387651</td>\n",
       "      <td>3.355920</td>\n",
       "      <td>3.637105</td>\n",
       "      <td>3.310120</td>\n",
       "      <td>3.649130</td>\n",
       "      <td>3.287620</td>\n",
       "      <td>14.553209</td>\n",
       "      <td>15.018115</td>\n",
       "    </tr>\n",
       "    <tr>\n",
       "      <th>std</th>\n",
       "      <td>15.173711</td>\n",
       "      <td>1003.211397</td>\n",
       "      <td>1.330037</td>\n",
       "      <td>1.528222</td>\n",
       "      <td>1.407263</td>\n",
       "      <td>1.282312</td>\n",
       "      <td>1.328029</td>\n",
       "      <td>1.352982</td>\n",
       "      <td>1.316019</td>\n",
       "      <td>1.333601</td>\n",
       "      <td>1.283265</td>\n",
       "      <td>1.319537</td>\n",
       "      <td>1.176882</td>\n",
       "      <td>1.269337</td>\n",
       "      <td>1.177235</td>\n",
       "      <td>1.315199</td>\n",
       "      <td>37.600237</td>\n",
       "      <td>37.881443</td>\n",
       "    </tr>\n",
       "    <tr>\n",
       "      <th>min</th>\n",
       "      <td>7.000000</td>\n",
       "      <td>31.000000</td>\n",
       "      <td>0.000000</td>\n",
       "      <td>0.000000</td>\n",
       "      <td>0.000000</td>\n",
       "      <td>1.000000</td>\n",
       "      <td>0.000000</td>\n",
       "      <td>0.000000</td>\n",
       "      <td>1.000000</td>\n",
       "      <td>0.000000</td>\n",
       "      <td>0.000000</td>\n",
       "      <td>0.000000</td>\n",
       "      <td>1.000000</td>\n",
       "      <td>1.000000</td>\n",
       "      <td>0.000000</td>\n",
       "      <td>0.000000</td>\n",
       "      <td>0.000000</td>\n",
       "      <td>0.000000</td>\n",
       "    </tr>\n",
       "    <tr>\n",
       "      <th>25%</th>\n",
       "      <td>27.000000</td>\n",
       "      <td>414.000000</td>\n",
       "      <td>2.000000</td>\n",
       "      <td>2.000000</td>\n",
       "      <td>2.000000</td>\n",
       "      <td>2.000000</td>\n",
       "      <td>2.000000</td>\n",
       "      <td>2.000000</td>\n",
       "      <td>2.000000</td>\n",
       "      <td>2.000000</td>\n",
       "      <td>2.000000</td>\n",
       "      <td>2.000000</td>\n",
       "      <td>3.000000</td>\n",
       "      <td>3.000000</td>\n",
       "      <td>3.000000</td>\n",
       "      <td>2.000000</td>\n",
       "      <td>0.000000</td>\n",
       "      <td>0.000000</td>\n",
       "    </tr>\n",
       "    <tr>\n",
       "      <th>50%</th>\n",
       "      <td>40.000000</td>\n",
       "      <td>850.000000</td>\n",
       "      <td>3.000000</td>\n",
       "      <td>3.000000</td>\n",
       "      <td>3.000000</td>\n",
       "      <td>3.000000</td>\n",
       "      <td>3.000000</td>\n",
       "      <td>3.000000</td>\n",
       "      <td>4.000000</td>\n",
       "      <td>4.000000</td>\n",
       "      <td>4.000000</td>\n",
       "      <td>4.000000</td>\n",
       "      <td>4.000000</td>\n",
       "      <td>3.000000</td>\n",
       "      <td>4.000000</td>\n",
       "      <td>3.000000</td>\n",
       "      <td>0.000000</td>\n",
       "      <td>0.000000</td>\n",
       "    </tr>\n",
       "    <tr>\n",
       "      <th>75%</th>\n",
       "      <td>51.000000</td>\n",
       "      <td>1747.000000</td>\n",
       "      <td>4.000000</td>\n",
       "      <td>4.000000</td>\n",
       "      <td>4.000000</td>\n",
       "      <td>4.000000</td>\n",
       "      <td>4.000000</td>\n",
       "      <td>4.000000</td>\n",
       "      <td>5.000000</td>\n",
       "      <td>4.000000</td>\n",
       "      <td>4.000000</td>\n",
       "      <td>4.000000</td>\n",
       "      <td>5.000000</td>\n",
       "      <td>4.000000</td>\n",
       "      <td>5.000000</td>\n",
       "      <td>4.000000</td>\n",
       "      <td>12.000000</td>\n",
       "      <td>13.000000</td>\n",
       "    </tr>\n",
       "    <tr>\n",
       "      <th>max</th>\n",
       "      <td>85.000000</td>\n",
       "      <td>4983.000000</td>\n",
       "      <td>5.000000</td>\n",
       "      <td>5.000000</td>\n",
       "      <td>5.000000</td>\n",
       "      <td>5.000000</td>\n",
       "      <td>5.000000</td>\n",
       "      <td>5.000000</td>\n",
       "      <td>5.000000</td>\n",
       "      <td>5.000000</td>\n",
       "      <td>5.000000</td>\n",
       "      <td>5.000000</td>\n",
       "      <td>5.000000</td>\n",
       "      <td>5.000000</td>\n",
       "      <td>5.000000</td>\n",
       "      <td>5.000000</td>\n",
       "      <td>1128.000000</td>\n",
       "      <td>1115.000000</td>\n",
       "    </tr>\n",
       "  </tbody>\n",
       "</table>\n",
       "</div>"
      ],
      "text/plain": [
       "                Age  Flight Distance  Inflight wifi service  \\\n",
       "count  42577.000000     42577.000000           42577.000000   \n",
       "mean      39.550438      1197.359936               2.727177   \n",
       "std       15.173711      1003.211397               1.330037   \n",
       "min        7.000000        31.000000               0.000000   \n",
       "25%       27.000000       414.000000               2.000000   \n",
       "50%       40.000000       850.000000               3.000000   \n",
       "75%       51.000000      1747.000000               4.000000   \n",
       "max       85.000000      4983.000000               5.000000   \n",
       "\n",
       "       Departure/Arrival time convenient  Ease of Online booking  \\\n",
       "count                       42577.000000            42577.000000   \n",
       "mean                            3.057214                2.762383   \n",
       "std                             1.528222                1.407263   \n",
       "min                             0.000000                0.000000   \n",
       "25%                             2.000000                2.000000   \n",
       "50%                             3.000000                3.000000   \n",
       "75%                             4.000000                4.000000   \n",
       "max                             5.000000                5.000000   \n",
       "\n",
       "       Gate location  Food and drink  Online boarding  Seat comfort  \\\n",
       "count   42577.000000    42577.000000     42577.000000  42577.000000   \n",
       "mean        2.983019        3.211875         3.258543      3.446767   \n",
       "std         1.282312        1.328029         1.352982      1.316019   \n",
       "min         1.000000        0.000000         0.000000      1.000000   \n",
       "25%         2.000000        2.000000         2.000000      2.000000   \n",
       "50%         3.000000        3.000000         3.000000      4.000000   \n",
       "75%         4.000000        4.000000         4.000000      5.000000   \n",
       "max         5.000000        5.000000         5.000000      5.000000   \n",
       "\n",
       "       Inflight entertainment  On-board service  Leg room service  \\\n",
       "count            42577.000000      42577.000000      42577.000000   \n",
       "mean                 3.363506          3.387651          3.355920   \n",
       "std                  1.333601          1.283265          1.319537   \n",
       "min                  0.000000          0.000000          0.000000   \n",
       "25%                  2.000000          2.000000          2.000000   \n",
       "50%                  4.000000          4.000000          4.000000   \n",
       "75%                  4.000000          4.000000          4.000000   \n",
       "max                  5.000000          5.000000          5.000000   \n",
       "\n",
       "       Baggage handling  Checkin service  Inflight service   Cleanliness  \\\n",
       "count      42577.000000     42577.000000      42577.000000  42577.000000   \n",
       "mean           3.637105         3.310120          3.649130      3.287620   \n",
       "std            1.176882         1.269337          1.177235      1.315199   \n",
       "min            1.000000         1.000000          0.000000      0.000000   \n",
       "25%            3.000000         3.000000          3.000000      2.000000   \n",
       "50%            4.000000         3.000000          4.000000      3.000000   \n",
       "75%            5.000000         4.000000          5.000000      4.000000   \n",
       "max            5.000000         5.000000          5.000000      5.000000   \n",
       "\n",
       "       Departure Delay in Minutes  Arrival Delay in Minutes  \n",
       "count                42577.000000              42451.000000  \n",
       "mean                    14.553209                 15.018115  \n",
       "std                     37.600237                 37.881443  \n",
       "min                      0.000000                  0.000000  \n",
       "25%                      0.000000                  0.000000  \n",
       "50%                      0.000000                  0.000000  \n",
       "75%                     12.000000                 13.000000  \n",
       "max                   1128.000000               1115.000000  "
      ]
     },
     "execution_count": 145,
     "metadata": {},
     "output_type": "execute_result"
    }
   ],
   "source": [
    "## Summary statistics of Numerical features.\n",
    "df.describe() "
   ]
  },
  {
   "cell_type": "code",
   "execution_count": 146,
   "metadata": {
    "executionInfo": {
     "elapsed": 74,
     "status": "ok",
     "timestamp": 1670050926687,
     "user": {
      "displayName": "Shrikant Chormale",
      "userId": "06649212260482941230"
     },
     "user_tz": -330
    },
    "id": "dabd49e4-846e-4390-bced-e7575eef958a"
   },
   "outputs": [],
   "source": [
    "#conclude - We can see for each numeric feature, the count , the mean value, standard deviation,\n",
    "#           minimum value, maximum value and the 25% percentile, the 50% percentile or median, the 75% percentile."
   ]
  },
  {
   "cell_type": "code",
   "execution_count": 147,
   "metadata": {
    "colab": {
     "base_uri": "https://localhost:8080/",
     "height": 175
    },
    "executionInfo": {
     "elapsed": 73,
     "status": "ok",
     "timestamp": 1670050926688,
     "user": {
      "displayName": "Shrikant Chormale",
      "userId": "06649212260482941230"
     },
     "user_tz": -330
    },
    "id": "33952c67-b283-41e8-9d2c-c126ed6791b5",
    "outputId": "6facbafb-7248-4adc-8e2b-aa094d0f7edc"
   },
   "outputs": [
    {
     "data": {
      "text/html": [
       "<div>\n",
       "<style scoped>\n",
       "    .dataframe tbody tr th:only-of-type {\n",
       "        vertical-align: middle;\n",
       "    }\n",
       "\n",
       "    .dataframe tbody tr th {\n",
       "        vertical-align: top;\n",
       "    }\n",
       "\n",
       "    .dataframe thead th {\n",
       "        text-align: right;\n",
       "    }\n",
       "</style>\n",
       "<table border=\"1\" class=\"dataframe\">\n",
       "  <thead>\n",
       "    <tr style=\"text-align: right;\">\n",
       "      <th></th>\n",
       "      <th>Gender</th>\n",
       "      <th>Customer Type</th>\n",
       "      <th>Type of Travel</th>\n",
       "      <th>Class</th>\n",
       "      <th>satisfaction</th>\n",
       "    </tr>\n",
       "  </thead>\n",
       "  <tbody>\n",
       "    <tr>\n",
       "      <th>count</th>\n",
       "      <td>42577</td>\n",
       "      <td>42577</td>\n",
       "      <td>42577</td>\n",
       "      <td>42577</td>\n",
       "      <td>42577</td>\n",
       "    </tr>\n",
       "    <tr>\n",
       "      <th>unique</th>\n",
       "      <td>2</td>\n",
       "      <td>2</td>\n",
       "      <td>2</td>\n",
       "      <td>3</td>\n",
       "      <td>2</td>\n",
       "    </tr>\n",
       "    <tr>\n",
       "      <th>top</th>\n",
       "      <td>Female</td>\n",
       "      <td>Loyal Customer</td>\n",
       "      <td>Business travel</td>\n",
       "      <td>Business</td>\n",
       "      <td>neutral or dissatisfied</td>\n",
       "    </tr>\n",
       "    <tr>\n",
       "      <th>freq</th>\n",
       "      <td>21534</td>\n",
       "      <td>34821</td>\n",
       "      <td>29480</td>\n",
       "      <td>20446</td>\n",
       "      <td>23999</td>\n",
       "    </tr>\n",
       "  </tbody>\n",
       "</table>\n",
       "</div>"
      ],
      "text/plain": [
       "        Gender   Customer Type   Type of Travel     Class  \\\n",
       "count    42577           42577            42577     42577   \n",
       "unique       2               2                2         3   \n",
       "top     Female  Loyal Customer  Business travel  Business   \n",
       "freq     21534           34821            29480     20446   \n",
       "\n",
       "                   satisfaction  \n",
       "count                     42577  \n",
       "unique                        2  \n",
       "top     neutral or dissatisfied  \n",
       "freq                      23999  "
      ]
     },
     "execution_count": 147,
     "metadata": {},
     "output_type": "execute_result"
    }
   ],
   "source": [
    "# Describing object data.\n",
    "df.describe(include = 'object')\n"
   ]
  },
  {
   "cell_type": "code",
   "execution_count": 148,
   "metadata": {
    "executionInfo": {
     "elapsed": 72,
     "status": "ok",
     "timestamp": 1670050926689,
     "user": {
      "displayName": "Shrikant Chormale",
      "userId": "06649212260482941230"
     },
     "user_tz": -330
    },
    "id": "b206320b-50b7-4e26-b459-4d91ab23f243"
   },
   "outputs": [],
   "source": [
    "# We can plot a seaborn countplot displaying the frequency of both categories of the target variable."
   ]
  },
  {
   "cell_type": "code",
   "execution_count": 149,
   "metadata": {
    "colab": {
     "base_uri": "https://localhost:8080/"
    },
    "executionInfo": {
     "elapsed": 72,
     "status": "ok",
     "timestamp": 1670050926690,
     "user": {
      "displayName": "Shrikant Chormale",
      "userId": "06649212260482941230"
     },
     "user_tz": -330
    },
    "id": "058b13c0-2440-40ab-a92e-ae4d9a91af22",
    "outputId": "bbf10abc-4a11-4c9e-dc01-a42eba8469d9"
   },
   "outputs": [
    {
     "data": {
      "text/plain": [
       "neutral or dissatisfied    23999\n",
       "satisfied                  18578\n",
       "Name: satisfaction, dtype: int64"
      ]
     },
     "execution_count": 149,
     "metadata": {},
     "output_type": "execute_result"
    }
   ],
   "source": [
    "df.satisfaction.value_counts()"
   ]
  },
  {
   "cell_type": "code",
   "execution_count": 150,
   "metadata": {
    "colab": {
     "base_uri": "https://localhost:8080/",
     "height": 296
    },
    "executionInfo": {
     "elapsed": 68,
     "status": "ok",
     "timestamp": 1670050926691,
     "user": {
      "displayName": "Shrikant Chormale",
      "userId": "06649212260482941230"
     },
     "user_tz": -330
    },
    "id": "aa025c6f-3e9f-43fa-b715-2d00355bbe08",
    "outputId": "1095c308-afa2-4334-f79b-395d764a419c"
   },
   "outputs": [
    {
     "data": {
      "text/plain": [
       "<AxesSubplot:xlabel='satisfaction', ylabel='count'>"
      ]
     },
     "execution_count": 150,
     "metadata": {},
     "output_type": "execute_result"
    },
    {
     "data": {
      "image/png": "[encoded data removed]",
      "text/plain": [
       "<Figure size 432x288 with 1 Axes>"
      ]
     },
     "metadata": {},
     "output_type": "display_data"
    }
   ],
   "source": [
    "sns.set_style('whitegrid')\n",
    "sns.countplot(x='satisfaction',data=df) "
   ]
  },
  {
   "cell_type": "markdown",
   "metadata": {
    "id": "adc757ba-bbec-45a7-9e54-913c3777bbd5"
   },
   "source": [
    "#we can see that passenger neutral or dissatisfied are more than satisfied passenger =\n",
    "neutral or dissatisfied    73452\n",
    "satisfied                  56428"
   ]
  },
  {
   "cell_type": "code",
   "execution_count": 151,
   "metadata": {
    "executionInfo": {
     "elapsed": 64,
     "status": "ok",
     "timestamp": 1670050926691,
     "user": {
      "displayName": "Shrikant Chormale",
      "userId": "06649212260482941230"
     },
     "user_tz": -330
    },
    "id": "8ad51371-8d3e-44a0-b0d2-774a01821df3"
   },
   "outputs": [],
   "source": [
    "# analysis the data"
   ]
  },
  {
   "cell_type": "code",
   "execution_count": 152,
   "metadata": {
    "executionInfo": {
     "elapsed": 64,
     "status": "ok",
     "timestamp": 1670050926692,
     "user": {
      "displayName": "Shrikant Chormale",
      "userId": "06649212260482941230"
     },
     "user_tz": -330
    },
    "id": "8e998415-2f6b-4ea5-9edc-18b838751ac6"
   },
   "outputs": [],
   "source": [
    "#df.plot(x='satisfaction',kind = 'bar', rot = 'horizontal')"
   ]
  },
  {
   "cell_type": "code",
   "execution_count": 153,
   "metadata": {
    "colab": {
     "base_uri": "https://localhost:8080/",
     "height": 296
    },
    "executionInfo": {
     "elapsed": 768,
     "status": "ok",
     "timestamp": 1670050927397,
     "user": {
      "displayName": "Shrikant Chormale",
      "userId": "06649212260482941230"
     },
     "user_tz": -330
    },
    "id": "783b7141-bafb-4436-ad4e-9418f81e1918",
    "outputId": "bb0a2337-988d-427e-e689-1197704f6816"
   },
   "outputs": [
    {
     "data": {
      "text/plain": [
       "<AxesSubplot:xlabel='Gender', ylabel='count'>"
      ]
     },
     "execution_count": 153,
     "metadata": {},
     "output_type": "execute_result"
    },
    {
     "data": {
      "image/png": "[encoded data removed]",
      "text/plain": [
       "<Figure size 432x288 with 1 Axes>"
      ]
     },
     "metadata": {},
     "output_type": "display_data"
    }
   ],
   "source": [
    "sns.set_style('whitegrid')\n",
    "sns.countplot(x='Gender',data=df) "
   ]
  },
  {
   "cell_type": "markdown",
   "metadata": {
    "id": "2fc03f21-21a1-4e41-adc8-2487fd71b37d"
   },
   "source": [
    "#we can see that passenger female passenger  are more than male passanger =Female-65899 :   Male-63981"
   ]
  },
  {
   "cell_type": "code",
   "execution_count": 154,
   "metadata": {
    "colab": {
     "base_uri": "https://localhost:8080/"
    },
    "executionInfo": {
     "elapsed": 22,
     "status": "ok",
     "timestamp": 1670050927398,
     "user": {
      "displayName": "Shrikant Chormale",
      "userId": "06649212260482941230"
     },
     "user_tz": -330
    },
    "id": "d4cf2b4a-323b-4456-898c-ab40a2b9ba2e",
    "outputId": "c8ea1b7d-e999-4588-fe6c-789863846a42"
   },
   "outputs": [
    {
     "data": {
      "text/plain": [
       "Female    21534\n",
       "Male      21043\n",
       "Name: Gender, dtype: int64"
      ]
     },
     "execution_count": 154,
     "metadata": {},
     "output_type": "execute_result"
    }
   ],
   "source": [
    "df.Gender.value_counts()"
   ]
  },
  {
   "cell_type": "code",
   "execution_count": 155,
   "metadata": {
    "colab": {
     "base_uri": "https://localhost:8080/",
     "height": 296
    },
    "executionInfo": {
     "elapsed": 22,
     "status": "ok",
     "timestamp": 1670050927399,
     "user": {
      "displayName": "Shrikant Chormale",
      "userId": "06649212260482941230"
     },
     "user_tz": -330
    },
    "id": "60b17c46-4cdb-48ed-831d-4e0c51c487aa",
    "outputId": "edb49d9c-f52e-4994-8fe5-4b0f15ada6b4"
   },
   "outputs": [
    {
     "data": {
      "text/plain": [
       "<AxesSubplot:xlabel='Customer Type', ylabel='count'>"
      ]
     },
     "execution_count": 155,
     "metadata": {},
     "output_type": "execute_result"
    },
    {
     "data": {
      "image/png": "[encoded data removed]",
      "text/plain": [
       "<Figure size 432x288 with 1 Axes>"
      ]
     },
     "metadata": {},
     "output_type": "display_data"
    }
   ],
   "source": [
    "sns.set_style('whitegrid')\n",
    "sns.countplot(x='Customer Type',data=df) "
   ]
  },
  {
   "cell_type": "code",
   "execution_count": 156,
   "metadata": {
    "colab": {
     "base_uri": "https://localhost:8080/"
    },
    "executionInfo": {
     "elapsed": 51,
     "status": "ok",
     "timestamp": 1670050927431,
     "user": {
      "displayName": "Shrikant Chormale",
      "userId": "06649212260482941230"
     },
     "user_tz": -330
    },
    "id": "972d138c-cc31-40fe-ba56-cb438de88082",
    "outputId": "7f4e773e-9f16-44d3-becd-60a5ff36313d"
   },
   "outputs": [
    {
     "data": {
      "text/plain": [
       "Loyal Customer       34821\n",
       "disloyal Customer     7756\n",
       "Name: Customer Type, dtype: int64"
      ]
     },
     "execution_count": 156,
     "metadata": {},
     "output_type": "execute_result"
    }
   ],
   "source": [
    "df['Customer Type'].value_counts()"
   ]
  },
  {
   "cell_type": "code",
   "execution_count": null,
   "metadata": {
    "executionInfo": {
     "elapsed": 52,
     "status": "ok",
     "timestamp": 1670050927434,
     "user": {
      "displayName": "Shrikant Chormale",
      "userId": "06649212260482941230"
     },
     "user_tz": -330
    },
    "id": "03206896-8fd4-4f87-8f21-70c6c6483cc0"
   },
   "outputs": [],
   "source": []
  },
  {
   "cell_type": "code",
   "execution_count": 157,
   "metadata": {
    "colab": {
     "base_uri": "https://localhost:8080/",
     "height": 296
    },
    "executionInfo": {
     "elapsed": 52,
     "status": "ok",
     "timestamp": 1670050927435,
     "user": {
      "displayName": "Shrikant Chormale",
      "userId": "06649212260482941230"
     },
     "user_tz": -330
    },
    "id": "e5d61dc0-1424-4689-9795-fb5363892930",
    "outputId": "4252be0f-906b-4332-b947-edfc9b72ab13"
   },
   "outputs": [
    {
     "data": {
      "text/plain": [
       "<AxesSubplot:xlabel='Type of Travel', ylabel='count'>"
      ]
     },
     "execution_count": 157,
     "metadata": {},
     "output_type": "execute_result"
    },
    {
     "data": {
      "image/png": "[encoded data removed]",
      "text/plain": [
       "<Figure size 432x288 with 1 Axes>"
      ]
     },
     "metadata": {},
     "output_type": "display_data"
    }
   ],
   "source": [
    "sns.set_style('whitegrid')\n",
    "sns.countplot(x='Type of Travel',data=df) "
   ]
  },
  {
   "cell_type": "code",
   "execution_count": 158,
   "metadata": {
    "executionInfo": {
     "elapsed": 51,
     "status": "ok",
     "timestamp": 1670050927436,
     "user": {
      "displayName": "Shrikant Chormale",
      "userId": "06649212260482941230"
     },
     "user_tz": -330
    },
    "id": "ff6dda96-21a8-46aa-be2e-d09c04db37a9"
   },
   "outputs": [],
   "source": [
    "#we can see that the type of class of passenger personal traval is less than the business travel\n",
    "# Business travel    89693\n",
    "# Personal Travel    40187"
   ]
  },
  {
   "cell_type": "code",
   "execution_count": null,
   "metadata": {
    "executionInfo": {
     "elapsed": 51,
     "status": "ok",
     "timestamp": 1670050927437,
     "user": {
      "displayName": "Shrikant Chormale",
      "userId": "06649212260482941230"
     },
     "user_tz": -330
    },
    "id": "5a966c5a-11d7-4f4a-97b6-fe8b4249ebbb"
   },
   "outputs": [],
   "source": []
  },
  {
   "cell_type": "code",
   "execution_count": 159,
   "metadata": {
    "colab": {
     "base_uri": "https://localhost:8080/",
     "height": 296
    },
    "executionInfo": {
     "elapsed": 921,
     "status": "ok",
     "timestamp": 1670050928307,
     "user": {
      "displayName": "Shrikant Chormale",
      "userId": "06649212260482941230"
     },
     "user_tz": -330
    },
    "id": "27e6d086-89d6-4f04-9825-a1a309e5bf30",
    "outputId": "b87f396e-a49b-4902-d57b-c86c5f7be882"
   },
   "outputs": [
    {
     "data": {
      "text/plain": [
       "<AxesSubplot:xlabel='Class', ylabel='count'>"
      ]
     },
     "execution_count": 159,
     "metadata": {},
     "output_type": "execute_result"
    },
    {
     "data": {
      "image/png": "[encoded data removed]",
      "text/plain": [
       "<Figure size 432x288 with 1 Axes>"
      ]
     },
     "metadata": {},
     "output_type": "display_data"
    }
   ],
   "source": [
    "sns.set_style('whitegrid')\n",
    "sns.countplot(x='Class',data=df) "
   ]
  },
  {
   "cell_type": "code",
   "execution_count": 160,
   "metadata": {
    "executionInfo": {
     "elapsed": 19,
     "status": "ok",
     "timestamp": 1670050928309,
     "user": {
      "displayName": "Shrikant Chormale",
      "userId": "06649212260482941230"
     },
     "user_tz": -330
    },
    "id": "3bf895a4-73dd-43c2-9f0f-46dc879d1005"
   },
   "outputs": [],
   "source": [
    "#Type of Travel and Satisfaction"
   ]
  },
  {
   "cell_type": "code",
   "execution_count": 161,
   "metadata": {
    "colab": {
     "base_uri": "https://localhost:8080/",
     "height": 459
    },
    "executionInfo": {
     "elapsed": 19,
     "status": "ok",
     "timestamp": 1670050928310,
     "user": {
      "displayName": "Shrikant Chormale",
      "userId": "06649212260482941230"
     },
     "user_tz": -330
    },
    "id": "68734815-bf43-40d9-950f-b7c459272cb9",
    "outputId": "e2ca75a9-baa5-450a-829c-6cb815c770ac"
   },
   "outputs": [
    {
     "data": {
      "text/plain": [
       "<AxesSubplot:xlabel='Gender', ylabel='count'>"
      ]
     },
     "execution_count": 161,
     "metadata": {},
     "output_type": "execute_result"
    },
    {
     "data": {
      "image/png": "[encoded data removed]",
      "text/plain": [
       "<Figure size 504x504 with 1 Axes>"
      ]
     },
     "metadata": {},
     "output_type": "display_data"
    }
   ],
   "source": [
    "plt.figure(figsize=(7,7))\n",
    "sns.countplot(x=\"Gender\", hue='satisfaction', data=df)"
   ]
  },
  {
   "cell_type": "markdown",
   "metadata": {
    "id": "3fdd0791-940f-4eb1-950e-be7459ab6c5c"
   },
   "source": [
    "#Females and males are satisfaction probability almost equal. Male %44, Female %43 satisfaction"
   ]
  },
  {
   "cell_type": "code",
   "execution_count": 162,
   "metadata": {
    "executionInfo": {
     "elapsed": 17,
     "status": "ok",
     "timestamp": 1670050928311,
     "user": {
      "displayName": "Shrikant Chormale",
      "userId": "06649212260482941230"
     },
     "user_tz": -330
    },
    "id": "fc6d3845-d791-4a7e-ad99-8baa71767790"
   },
   "outputs": [],
   "source": [
    "# Age and Satisfaction "
   ]
  },
  {
   "cell_type": "code",
   "execution_count": 163,
   "metadata": {
    "colab": {
     "base_uri": "https://localhost:8080/",
     "height": 521
    },
    "executionInfo": {
     "elapsed": 2129,
     "status": "ok",
     "timestamp": 1670050930427,
     "user": {
      "displayName": "Shrikant Chormale",
      "userId": "06649212260482941230"
     },
     "user_tz": -330
    },
    "id": "97400d4b-f9e6-4f99-9e37-9d40b32853c4",
    "outputId": "318646d1-b536-439a-89aa-ddc52f75bb59"
   },
   "outputs": [
    {
     "data": {
      "text/plain": [
       "<AxesSubplot:xlabel='Age', ylabel='count'>"
      ]
     },
     "execution_count": 163,
     "metadata": {},
     "output_type": "execute_result"
    },
    {
     "data": {
      "image/png": "[encoded data removed]",
      "text/plain": [
       "<Figure size 1440x1080 with 1 Axes>"
      ]
     },
     "metadata": {},
     "output_type": "display_data"
    }
   ],
   "source": [
    "plt.figure(figsize=(20,15))\n",
    "sns.countplot(x=\"Age\", hue='satisfaction', data=df)"
   ]
  },
  {
   "cell_type": "markdown",
   "metadata": {
    "id": "6bb929dd-5504-4f3a-a00f-f047d0482587"
   },
   "source": [
    "#we can found the \n",
    "#0-30 years old is generally neutral or dissatisfied with the flight.\n",
    "#30-60 years old is generally satisfied with the flight.\n",
    "#65-85 years old passengers is neutral or dissatisfied."
   ]
  },
  {
   "cell_type": "code",
   "execution_count": 164,
   "metadata": {
    "executionInfo": {
     "elapsed": 28,
     "status": "ok",
     "timestamp": 1670050930429,
     "user": {
      "displayName": "Shrikant Chormale",
      "userId": "06649212260482941230"
     },
     "user_tz": -330
    },
    "id": "4e1afc86-c947-4c64-848d-e849b15afdff"
   },
   "outputs": [],
   "source": [
    "#Type of Travel and Satisfaction"
   ]
  },
  {
   "cell_type": "code",
   "execution_count": 165,
   "metadata": {
    "colab": {
     "base_uri": "https://localhost:8080/",
     "height": 459
    },
    "executionInfo": {
     "elapsed": 27,
     "status": "ok",
     "timestamp": 1670050930430,
     "user": {
      "displayName": "Shrikant Chormale",
      "userId": "06649212260482941230"
     },
     "user_tz": -330
    },
    "id": "9b856f18-615c-4ff1-97e2-32f6c7146b86",
    "outputId": "0fc50e03-1da4-4b37-9d8e-f033dfd98a95"
   },
   "outputs": [
    {
     "data": {
      "text/plain": [
       "<AxesSubplot:xlabel='Type of Travel', ylabel='count'>"
      ]
     },
     "execution_count": 165,
     "metadata": {},
     "output_type": "execute_result"
    },
    {
     "data": {
      "image/png": "[encoded data removed]",
      "text/plain": [
       "<Figure size 504x504 with 1 Axes>"
      ]
     },
     "metadata": {},
     "output_type": "display_data"
    }
   ],
   "source": [
    "plt.figure(figsize=(7,7))\n",
    "sns.countplot(x=\"Type of Travel\", hue='satisfaction', data=df)"
   ]
  },
  {
   "cell_type": "markdown",
   "metadata": {
    "id": "7f6bf09a-4301-4509-829d-308d0d489560"
   },
   "source": [
    "#Business travel is generally satisfied with the flight but personal travel is generally neutral or dissatisfied with the flight.\n",
    "#Personal travel is %90 neutral or dissatisfied with the flight. This statistic is interesting."
   ]
  },
  {
   "cell_type": "code",
   "execution_count": 166,
   "metadata": {
    "colab": {
     "base_uri": "https://localhost:8080/",
     "height": 869
    },
    "executionInfo": {
     "elapsed": 22,
     "status": "ok",
     "timestamp": 1670050930431,
     "user": {
      "displayName": "Shrikant Chormale",
      "userId": "06649212260482941230"
     },
     "user_tz": -330
    },
    "id": "8733dbeb-ebd7-4e1b-9404-26b76dc63efe",
    "outputId": "372c4fa9-5f34-4b8d-c1ff-bf3f57d52b02"
   },
   "outputs": [
    {
     "data": {
      "text/html": [
       "<div>\n",
       "<style scoped>\n",
       "    .dataframe tbody tr th:only-of-type {\n",
       "        vertical-align: middle;\n",
       "    }\n",
       "\n",
       "    .dataframe tbody tr th {\n",
       "        vertical-align: top;\n",
       "    }\n",
       "\n",
       "    .dataframe thead th {\n",
       "        text-align: right;\n",
       "    }\n",
       "</style>\n",
       "<table border=\"1\" class=\"dataframe\">\n",
       "  <thead>\n",
       "    <tr style=\"text-align: right;\">\n",
       "      <th></th>\n",
       "      <th>Age</th>\n",
       "      <th>Flight Distance</th>\n",
       "      <th>Inflight wifi service</th>\n",
       "      <th>Departure/Arrival time convenient</th>\n",
       "      <th>Ease of Online booking</th>\n",
       "      <th>Gate location</th>\n",
       "      <th>Food and drink</th>\n",
       "      <th>Online boarding</th>\n",
       "      <th>Seat comfort</th>\n",
       "      <th>Inflight entertainment</th>\n",
       "      <th>On-board service</th>\n",
       "      <th>Leg room service</th>\n",
       "      <th>Baggage handling</th>\n",
       "      <th>Checkin service</th>\n",
       "      <th>Inflight service</th>\n",
       "      <th>Cleanliness</th>\n",
       "      <th>Departure Delay in Minutes</th>\n",
       "      <th>Arrival Delay in Minutes</th>\n",
       "    </tr>\n",
       "  </thead>\n",
       "  <tbody>\n",
       "    <tr>\n",
       "      <th>Age</th>\n",
       "      <td>1.000000</td>\n",
       "      <td>0.102906</td>\n",
       "      <td>0.011471</td>\n",
       "      <td>0.036969</td>\n",
       "      <td>0.019194</td>\n",
       "      <td>0.002909</td>\n",
       "      <td>0.022809</td>\n",
       "      <td>0.201502</td>\n",
       "      <td>0.152641</td>\n",
       "      <td>0.072123</td>\n",
       "      <td>0.059087</td>\n",
       "      <td>0.039723</td>\n",
       "      <td>-0.047307</td>\n",
       "      <td>0.029223</td>\n",
       "      <td>-0.054015</td>\n",
       "      <td>0.048842</td>\n",
       "      <td>-0.004019</td>\n",
       "      <td>-0.006457</td>\n",
       "    </tr>\n",
       "    <tr>\n",
       "      <th>Flight Distance</th>\n",
       "      <td>0.102906</td>\n",
       "      <td>1.000000</td>\n",
       "      <td>0.006031</td>\n",
       "      <td>-0.015794</td>\n",
       "      <td>0.066997</td>\n",
       "      <td>0.005376</td>\n",
       "      <td>0.059716</td>\n",
       "      <td>0.218649</td>\n",
       "      <td>0.161590</td>\n",
       "      <td>0.137324</td>\n",
       "      <td>0.113738</td>\n",
       "      <td>0.137779</td>\n",
       "      <td>0.070801</td>\n",
       "      <td>0.075448</td>\n",
       "      <td>0.063308</td>\n",
       "      <td>0.102480</td>\n",
       "      <td>0.001199</td>\n",
       "      <td>-0.002749</td>\n",
       "    </tr>\n",
       "    <tr>\n",
       "      <th>Inflight wifi service</th>\n",
       "      <td>0.011471</td>\n",
       "      <td>0.006031</td>\n",
       "      <td>1.000000</td>\n",
       "      <td>0.345005</td>\n",
       "      <td>0.712145</td>\n",
       "      <td>0.341995</td>\n",
       "      <td>0.125568</td>\n",
       "      <td>0.457308</td>\n",
       "      <td>0.119448</td>\n",
       "      <td>0.204923</td>\n",
       "      <td>0.122969</td>\n",
       "      <td>0.159850</td>\n",
       "      <td>0.122271</td>\n",
       "      <td>0.047501</td>\n",
       "      <td>0.109734</td>\n",
       "      <td>0.126295</td>\n",
       "      <td>-0.008698</td>\n",
       "      <td>-0.012153</td>\n",
       "    </tr>\n",
       "    <tr>\n",
       "      <th>Departure/Arrival time convenient</th>\n",
       "      <td>0.036969</td>\n",
       "      <td>-0.015794</td>\n",
       "      <td>0.345005</td>\n",
       "      <td>1.000000</td>\n",
       "      <td>0.439503</td>\n",
       "      <td>0.456783</td>\n",
       "      <td>-0.009908</td>\n",
       "      <td>0.075270</td>\n",
       "      <td>0.002075</td>\n",
       "      <td>-0.016543</td>\n",
       "      <td>0.065269</td>\n",
       "      <td>0.006441</td>\n",
       "      <td>0.068391</td>\n",
       "      <td>0.084726</td>\n",
       "      <td>0.068784</td>\n",
       "      <td>-0.002356</td>\n",
       "      <td>0.001865</td>\n",
       "      <td>0.000044</td>\n",
       "    </tr>\n",
       "    <tr>\n",
       "      <th>Ease of Online booking</th>\n",
       "      <td>0.019194</td>\n",
       "      <td>0.066997</td>\n",
       "      <td>0.712145</td>\n",
       "      <td>0.439503</td>\n",
       "      <td>1.000000</td>\n",
       "      <td>0.466237</td>\n",
       "      <td>0.025682</td>\n",
       "      <td>0.404389</td>\n",
       "      <td>0.025478</td>\n",
       "      <td>0.043485</td>\n",
       "      <td>0.043178</td>\n",
       "      <td>0.108509</td>\n",
       "      <td>0.039887</td>\n",
       "      <td>0.003701</td>\n",
       "      <td>0.032243</td>\n",
       "      <td>0.009846</td>\n",
       "      <td>-0.000528</td>\n",
       "      <td>-0.003918</td>\n",
       "    </tr>\n",
       "    <tr>\n",
       "      <th>Gate location</th>\n",
       "      <td>0.002909</td>\n",
       "      <td>0.005376</td>\n",
       "      <td>0.341995</td>\n",
       "      <td>0.456783</td>\n",
       "      <td>0.466237</td>\n",
       "      <td>1.000000</td>\n",
       "      <td>-0.010493</td>\n",
       "      <td>0.004967</td>\n",
       "      <td>0.001141</td>\n",
       "      <td>-0.002406</td>\n",
       "      <td>-0.031826</td>\n",
       "      <td>-0.002702</td>\n",
       "      <td>-0.003570</td>\n",
       "      <td>-0.050242</td>\n",
       "      <td>-0.003745</td>\n",
       "      <td>-0.013175</td>\n",
       "      <td>0.010054</td>\n",
       "      <td>0.009279</td>\n",
       "    </tr>\n",
       "    <tr>\n",
       "      <th>Food and drink</th>\n",
       "      <td>0.022809</td>\n",
       "      <td>0.059716</td>\n",
       "      <td>0.125568</td>\n",
       "      <td>-0.009908</td>\n",
       "      <td>0.025682</td>\n",
       "      <td>-0.010493</td>\n",
       "      <td>1.000000</td>\n",
       "      <td>0.231249</td>\n",
       "      <td>0.576917</td>\n",
       "      <td>0.623129</td>\n",
       "      <td>0.057319</td>\n",
       "      <td>0.035843</td>\n",
       "      <td>0.041216</td>\n",
       "      <td>0.079857</td>\n",
       "      <td>0.038763</td>\n",
       "      <td>0.654271</td>\n",
       "      <td>-0.031960</td>\n",
       "      <td>-0.036294</td>\n",
       "    </tr>\n",
       "    <tr>\n",
       "      <th>Online boarding</th>\n",
       "      <td>0.201502</td>\n",
       "      <td>0.218649</td>\n",
       "      <td>0.457308</td>\n",
       "      <td>0.075270</td>\n",
       "      <td>0.404389</td>\n",
       "      <td>0.004967</td>\n",
       "      <td>0.231249</td>\n",
       "      <td>1.000000</td>\n",
       "      <td>0.416324</td>\n",
       "      <td>0.282233</td>\n",
       "      <td>0.155904</td>\n",
       "      <td>0.121640</td>\n",
       "      <td>0.087969</td>\n",
       "      <td>0.206883</td>\n",
       "      <td>0.074607</td>\n",
       "      <td>0.325005</td>\n",
       "      <td>-0.015734</td>\n",
       "      <td>-0.021604</td>\n",
       "    </tr>\n",
       "    <tr>\n",
       "      <th>Seat comfort</th>\n",
       "      <td>0.152641</td>\n",
       "      <td>0.161590</td>\n",
       "      <td>0.119448</td>\n",
       "      <td>0.002075</td>\n",
       "      <td>0.025478</td>\n",
       "      <td>0.001141</td>\n",
       "      <td>0.576917</td>\n",
       "      <td>0.416324</td>\n",
       "      <td>1.000000</td>\n",
       "      <td>0.616190</td>\n",
       "      <td>0.134003</td>\n",
       "      <td>0.104074</td>\n",
       "      <td>0.081375</td>\n",
       "      <td>0.190038</td>\n",
       "      <td>0.073456</td>\n",
       "      <td>0.681025</td>\n",
       "      <td>-0.026894</td>\n",
       "      <td>-0.032779</td>\n",
       "    </tr>\n",
       "    <tr>\n",
       "      <th>Inflight entertainment</th>\n",
       "      <td>0.072123</td>\n",
       "      <td>0.137324</td>\n",
       "      <td>0.204923</td>\n",
       "      <td>-0.016543</td>\n",
       "      <td>0.043485</td>\n",
       "      <td>-0.002406</td>\n",
       "      <td>0.623129</td>\n",
       "      <td>0.282233</td>\n",
       "      <td>0.616190</td>\n",
       "      <td>1.000000</td>\n",
       "      <td>0.420012</td>\n",
       "      <td>0.305868</td>\n",
       "      <td>0.388185</td>\n",
       "      <td>0.119842</td>\n",
       "      <td>0.410403</td>\n",
       "      <td>0.694217</td>\n",
       "      <td>-0.028786</td>\n",
       "      <td>-0.032281</td>\n",
       "    </tr>\n",
       "    <tr>\n",
       "      <th>On-board service</th>\n",
       "      <td>0.059087</td>\n",
       "      <td>0.113738</td>\n",
       "      <td>0.122969</td>\n",
       "      <td>0.065269</td>\n",
       "      <td>0.043178</td>\n",
       "      <td>-0.031826</td>\n",
       "      <td>0.057319</td>\n",
       "      <td>0.155904</td>\n",
       "      <td>0.134003</td>\n",
       "      <td>0.420012</td>\n",
       "      <td>1.000000</td>\n",
       "      <td>0.364834</td>\n",
       "      <td>0.521919</td>\n",
       "      <td>0.245119</td>\n",
       "      <td>0.555430</td>\n",
       "      <td>0.124911</td>\n",
       "      <td>-0.025962</td>\n",
       "      <td>-0.031055</td>\n",
       "    </tr>\n",
       "    <tr>\n",
       "      <th>Leg room service</th>\n",
       "      <td>0.039723</td>\n",
       "      <td>0.137779</td>\n",
       "      <td>0.159850</td>\n",
       "      <td>0.006441</td>\n",
       "      <td>0.108509</td>\n",
       "      <td>-0.002702</td>\n",
       "      <td>0.035843</td>\n",
       "      <td>0.121640</td>\n",
       "      <td>0.104074</td>\n",
       "      <td>0.305868</td>\n",
       "      <td>0.364834</td>\n",
       "      <td>1.000000</td>\n",
       "      <td>0.378783</td>\n",
       "      <td>0.152000</td>\n",
       "      <td>0.373887</td>\n",
       "      <td>0.101510</td>\n",
       "      <td>0.015134</td>\n",
       "      <td>0.009603</td>\n",
       "    </tr>\n",
       "    <tr>\n",
       "      <th>Baggage handling</th>\n",
       "      <td>-0.047307</td>\n",
       "      <td>0.070801</td>\n",
       "      <td>0.122271</td>\n",
       "      <td>0.068391</td>\n",
       "      <td>0.039887</td>\n",
       "      <td>-0.003570</td>\n",
       "      <td>0.041216</td>\n",
       "      <td>0.087969</td>\n",
       "      <td>0.081375</td>\n",
       "      <td>0.388185</td>\n",
       "      <td>0.521919</td>\n",
       "      <td>0.378783</td>\n",
       "      <td>1.000000</td>\n",
       "      <td>0.240001</td>\n",
       "      <td>0.629534</td>\n",
       "      <td>0.108801</td>\n",
       "      <td>-0.001383</td>\n",
       "      <td>-0.006167</td>\n",
       "    </tr>\n",
       "    <tr>\n",
       "      <th>Checkin service</th>\n",
       "      <td>0.029223</td>\n",
       "      <td>0.075448</td>\n",
       "      <td>0.047501</td>\n",
       "      <td>0.084726</td>\n",
       "      <td>0.003701</td>\n",
       "      <td>-0.050242</td>\n",
       "      <td>0.079857</td>\n",
       "      <td>0.206883</td>\n",
       "      <td>0.190038</td>\n",
       "      <td>0.119842</td>\n",
       "      <td>0.245119</td>\n",
       "      <td>0.152000</td>\n",
       "      <td>0.240001</td>\n",
       "      <td>1.000000</td>\n",
       "      <td>0.239005</td>\n",
       "      <td>0.173743</td>\n",
       "      <td>-0.018438</td>\n",
       "      <td>-0.024311</td>\n",
       "    </tr>\n",
       "    <tr>\n",
       "      <th>Inflight service</th>\n",
       "      <td>-0.054015</td>\n",
       "      <td>0.063308</td>\n",
       "      <td>0.109734</td>\n",
       "      <td>0.068784</td>\n",
       "      <td>0.032243</td>\n",
       "      <td>-0.003745</td>\n",
       "      <td>0.038763</td>\n",
       "      <td>0.074607</td>\n",
       "      <td>0.073456</td>\n",
       "      <td>0.410403</td>\n",
       "      <td>0.555430</td>\n",
       "      <td>0.373887</td>\n",
       "      <td>0.629534</td>\n",
       "      <td>0.239005</td>\n",
       "      <td>1.000000</td>\n",
       "      <td>0.097811</td>\n",
       "      <td>-0.049640</td>\n",
       "      <td>-0.056916</td>\n",
       "    </tr>\n",
       "    <tr>\n",
       "      <th>Cleanliness</th>\n",
       "      <td>0.048842</td>\n",
       "      <td>0.102480</td>\n",
       "      <td>0.126295</td>\n",
       "      <td>-0.002356</td>\n",
       "      <td>0.009846</td>\n",
       "      <td>-0.013175</td>\n",
       "      <td>0.654271</td>\n",
       "      <td>0.325005</td>\n",
       "      <td>0.681025</td>\n",
       "      <td>0.694217</td>\n",
       "      <td>0.124911</td>\n",
       "      <td>0.101510</td>\n",
       "      <td>0.108801</td>\n",
       "      <td>0.173743</td>\n",
       "      <td>0.097811</td>\n",
       "      <td>1.000000</td>\n",
       "      <td>-0.014912</td>\n",
       "      <td>-0.019676</td>\n",
       "    </tr>\n",
       "    <tr>\n",
       "      <th>Departure Delay in Minutes</th>\n",
       "      <td>-0.004019</td>\n",
       "      <td>0.001199</td>\n",
       "      <td>-0.008698</td>\n",
       "      <td>0.001865</td>\n",
       "      <td>-0.000528</td>\n",
       "      <td>0.010054</td>\n",
       "      <td>-0.031960</td>\n",
       "      <td>-0.015734</td>\n",
       "      <td>-0.026894</td>\n",
       "      <td>-0.028786</td>\n",
       "      <td>-0.025962</td>\n",
       "      <td>0.015134</td>\n",
       "      <td>-0.001383</td>\n",
       "      <td>-0.018438</td>\n",
       "      <td>-0.049640</td>\n",
       "      <td>-0.014912</td>\n",
       "      <td>1.000000</td>\n",
       "      <td>0.963672</td>\n",
       "    </tr>\n",
       "    <tr>\n",
       "      <th>Arrival Delay in Minutes</th>\n",
       "      <td>-0.006457</td>\n",
       "      <td>-0.002749</td>\n",
       "      <td>-0.012153</td>\n",
       "      <td>0.000044</td>\n",
       "      <td>-0.003918</td>\n",
       "      <td>0.009279</td>\n",
       "      <td>-0.036294</td>\n",
       "      <td>-0.021604</td>\n",
       "      <td>-0.032779</td>\n",
       "      <td>-0.032281</td>\n",
       "      <td>-0.031055</td>\n",
       "      <td>0.009603</td>\n",
       "      <td>-0.006167</td>\n",
       "      <td>-0.024311</td>\n",
       "      <td>-0.056916</td>\n",
       "      <td>-0.019676</td>\n",
       "      <td>0.963672</td>\n",
       "      <td>1.000000</td>\n",
       "    </tr>\n",
       "  </tbody>\n",
       "</table>\n",
       "</div>"
      ],
      "text/plain": [
       "                                        Age  Flight Distance  \\\n",
       "Age                                1.000000         0.102906   \n",
       "Flight Distance                    0.102906         1.000000   \n",
       "Inflight wifi service              0.011471         0.006031   \n",
       "Departure/Arrival time convenient  0.036969        -0.015794   \n",
       "Ease of Online booking             0.019194         0.066997   \n",
       "Gate location                      0.002909         0.005376   \n",
       "Food and drink                     0.022809         0.059716   \n",
       "Online boarding                    0.201502         0.218649   \n",
       "Seat comfort                       0.152641         0.161590   \n",
       "Inflight entertainment             0.072123         0.137324   \n",
       "On-board service                   0.059087         0.113738   \n",
       "Leg room service                   0.039723         0.137779   \n",
       "Baggage handling                  -0.047307         0.070801   \n",
       "Checkin service                    0.029223         0.075448   \n",
       "Inflight service                  -0.054015         0.063308   \n",
       "Cleanliness                        0.048842         0.102480   \n",
       "Departure Delay in Minutes        -0.004019         0.001199   \n",
       "Arrival Delay in Minutes          -0.006457        -0.002749   \n",
       "\n",
       "                                   Inflight wifi service  \\\n",
       "Age                                             0.011471   \n",
       "Flight Distance                                 0.006031   \n",
       "Inflight wifi service                           1.000000   \n",
       "Departure/Arrival time convenient               0.345005   \n",
       "Ease of Online booking                          0.712145   \n",
       "Gate location                                   0.341995   \n",
       "Food and drink                                  0.125568   \n",
       "Online boarding                                 0.457308   \n",
       "Seat comfort                                    0.119448   \n",
       "Inflight entertainment                          0.204923   \n",
       "On-board service                                0.122969   \n",
       "Leg room service                                0.159850   \n",
       "Baggage handling                                0.122271   \n",
       "Checkin service                                 0.047501   \n",
       "Inflight service                                0.109734   \n",
       "Cleanliness                                     0.126295   \n",
       "Departure Delay in Minutes                     -0.008698   \n",
       "Arrival Delay in Minutes                       -0.012153   \n",
       "\n",
       "                                   Departure/Arrival time convenient  \\\n",
       "Age                                                         0.036969   \n",
       "Flight Distance                                            -0.015794   \n",
       "Inflight wifi service                                       0.345005   \n",
       "Departure/Arrival time convenient                           1.000000   \n",
       "Ease of Online booking                                      0.439503   \n",
       "Gate location                                               0.456783   \n",
       "Food and drink                                             -0.009908   \n",
       "Online boarding                                             0.075270   \n",
       "Seat comfort                                                0.002075   \n",
       "Inflight entertainment                                     -0.016543   \n",
       "On-board service                                            0.065269   \n",
       "Leg room service                                            0.006441   \n",
       "Baggage handling                                            0.068391   \n",
       "Checkin service                                             0.084726   \n",
       "Inflight service                                            0.068784   \n",
       "Cleanliness                                                -0.002356   \n",
       "Departure Delay in Minutes                                  0.001865   \n",
       "Arrival Delay in Minutes                                    0.000044   \n",
       "\n",
       "                                   Ease of Online booking  Gate location  \\\n",
       "Age                                              0.019194       0.002909   \n",
       "Flight Distance                                  0.066997       0.005376   \n",
       "Inflight wifi service                            0.712145       0.341995   \n",
       "Departure/Arrival time convenient                0.439503       0.456783   \n",
       "Ease of Online booking                           1.000000       0.466237   \n",
       "Gate location                                    0.466237       1.000000   \n",
       "Food and drink                                   0.025682      -0.010493   \n",
       "Online boarding                                  0.404389       0.004967   \n",
       "Seat comfort                                     0.025478       0.001141   \n",
       "Inflight entertainment                           0.043485      -0.002406   \n",
       "On-board service                                 0.043178      -0.031826   \n",
       "Leg room service                                 0.108509      -0.002702   \n",
       "Baggage handling                                 0.039887      -0.003570   \n",
       "Checkin service                                  0.003701      -0.050242   \n",
       "Inflight service                                 0.032243      -0.003745   \n",
       "Cleanliness                                      0.009846      -0.013175   \n",
       "Departure Delay in Minutes                      -0.000528       0.010054   \n",
       "Arrival Delay in Minutes                        -0.003918       0.009279   \n",
       "\n",
       "                                   Food and drink  Online boarding  \\\n",
       "Age                                      0.022809         0.201502   \n",
       "Flight Distance                          0.059716         0.218649   \n",
       "Inflight wifi service                    0.125568         0.457308   \n",
       "Departure/Arrival time convenient       -0.009908         0.075270   \n",
       "Ease of Online booking                   0.025682         0.404389   \n",
       "Gate location                           -0.010493         0.004967   \n",
       "Food and drink                           1.000000         0.231249   \n",
       "Online boarding                          0.231249         1.000000   \n",
       "Seat comfort                             0.576917         0.416324   \n",
       "Inflight entertainment                   0.623129         0.282233   \n",
       "On-board service                         0.057319         0.155904   \n",
       "Leg room service                         0.035843         0.121640   \n",
       "Baggage handling                         0.041216         0.087969   \n",
       "Checkin service                          0.079857         0.206883   \n",
       "Inflight service                         0.038763         0.074607   \n",
       "Cleanliness                              0.654271         0.325005   \n",
       "Departure Delay in Minutes              -0.031960        -0.015734   \n",
       "Arrival Delay in Minutes                -0.036294        -0.021604   \n",
       "\n",
       "                                   Seat comfort  Inflight entertainment  \\\n",
       "Age                                    0.152641                0.072123   \n",
       "Flight Distance                        0.161590                0.137324   \n",
       "Inflight wifi service                  0.119448                0.204923   \n",
       "Departure/Arrival time convenient      0.002075               -0.016543   \n",
       "Ease of Online booking                 0.025478                0.043485   \n",
       "Gate location                          0.001141               -0.002406   \n",
       "Food and drink                         0.576917                0.623129   \n",
       "Online boarding                        0.416324                0.282233   \n",
       "Seat comfort                           1.000000                0.616190   \n",
       "Inflight entertainment                 0.616190                1.000000   \n",
       "On-board service                       0.134003                0.420012   \n",
       "Leg room service                       0.104074                0.305868   \n",
       "Baggage handling                       0.081375                0.388185   \n",
       "Checkin service                        0.190038                0.119842   \n",
       "Inflight service                       0.073456                0.410403   \n",
       "Cleanliness                            0.681025                0.694217   \n",
       "Departure Delay in Minutes            -0.026894               -0.028786   \n",
       "Arrival Delay in Minutes              -0.032779               -0.032281   \n",
       "\n",
       "                                   On-board service  Leg room service  \\\n",
       "Age                                        0.059087          0.039723   \n",
       "Flight Distance                            0.113738          0.137779   \n",
       "Inflight wifi service                      0.122969          0.159850   \n",
       "Departure/Arrival time convenient          0.065269          0.006441   \n",
       "Ease of Online booking                     0.043178          0.108509   \n",
       "Gate location                             -0.031826         -0.002702   \n",
       "Food and drink                             0.057319          0.035843   \n",
       "Online boarding                            0.155904          0.121640   \n",
       "Seat comfort                               0.134003          0.104074   \n",
       "Inflight entertainment                     0.420012          0.305868   \n",
       "On-board service                           1.000000          0.364834   \n",
       "Leg room service                           0.364834          1.000000   \n",
       "Baggage handling                           0.521919          0.378783   \n",
       "Checkin service                            0.245119          0.152000   \n",
       "Inflight service                           0.555430          0.373887   \n",
       "Cleanliness                                0.124911          0.101510   \n",
       "Departure Delay in Minutes                -0.025962          0.015134   \n",
       "Arrival Delay in Minutes                  -0.031055          0.009603   \n",
       "\n",
       "                                   Baggage handling  Checkin service  \\\n",
       "Age                                       -0.047307         0.029223   \n",
       "Flight Distance                            0.070801         0.075448   \n",
       "Inflight wifi service                      0.122271         0.047501   \n",
       "Departure/Arrival time convenient          0.068391         0.084726   \n",
       "Ease of Online booking                     0.039887         0.003701   \n",
       "Gate location                             -0.003570        -0.050242   \n",
       "Food and drink                             0.041216         0.079857   \n",
       "Online boarding                            0.087969         0.206883   \n",
       "Seat comfort                               0.081375         0.190038   \n",
       "Inflight entertainment                     0.388185         0.119842   \n",
       "On-board service                           0.521919         0.245119   \n",
       "Leg room service                           0.378783         0.152000   \n",
       "Baggage handling                           1.000000         0.240001   \n",
       "Checkin service                            0.240001         1.000000   \n",
       "Inflight service                           0.629534         0.239005   \n",
       "Cleanliness                                0.108801         0.173743   \n",
       "Departure Delay in Minutes                -0.001383        -0.018438   \n",
       "Arrival Delay in Minutes                  -0.006167        -0.024311   \n",
       "\n",
       "                                   Inflight service  Cleanliness  \\\n",
       "Age                                       -0.054015     0.048842   \n",
       "Flight Distance                            0.063308     0.102480   \n",
       "Inflight wifi service                      0.109734     0.126295   \n",
       "Departure/Arrival time convenient          0.068784    -0.002356   \n",
       "Ease of Online booking                     0.032243     0.009846   \n",
       "Gate location                             -0.003745    -0.013175   \n",
       "Food and drink                             0.038763     0.654271   \n",
       "Online boarding                            0.074607     0.325005   \n",
       "Seat comfort                               0.073456     0.681025   \n",
       "Inflight entertainment                     0.410403     0.694217   \n",
       "On-board service                           0.555430     0.124911   \n",
       "Leg room service                           0.373887     0.101510   \n",
       "Baggage handling                           0.629534     0.108801   \n",
       "Checkin service                            0.239005     0.173743   \n",
       "Inflight service                           1.000000     0.097811   \n",
       "Cleanliness                                0.097811     1.000000   \n",
       "Departure Delay in Minutes                -0.049640    -0.014912   \n",
       "Arrival Delay in Minutes                  -0.056916    -0.019676   \n",
       "\n",
       "                                   Departure Delay in Minutes  \\\n",
       "Age                                                 -0.004019   \n",
       "Flight Distance                                      0.001199   \n",
       "Inflight wifi service                               -0.008698   \n",
       "Departure/Arrival time convenient                    0.001865   \n",
       "Ease of Online booking                              -0.000528   \n",
       "Gate location                                        0.010054   \n",
       "Food and drink                                      -0.031960   \n",
       "Online boarding                                     -0.015734   \n",
       "Seat comfort                                        -0.026894   \n",
       "Inflight entertainment                              -0.028786   \n",
       "On-board service                                    -0.025962   \n",
       "Leg room service                                     0.015134   \n",
       "Baggage handling                                    -0.001383   \n",
       "Checkin service                                     -0.018438   \n",
       "Inflight service                                    -0.049640   \n",
       "Cleanliness                                         -0.014912   \n",
       "Departure Delay in Minutes                           1.000000   \n",
       "Arrival Delay in Minutes                             0.963672   \n",
       "\n",
       "                                   Arrival Delay in Minutes  \n",
       "Age                                               -0.006457  \n",
       "Flight Distance                                   -0.002749  \n",
       "Inflight wifi service                             -0.012153  \n",
       "Departure/Arrival time convenient                  0.000044  \n",
       "Ease of Online booking                            -0.003918  \n",
       "Gate location                                      0.009279  \n",
       "Food and drink                                    -0.036294  \n",
       "Online boarding                                   -0.021604  \n",
       "Seat comfort                                      -0.032779  \n",
       "Inflight entertainment                            -0.032281  \n",
       "On-board service                                  -0.031055  \n",
       "Leg room service                                   0.009603  \n",
       "Baggage handling                                  -0.006167  \n",
       "Checkin service                                   -0.024311  \n",
       "Inflight service                                  -0.056916  \n",
       "Cleanliness                                       -0.019676  \n",
       "Departure Delay in Minutes                         0.963672  \n",
       "Arrival Delay in Minutes                           1.000000  "
      ]
     },
     "execution_count": 166,
     "metadata": {},
     "output_type": "execute_result"
    }
   ],
   "source": [
    "df.corr()"
   ]
  },
  {
   "cell_type": "code",
   "execution_count": 167,
   "metadata": {
    "colab": {
     "base_uri": "https://localhost:8080/",
     "height": 593
    },
    "executionInfo": {
     "elapsed": 2356,
     "status": "ok",
     "timestamp": 1670050932769,
     "user": {
      "displayName": "Shrikant Chormale",
      "userId": "06649212260482941230"
     },
     "user_tz": -330
    },
    "id": "5a83dd18-89d1-4762-b52a-f44e6c24ef69",
    "outputId": "f670c01c-e7dc-4466-ecf1-f7d091841148"
   },
   "outputs": [
    {
     "data": {
      "text/plain": [
       "<AxesSubplot:>"
      ]
     },
     "execution_count": 167,
     "metadata": {},
     "output_type": "execute_result"
    },
    {
     "data": {
      "image/png": "[encoded data removed]",
      "text/plain": [
       "<Figure size 1440x1080 with 2 Axes>"
      ]
     },
     "metadata": {},
     "output_type": "display_data"
    }
   ],
   "source": [
    "plt.figure(figsize=(20,15))\n",
    "sns.heatmap(df.corr(),annot=True)"
   ]
  },
  {
   "cell_type": "code",
   "execution_count": 168,
   "metadata": {
    "colab": {
     "base_uri": "https://localhost:8080/",
     "height": 657
    },
    "executionInfo": {
     "elapsed": 3882,
     "status": "ok",
     "timestamp": 1670050936616,
     "user": {
      "displayName": "Shrikant Chormale",
      "userId": "06649212260482941230"
     },
     "user_tz": -330
    },
    "id": "08a53ddd-dc29-49c8-b49b-c54df0ccdfeb",
    "outputId": "16ca36b6-a6f0-4a0a-b8a3-2311fda390c5"
   },
   "outputs": [
    {
     "data": {
      "text/plain": [
       "<function matplotlib.pyplot.show(close=None, block=None)>"
      ]
     },
     "execution_count": 168,
     "metadata": {},
     "output_type": "execute_result"
    },
    {
     "data": {
      "image/png": "[encoded data removed]",
      "text/plain": [
       "<Figure size 1008x1008 with 20 Axes>"
      ]
     },
     "metadata": {},
     "output_type": "display_data"
    }
   ],
   "source": [
    "# histogram\n",
    "df.hist(figsize=(14,14))\n",
    "plt.show"
   ]
  },
  {
   "cell_type": "markdown",
   "metadata": {
    "id": "3bef3040-d5ca-4c97-8c53-1eec273ddc84"
   },
   "source": [
    "# checking the significance missing values"
   ]
  },
  {
   "cell_type": "code",
   "execution_count": 169,
   "metadata": {
    "colab": {
     "base_uri": "https://localhost:8080/"
    },
    "executionInfo": {
     "elapsed": 102,
     "status": "ok",
     "timestamp": 1670050936619,
     "user": {
      "displayName": "Shrikant Chormale",
      "userId": "06649212260482941230"
     },
     "user_tz": -330
    },
    "id": "e274c8dc-a7e1-4e89-aec0-89ede3f99483",
    "outputId": "5b6089d4-c167-45e7-c66b-4742773dd04f"
   },
   "outputs": [
    {
     "data": {
      "text/plain": [
       "Gender                                 0\n",
       "Customer Type                          0\n",
       "Age                                    0\n",
       "Type of Travel                         0\n",
       "Class                                  0\n",
       "Flight Distance                        0\n",
       "Inflight wifi service                  0\n",
       "Departure/Arrival time convenient      0\n",
       "Ease of Online booking                 0\n",
       "Gate location                          0\n",
       "Food and drink                         0\n",
       "Online boarding                        0\n",
       "Seat comfort                           0\n",
       "Inflight entertainment                 0\n",
       "On-board service                       0\n",
       "Leg room service                       0\n",
       "Baggage handling                       0\n",
       "Checkin service                        0\n",
       "Inflight service                       0\n",
       "Cleanliness                            0\n",
       "Departure Delay in Minutes             0\n",
       "Arrival Delay in Minutes             126\n",
       "satisfaction                           0\n",
       "dtype: int64"
      ]
     },
     "execution_count": 169,
     "metadata": {},
     "output_type": "execute_result"
    }
   ],
   "source": [
    "df.isnull().sum()"
   ]
  },
  {
   "cell_type": "code",
   "execution_count": 170,
   "metadata": {
    "executionInfo": {
     "elapsed": 97,
     "status": "ok",
     "timestamp": 1670050936620,
     "user": {
      "displayName": "Shrikant Chormale",
      "userId": "06649212260482941230"
     },
     "user_tz": -330
    },
    "id": "2aeeffe3-7825-422b-88d8-7c8906fc266a"
   },
   "outputs": [],
   "source": [
    "# handling the missing values method\n",
    "#Dropping the missing values\n",
    "#Replacing with previous value - Forward fill\n",
    "#Replacing with next value - Backward fill\n",
    "#Replacing with mean\n",
    "#Replacing with Median:\n",
    "#Replacing with Mode:"
   ]
  },
  {
   "cell_type": "code",
   "execution_count": 171,
   "metadata": {
    "colab": {
     "base_uri": "https://localhost:8080/"
    },
    "executionInfo": {
     "elapsed": 97,
     "status": "ok",
     "timestamp": 1670050936621,
     "user": {
      "displayName": "Shrikant Chormale",
      "userId": "06649212260482941230"
     },
     "user_tz": -330
    },
    "id": "458d5103-b890-4d73-8914-516f56c3cdc5",
    "outputId": "b414832a-d66a-449b-b299-a64a3c7d3a36"
   },
   "outputs": [
    {
     "data": {
      "text/plain": [
       "0.0"
      ]
     },
     "execution_count": 171,
     "metadata": {},
     "output_type": "execute_result"
    }
   ],
   "source": [
    "df['Arrival Delay in Minutes'].median()"
   ]
  },
  {
   "cell_type": "code",
   "execution_count": 172,
   "metadata": {
    "executionInfo": {
     "elapsed": 94,
     "status": "ok",
     "timestamp": 1670050936622,
     "user": {
      "displayName": "Shrikant Chormale",
      "userId": "06649212260482941230"
     },
     "user_tz": -330
    },
    "id": "cf05d941-df65-4cc4-b56c-0514a6f99ef0"
   },
   "outputs": [],
   "source": [
    "df['Arrival Delay in Minutes']=df['Arrival Delay in Minutes'].fillna(df['Arrival Delay in Minutes'].median())"
   ]
  },
  {
   "cell_type": "code",
   "execution_count": 173,
   "metadata": {
    "executionInfo": {
     "elapsed": 92,
     "status": "ok",
     "timestamp": 1670050936622,
     "user": {
      "displayName": "Shrikant Chormale",
      "userId": "06649212260482941230"
     },
     "user_tz": -330
    },
    "id": "d8317ad2-20a1-4ea2-a02d-81d57d47e4f5"
   },
   "outputs": [],
   "source": [
    "# rechecing the missing values"
   ]
  },
  {
   "cell_type": "code",
   "execution_count": 174,
   "metadata": {
    "colab": {
     "base_uri": "https://localhost:8080/"
    },
    "executionInfo": {
     "elapsed": 92,
     "status": "ok",
     "timestamp": 1670050936623,
     "user": {
      "displayName": "Shrikant Chormale",
      "userId": "06649212260482941230"
     },
     "user_tz": -330
    },
    "id": "035a8535-7812-4c69-befe-af6426dd3d31",
    "outputId": "27c12725-0965-474e-f358-5c8a6e0883fe"
   },
   "outputs": [
    {
     "data": {
      "text/plain": [
       "Gender                               0\n",
       "Customer Type                        0\n",
       "Age                                  0\n",
       "Type of Travel                       0\n",
       "Class                                0\n",
       "Flight Distance                      0\n",
       "Inflight wifi service                0\n",
       "Departure/Arrival time convenient    0\n",
       "Ease of Online booking               0\n",
       "Gate location                        0\n",
       "Food and drink                       0\n",
       "Online boarding                      0\n",
       "Seat comfort                         0\n",
       "Inflight entertainment               0\n",
       "On-board service                     0\n",
       "Leg room service                     0\n",
       "Baggage handling                     0\n",
       "Checkin service                      0\n",
       "Inflight service                     0\n",
       "Cleanliness                          0\n",
       "Departure Delay in Minutes           0\n",
       "Arrival Delay in Minutes             0\n",
       "satisfaction                         0\n",
       "dtype: int64"
      ]
     },
     "execution_count": 174,
     "metadata": {},
     "output_type": "execute_result"
    }
   ],
   "source": [
    "df.isnull().sum()"
   ]
  },
  {
   "cell_type": "code",
   "execution_count": 175,
   "metadata": {
    "executionInfo": {
     "elapsed": 91,
     "status": "ok",
     "timestamp": 1670050936624,
     "user": {
      "displayName": "Shrikant Chormale",
      "userId": "06649212260482941230"
     },
     "user_tz": -330
    },
    "id": "1956ab47-dab4-41b4-96e0-6362ee412819"
   },
   "outputs": [],
   "source": [
    "# after handling not found missing values"
   ]
  },
  {
   "cell_type": "code",
   "execution_count": 176,
   "metadata": {
    "executionInfo": {
     "elapsed": 91,
     "status": "ok",
     "timestamp": 1670050936624,
     "user": {
      "displayName": "Shrikant Chormale",
      "userId": "06649212260482941230"
     },
     "user_tz": -330
    },
    "id": "4bfe1344-1ca7-4032-a54d-08bf6d9c5c55"
   },
   "outputs": [],
   "source": [
    "# checking the outlier"
   ]
  },
  {
   "cell_type": "code",
   "execution_count": 177,
   "metadata": {
    "colab": {
     "base_uri": "https://localhost:8080/",
     "height": 296
    },
    "executionInfo": {
     "elapsed": 91,
     "status": "ok",
     "timestamp": 1670050936625,
     "user": {
      "displayName": "Shrikant Chormale",
      "userId": "06649212260482941230"
     },
     "user_tz": -330
    },
    "id": "4ab8fc67-bfd3-4528-8937-a072ec7e8229",
    "outputId": "c36c468e-5ec0-402d-b3a7-855961156375"
   },
   "outputs": [
    {
     "data": {
      "text/plain": [
       "<AxesSubplot:xlabel='Flight Distance'>"
      ]
     },
     "execution_count": 177,
     "metadata": {},
     "output_type": "execute_result"
    },
    {
     "data": {
      "image/png": "[encoded data removed]",
      "text/plain": [
       "<Figure size 432x288 with 1 Axes>"
      ]
     },
     "metadata": {},
     "output_type": "display_data"
    }
   ],
   "source": [
    "sns.boxplot(x='Flight Distance',data=df)"
   ]
  },
  {
   "cell_type": "code",
   "execution_count": 178,
   "metadata": {
    "executionInfo": {
     "elapsed": 89,
     "status": "ok",
     "timestamp": 1670050936626,
     "user": {
      "displayName": "Shrikant Chormale",
      "userId": "06649212260482941230"
     },
     "user_tz": -330
    },
    "id": "cf0921ee-30ec-4d00-8b71-c942db8c04fd"
   },
   "outputs": [],
   "source": [
    "# after checking the outliers found \n",
    "# handling the outlier with the help of IQR method"
   ]
  },
  {
   "cell_type": "code",
   "execution_count": 179,
   "metadata": {
    "executionInfo": {
     "elapsed": 89,
     "status": "ok",
     "timestamp": 1670050936627,
     "user": {
      "displayName": "Shrikant Chormale",
      "userId": "06649212260482941230"
     },
     "user_tz": -330
    },
    "id": "ee570675-d75e-4c6d-a146-176869c55928"
   },
   "outputs": [],
   "source": [
    "for cols in df.columns[:-1]:\n",
    "    if df[cols].dtype == object:\n",
    "        continue\n",
    "    else:\n",
    "        Q1 = df[cols].quantile(q=0.25)\n",
    "        Q3 = df[cols].quantile(q=0.75)\n",
    "        iqr = Q3 - Q1\n",
    "    \n",
    "        low = Q1 - 1.5*(Q3-Q1)\n",
    "        high = Q3 + 1.5*(Q3-Q1)\n",
    "        df.loc[(df[cols]<low) | (df[cols]>high),cols] = df[cols].median()"
   ]
  },
  {
   "cell_type": "code",
   "execution_count": 180,
   "metadata": {
    "colab": {
     "base_uri": "https://localhost:8080/",
     "height": 296
    },
    "executionInfo": {
     "elapsed": 90,
     "status": "ok",
     "timestamp": 1670050936628,
     "user": {
      "displayName": "Shrikant Chormale",
      "userId": "06649212260482941230"
     },
     "user_tz": -330
    },
    "id": "5e359425-7510-4dcc-9a95-c817befb00ca",
    "outputId": "661f4bc7-c4a3-4f74-cf21-560bb1497c02"
   },
   "outputs": [
    {
     "data": {
      "text/plain": [
       "<AxesSubplot:xlabel='Flight Distance'>"
      ]
     },
     "execution_count": 180,
     "metadata": {},
     "output_type": "execute_result"
    },
    {
     "data": {
      "image/png": "[encoded data removed]",
      "text/plain": [
       "<Figure size 432x288 with 1 Axes>"
      ]
     },
     "metadata": {},
     "output_type": "display_data"
    }
   ],
   "source": [
    "# recheck outlier\n",
    "sns.boxplot(x='Flight Distance',data=df)"
   ]
  },
  {
   "cell_type": "code",
   "execution_count": 181,
   "metadata": {
    "colab": {
     "base_uri": "https://localhost:8080/",
     "height": 296
    },
    "executionInfo": {
     "elapsed": 89,
     "status": "ok",
     "timestamp": 1670050936630,
     "user": {
      "displayName": "Shrikant Chormale",
      "userId": "06649212260482941230"
     },
     "user_tz": -330
    },
    "id": "62cc2fad-64c6-4a42-8fce-b659977889bb",
    "outputId": "b6079ef9-f2ed-42ee-a052-f5353bd20465"
   },
   "outputs": [
    {
     "data": {
      "text/plain": [
       "<AxesSubplot:xlabel='Checkin service'>"
      ]
     },
     "execution_count": 181,
     "metadata": {},
     "output_type": "execute_result"
    },
    {
     "data": {
      "image/png": "[encoded data removed]",
      "text/plain": [
       "<Figure size 432x288 with 1 Axes>"
      ]
     },
     "metadata": {},
     "output_type": "display_data"
    }
   ],
   "source": [
    "sns.boxplot(x='Checkin service',data=df)"
   ]
  },
  {
   "cell_type": "code",
   "execution_count": 182,
   "metadata": {
    "executionInfo": {
     "elapsed": 72,
     "status": "ok",
     "timestamp": 1670050936630,
     "user": {
      "displayName": "Shrikant Chormale",
      "userId": "06649212260482941230"
     },
     "user_tz": -330
    },
    "id": "ffe2a4ab-52f5-4d7e-ba40-f447d53a8572"
   },
   "outputs": [],
   "source": [
    "# after the handling the outlier checking outlier not found"
   ]
  },
  {
   "cell_type": "code",
   "execution_count": 183,
   "metadata": {
    "executionInfo": {
     "elapsed": 71,
     "status": "ok",
     "timestamp": 1670050936631,
     "user": {
      "displayName": "Shrikant Chormale",
      "userId": "06649212260482941230"
     },
     "user_tz": -330
    },
    "id": "536b9e50-3351-4f31-8cb9-ca25eb2949e6"
   },
   "outputs": [],
   "source": [
    "# handle the categarical value \n",
    "# categorical values converted numerical with the help of labelEncoder method"
   ]
  },
  {
   "cell_type": "markdown",
   "metadata": {
    "id": "1bc4e7b7-615b-451b-8b19-3bfd7bdf9f44"
   },
   "source": [
    "# LabelEncoder Method"
   ]
  },
  {
   "cell_type": "code",
   "execution_count": 184,
   "metadata": {
    "executionInfo": {
     "elapsed": 70,
     "status": "ok",
     "timestamp": 1670050936632,
     "user": {
      "displayName": "Shrikant Chormale",
      "userId": "06649212260482941230"
     },
     "user_tz": -330
    },
    "id": "c3f7fdf7-f26d-4e1a-9d95-5002e5c153e4"
   },
   "outputs": [],
   "source": [
    "# import the libraries\n",
    "from sklearn.preprocessing import LabelEncoder\n",
    "le=LabelEncoder()"
   ]
  },
  {
   "cell_type": "code",
   "execution_count": 185,
   "metadata": {
    "colab": {
     "base_uri": "https://localhost:8080/"
    },
    "executionInfo": {
     "elapsed": 69,
     "status": "ok",
     "timestamp": 1670050936632,
     "user": {
      "displayName": "Shrikant Chormale",
      "userId": "06649212260482941230"
     },
     "user_tz": -330
    },
    "id": "b0dda4bc-d817-4e15-9af2-cf8b2ac874a1",
    "outputId": "9a4e053a-7db9-441a-e438-3452d8db1a59"
   },
   "outputs": [
    {
     "name": "stdout",
     "output_type": "stream",
     "text": [
      "<class 'pandas.core.frame.DataFrame'>\n",
      "Int64Index: 42577 entries, 0 to 25975\n",
      "Data columns (total 23 columns):\n",
      " #   Column                             Non-Null Count  Dtype  \n",
      "---  ------                             --------------  -----  \n",
      " 0   Gender                             42577 non-null  object \n",
      " 1   Customer Type                      42577 non-null  object \n",
      " 2   Age                                42577 non-null  int64  \n",
      " 3   Type of Travel                     42577 non-null  object \n",
      " 4   Class                              42577 non-null  object \n",
      " 5   Flight Distance                    42577 non-null  int64  \n",
      " 6   Inflight wifi service              42577 non-null  int64  \n",
      " 7   Departure/Arrival time convenient  42577 non-null  int64  \n",
      " 8   Ease of Online booking             42577 non-null  int64  \n",
      " 9   Gate location                      42577 non-null  int64  \n",
      " 10  Food and drink                     42577 non-null  int64  \n",
      " 11  Online boarding                    42577 non-null  int64  \n",
      " 12  Seat comfort                       42577 non-null  int64  \n",
      " 13  Inflight entertainment             42577 non-null  int64  \n",
      " 14  On-board service                   42577 non-null  int64  \n",
      " 15  Leg room service                   42577 non-null  int64  \n",
      " 16  Baggage handling                   42577 non-null  int64  \n",
      " 17  Checkin service                    42577 non-null  int64  \n",
      " 18  Inflight service                   42577 non-null  int64  \n",
      " 19  Cleanliness                        42577 non-null  int64  \n",
      " 20  Departure Delay in Minutes         42577 non-null  int64  \n",
      " 21  Arrival Delay in Minutes           42577 non-null  float64\n",
      " 22  satisfaction                       42577 non-null  object \n",
      "dtypes: float64(1), int64(17), object(5)\n",
      "memory usage: 9.0+ MB\n"
     ]
    }
   ],
   "source": [
    "df.info()"
   ]
  },
  {
   "cell_type": "code",
   "execution_count": 186,
   "metadata": {},
   "outputs": [],
   "source": [
    "df = pd.get_dummies(df,drop_first=True)"
   ]
  },
  {
   "cell_type": "code",
   "execution_count": 187,
   "metadata": {},
   "outputs": [
    {
     "name": "stdout",
     "output_type": "stream",
     "text": [
      "<class 'pandas.core.frame.DataFrame'>\n",
      "Int64Index: 42577 entries, 0 to 25975\n",
      "Data columns (total 24 columns):\n",
      " #   Column                             Non-Null Count  Dtype  \n",
      "---  ------                             --------------  -----  \n",
      " 0   Age                                42577 non-null  int64  \n",
      " 1   Flight Distance                    42577 non-null  int64  \n",
      " 2   Inflight wifi service              42577 non-null  int64  \n",
      " 3   Departure/Arrival time convenient  42577 non-null  int64  \n",
      " 4   Ease of Online booking             42577 non-null  int64  \n",
      " 5   Gate location                      42577 non-null  int64  \n",
      " 6   Food and drink                     42577 non-null  int64  \n",
      " 7   Online boarding                    42577 non-null  int64  \n",
      " 8   Seat comfort                       42577 non-null  int64  \n",
      " 9   Inflight entertainment             42577 non-null  int64  \n",
      " 10  On-board service                   42577 non-null  int64  \n",
      " 11  Leg room service                   42577 non-null  int64  \n",
      " 12  Baggage handling                   42577 non-null  int64  \n",
      " 13  Checkin service                    42577 non-null  int64  \n",
      " 14  Inflight service                   42577 non-null  int64  \n",
      " 15  Cleanliness                        42577 non-null  int64  \n",
      " 16  Departure Delay in Minutes         42577 non-null  int64  \n",
      " 17  Arrival Delay in Minutes           42577 non-null  float64\n",
      " 18  Gender_Male                        42577 non-null  uint8  \n",
      " 19  Customer Type_disloyal Customer    42577 non-null  uint8  \n",
      " 20  Type of Travel_Personal Travel     42577 non-null  uint8  \n",
      " 21  Class_Eco                          42577 non-null  uint8  \n",
      " 22  Class_Eco Plus                     42577 non-null  uint8  \n",
      " 23  satisfaction_satisfied             42577 non-null  uint8  \n",
      "dtypes: float64(1), int64(17), uint8(6)\n",
      "memory usage: 7.7 MB\n"
     ]
    }
   ],
   "source": [
    "df.info()"
   ]
  },
  {
   "cell_type": "code",
   "execution_count": 188,
   "metadata": {},
   "outputs": [
    {
     "data": {
      "text/html": [
       "<div>\n",
       "<style scoped>\n",
       "    .dataframe tbody tr th:only-of-type {\n",
       "        vertical-align: middle;\n",
       "    }\n",
       "\n",
       "    .dataframe tbody tr th {\n",
       "        vertical-align: top;\n",
       "    }\n",
       "\n",
       "    .dataframe thead th {\n",
       "        text-align: right;\n",
       "    }\n",
       "</style>\n",
       "<table border=\"1\" class=\"dataframe\">\n",
       "  <thead>\n",
       "    <tr style=\"text-align: right;\">\n",
       "      <th></th>\n",
       "      <th>Age</th>\n",
       "      <th>Flight Distance</th>\n",
       "      <th>Inflight wifi service</th>\n",
       "      <th>Departure/Arrival time convenient</th>\n",
       "      <th>Ease of Online booking</th>\n",
       "      <th>Gate location</th>\n",
       "      <th>Food and drink</th>\n",
       "      <th>Online boarding</th>\n",
       "      <th>Seat comfort</th>\n",
       "      <th>Inflight entertainment</th>\n",
       "      <th>...</th>\n",
       "      <th>Inflight service</th>\n",
       "      <th>Cleanliness</th>\n",
       "      <th>Departure Delay in Minutes</th>\n",
       "      <th>Arrival Delay in Minutes</th>\n",
       "      <th>Gender_Male</th>\n",
       "      <th>Customer Type_disloyal Customer</th>\n",
       "      <th>Type of Travel_Personal Travel</th>\n",
       "      <th>Class_Eco</th>\n",
       "      <th>Class_Eco Plus</th>\n",
       "      <th>satisfaction_satisfied</th>\n",
       "    </tr>\n",
       "  </thead>\n",
       "  <tbody>\n",
       "    <tr>\n",
       "      <th>0</th>\n",
       "      <td>36</td>\n",
       "      <td>429</td>\n",
       "      <td>3</td>\n",
       "      <td>4</td>\n",
       "      <td>3</td>\n",
       "      <td>3</td>\n",
       "      <td>3</td>\n",
       "      <td>3</td>\n",
       "      <td>3</td>\n",
       "      <td>3</td>\n",
       "      <td>...</td>\n",
       "      <td>5</td>\n",
       "      <td>3</td>\n",
       "      <td>12</td>\n",
       "      <td>20.0</td>\n",
       "      <td>0</td>\n",
       "      <td>0</td>\n",
       "      <td>1</td>\n",
       "      <td>1</td>\n",
       "      <td>0</td>\n",
       "      <td>0</td>\n",
       "    </tr>\n",
       "    <tr>\n",
       "      <th>1</th>\n",
       "      <td>40</td>\n",
       "      <td>1034</td>\n",
       "      <td>2</td>\n",
       "      <td>5</td>\n",
       "      <td>2</td>\n",
       "      <td>3</td>\n",
       "      <td>2</td>\n",
       "      <td>2</td>\n",
       "      <td>5</td>\n",
       "      <td>2</td>\n",
       "      <td>...</td>\n",
       "      <td>5</td>\n",
       "      <td>2</td>\n",
       "      <td>0</td>\n",
       "      <td>0.0</td>\n",
       "      <td>0</td>\n",
       "      <td>0</td>\n",
       "      <td>1</td>\n",
       "      <td>1</td>\n",
       "      <td>0</td>\n",
       "      <td>0</td>\n",
       "    </tr>\n",
       "    <tr>\n",
       "      <th>2</th>\n",
       "      <td>49</td>\n",
       "      <td>2454</td>\n",
       "      <td>2</td>\n",
       "      <td>2</td>\n",
       "      <td>2</td>\n",
       "      <td>2</td>\n",
       "      <td>2</td>\n",
       "      <td>1</td>\n",
       "      <td>1</td>\n",
       "      <td>4</td>\n",
       "      <td>...</td>\n",
       "      <td>4</td>\n",
       "      <td>1</td>\n",
       "      <td>0</td>\n",
       "      <td>0.0</td>\n",
       "      <td>0</td>\n",
       "      <td>1</td>\n",
       "      <td>0</td>\n",
       "      <td>0</td>\n",
       "      <td>0</td>\n",
       "      <td>0</td>\n",
       "    </tr>\n",
       "    <tr>\n",
       "      <th>3</th>\n",
       "      <td>22</td>\n",
       "      <td>265</td>\n",
       "      <td>2</td>\n",
       "      <td>0</td>\n",
       "      <td>2</td>\n",
       "      <td>1</td>\n",
       "      <td>5</td>\n",
       "      <td>2</td>\n",
       "      <td>3</td>\n",
       "      <td>5</td>\n",
       "      <td>...</td>\n",
       "      <td>4</td>\n",
       "      <td>5</td>\n",
       "      <td>0</td>\n",
       "      <td>0.0</td>\n",
       "      <td>0</td>\n",
       "      <td>1</td>\n",
       "      <td>0</td>\n",
       "      <td>1</td>\n",
       "      <td>0</td>\n",
       "      <td>0</td>\n",
       "    </tr>\n",
       "    <tr>\n",
       "      <th>4</th>\n",
       "      <td>29</td>\n",
       "      <td>1262</td>\n",
       "      <td>2</td>\n",
       "      <td>2</td>\n",
       "      <td>2</td>\n",
       "      <td>2</td>\n",
       "      <td>4</td>\n",
       "      <td>2</td>\n",
       "      <td>3</td>\n",
       "      <td>4</td>\n",
       "      <td>...</td>\n",
       "      <td>5</td>\n",
       "      <td>4</td>\n",
       "      <td>0</td>\n",
       "      <td>0.0</td>\n",
       "      <td>0</td>\n",
       "      <td>1</td>\n",
       "      <td>0</td>\n",
       "      <td>0</td>\n",
       "      <td>0</td>\n",
       "      <td>0</td>\n",
       "    </tr>\n",
       "  </tbody>\n",
       "</table>\n",
       "<p>5 rows × 24 columns</p>\n",
       "</div>"
      ],
      "text/plain": [
       "   Age  Flight Distance  Inflight wifi service  \\\n",
       "0   36              429                      3   \n",
       "1   40             1034                      2   \n",
       "2   49             2454                      2   \n",
       "3   22              265                      2   \n",
       "4   29             1262                      2   \n",
       "\n",
       "   Departure/Arrival time convenient  Ease of Online booking  Gate location  \\\n",
       "0                                  4                       3              3   \n",
       "1                                  5                       2              3   \n",
       "2                                  2                       2              2   \n",
       "3                                  0                       2              1   \n",
       "4                                  2                       2              2   \n",
       "\n",
       "   Food and drink  Online boarding  Seat comfort  Inflight entertainment  ...  \\\n",
       "0               3                3             3                       3  ...   \n",
       "1               2                2             5                       2  ...   \n",
       "2               2                1             1                       4  ...   \n",
       "3               5                2             3                       5  ...   \n",
       "4               4                2             3                       4  ...   \n",
       "\n",
       "   Inflight service  Cleanliness  Departure Delay in Minutes  \\\n",
       "0                 5            3                          12   \n",
       "1                 5            2                           0   \n",
       "2                 4            1                           0   \n",
       "3                 4            5                           0   \n",
       "4                 5            4                           0   \n",
       "\n",
       "   Arrival Delay in Minutes  Gender_Male  Customer Type_disloyal Customer  \\\n",
       "0                      20.0            0                                0   \n",
       "1                       0.0            0                                0   \n",
       "2                       0.0            0                                1   \n",
       "3                       0.0            0                                1   \n",
       "4                       0.0            0                                1   \n",
       "\n",
       "   Type of Travel_Personal Travel  Class_Eco  Class_Eco Plus  \\\n",
       "0                               1          1               0   \n",
       "1                               1          1               0   \n",
       "2                               0          0               0   \n",
       "3                               0          1               0   \n",
       "4                               0          0               0   \n",
       "\n",
       "   satisfaction_satisfied  \n",
       "0                       0  \n",
       "1                       0  \n",
       "2                       0  \n",
       "3                       0  \n",
       "4                       0  \n",
       "\n",
       "[5 rows x 24 columns]"
      ]
     },
     "execution_count": 188,
     "metadata": {},
     "output_type": "execute_result"
    }
   ],
   "source": [
    "df.head()"
   ]
  },
  {
   "cell_type": "code",
   "execution_count": null,
   "metadata": {
    "executionInfo": {
     "elapsed": 68,
     "status": "ok",
     "timestamp": 1670050936633,
     "user": {
      "displayName": "Shrikant Chormale",
      "userId": "06649212260482941230"
     },
     "user_tz": -330
    },
    "id": "2f2d6688-423e-47f8-9b6e-c6ef0360a7c7"
   },
   "outputs": [],
   "source": []
  },
  {
   "cell_type": "markdown",
   "metadata": {
    "id": "b0cbbae6-8fb0-4bca-babc-bb0ef1d25bb4"
   },
   "source": [
    "# Now Data is Ready For Learn ALGORITHM "
   ]
  },
  {
   "cell_type": "markdown",
   "metadata": {
    "id": "8a6f97b1-57fd-476a-97e9-7a1ceca920da"
   },
   "source": [
    "# MODEL BULDING"
   ]
  },
  {
   "cell_type": "code",
   "execution_count": 189,
   "metadata": {
    "executionInfo": {
     "elapsed": 67,
     "status": "ok",
     "timestamp": 1670050936633,
     "user": {
      "displayName": "Shrikant Chormale",
      "userId": "06649212260482941230"
     },
     "user_tz": -330
    },
    "id": "265a1534-0ff3-46b6-bffe-cf952fc5feab"
   },
   "outputs": [],
   "source": [
    "# selecting the in your data independent(x) and dependent(y) variable"
   ]
  },
  {
   "cell_type": "code",
   "execution_count": 190,
   "metadata": {
    "executionInfo": {
     "elapsed": 68,
     "status": "ok",
     "timestamp": 1670050936634,
     "user": {
      "displayName": "Shrikant Chormale",
      "userId": "06649212260482941230"
     },
     "user_tz": -330
    },
    "id": "3e90282b-b6df-4fd0-8ef3-adf9c479633e"
   },
   "outputs": [],
   "source": [
    "X=df.drop('satisfaction_satisfied',axis=1)\n",
    "y=df['satisfaction_satisfied']"
   ]
  },
  {
   "cell_type": "code",
   "execution_count": 191,
   "metadata": {
    "executionInfo": {
     "elapsed": 67,
     "status": "ok",
     "timestamp": 1670050936634,
     "user": {
      "displayName": "Shrikant Chormale",
      "userId": "06649212260482941230"
     },
     "user_tz": -330
    },
    "id": "5510e9c8-59b0-47da-b527-8b2feef17f7d"
   },
   "outputs": [],
   "source": [
    "# checking the shape"
   ]
  },
  {
   "cell_type": "code",
   "execution_count": 192,
   "metadata": {
    "colab": {
     "base_uri": "https://localhost:8080/"
    },
    "executionInfo": {
     "elapsed": 68,
     "status": "ok",
     "timestamp": 1670050936635,
     "user": {
      "displayName": "Shrikant Chormale",
      "userId": "06649212260482941230"
     },
     "user_tz": -330
    },
    "id": "8cc129d7-b6cf-49df-b55f-639094cb95bc",
    "outputId": "5934ec71-308a-4d69-8c0d-80f47ad2d1b5"
   },
   "outputs": [
    {
     "data": {
      "text/plain": [
       "(42577, 23)"
      ]
     },
     "execution_count": 192,
     "metadata": {},
     "output_type": "execute_result"
    }
   ],
   "source": [
    "X.shape"
   ]
  },
  {
   "cell_type": "code",
   "execution_count": 193,
   "metadata": {
    "colab": {
     "base_uri": "https://localhost:8080/"
    },
    "executionInfo": {
     "elapsed": 67,
     "status": "ok",
     "timestamp": 1670050936636,
     "user": {
      "displayName": "Shrikant Chormale",
      "userId": "06649212260482941230"
     },
     "user_tz": -330
    },
    "id": "06191dad-0dbb-4f2c-898e-5cb106e5983b",
    "outputId": "858513f5-11a1-4493-a3e4-0d01d3066d98"
   },
   "outputs": [
    {
     "data": {
      "text/plain": [
       "(42577,)"
      ]
     },
     "execution_count": 193,
     "metadata": {},
     "output_type": "execute_result"
    }
   ],
   "source": [
    "y.shape"
   ]
  },
  {
   "cell_type": "code",
   "execution_count": 194,
   "metadata": {},
   "outputs": [],
   "source": [
    "from sklearn.preprocessing import StandardScaler\n",
    "\n",
    "scalar= StandardScaler()\n",
    "\n",
    "scaled=scalar.fit_transform(X)"
   ]
  },
  {
   "cell_type": "code",
   "execution_count": 195,
   "metadata": {
    "executionInfo": {
     "elapsed": 666,
     "status": "ok",
     "timestamp": 1670050937237,
     "user": {
      "displayName": "Shrikant Chormale",
      "userId": "06649212260482941230"
     },
     "user_tz": -330
    },
    "id": "b48f9d94-5879-4629-8065-069dbe8d85c8"
   },
   "outputs": [],
   "source": [
    "# split the data train and test\n",
    "#import the libraries\n",
    "from sklearn.model_selection import train_test_split"
   ]
  },
  {
   "cell_type": "code",
   "execution_count": 196,
   "metadata": {
    "executionInfo": {
     "elapsed": 28,
     "status": "ok",
     "timestamp": 1670050937238,
     "user": {
      "displayName": "Shrikant Chormale",
      "userId": "06649212260482941230"
     },
     "user_tz": -330
    },
    "id": "7200734e-48a1-4a70-aace-c542f1fba497"
   },
   "outputs": [],
   "source": [
    "X_train,X_test,y_train,y_test=train_test_split(scaled,y,test_size=0.3,random_state=42)"
   ]
  },
  {
   "cell_type": "code",
   "execution_count": null,
   "metadata": {
    "executionInfo": {
     "elapsed": 27,
     "status": "ok",
     "timestamp": 1670050937238,
     "user": {
      "displayName": "Shrikant Chormale",
      "userId": "06649212260482941230"
     },
     "user_tz": -330
    },
    "id": "6d802556-ceac-484e-9201-c30c9beed11e"
   },
   "outputs": [],
   "source": []
  },
  {
   "cell_type": "code",
   "execution_count": null,
   "metadata": {
    "executionInfo": {
     "elapsed": 28,
     "status": "ok",
     "timestamp": 1670050937239,
     "user": {
      "displayName": "Shrikant Chormale",
      "userId": "06649212260482941230"
     },
     "user_tz": -330
    },
    "id": "25017811-bc34-4a59-a1e9-be73687826d6"
   },
   "outputs": [],
   "source": []
  },
  {
   "cell_type": "markdown",
   "metadata": {},
   "source": [
    "# Logistic"
   ]
  },
  {
   "cell_type": "code",
   "execution_count": 197,
   "metadata": {},
   "outputs": [
    {
     "data": {
      "text/html": [
       "<style>#sk-container-id-2 {color: black;background-color: white;}#sk-container-id-2 pre{padding: 0;}#sk-container-id-2 div.sk-toggleable {background-color: white;}#sk-container-id-2 label.sk-toggleable__label {cursor: pointer;display: block;width: 100%;margin-bottom: 0;padding: 0.3em;box-sizing: border-box;text-align: center;}#sk-container-id-2 label.sk-toggleable__label-arrow:before {content: \"▸\";float: left;margin-right: 0.25em;color: #696969;}#sk-container-id-2 label.sk-toggleable__label-arrow:hover:before {color: black;}#sk-container-id-2 div.sk-estimator:hover label.sk-toggleable__label-arrow:before {color: black;}#sk-container-id-2 div.sk-toggleable__content {max-height: 0;max-width: 0;overflow: hidden;text-align: left;background-color: #f0f8ff;}#sk-container-id-2 div.sk-toggleable__content pre {margin: 0.2em;color: black;border-radius: 0.25em;background-color: #f0f8ff;}#sk-container-id-2 input.sk-toggleable__control:checked~div.sk-toggleable__content {max-height: 200px;max-width: 100%;overflow: auto;}#sk-container-id-2 input.sk-toggleable__control:checked~label.sk-toggleable__label-arrow:before {content: \"▾\";}#sk-container-id-2 div.sk-estimator input.sk-toggleable__control:checked~label.sk-toggleable__label {background-color: #d4ebff;}#sk-container-id-2 div.sk-label input.sk-toggleable__control:checked~label.sk-toggleable__label {background-color: #d4ebff;}#sk-container-id-2 input.sk-hidden--visually {border: 0;clip: rect(1px 1px 1px 1px);clip: rect(1px, 1px, 1px, 1px);height: 1px;margin: -1px;overflow: hidden;padding: 0;position: absolute;width: 1px;}#sk-container-id-2 div.sk-estimator {font-family: monospace;background-color: #f0f8ff;border: 1px dotted black;border-radius: 0.25em;box-sizing: border-box;margin-bottom: 0.5em;}#sk-container-id-2 div.sk-estimator:hover {background-color: #d4ebff;}#sk-container-id-2 div.sk-parallel-item::after {content: \"\";width: 100%;border-bottom: 1px solid gray;flex-grow: 1;}#sk-container-id-2 div.sk-label:hover label.sk-toggleable__label {background-color: #d4ebff;}#sk-container-id-2 div.sk-serial::before {content: \"\";position: absolute;border-left: 1px solid gray;box-sizing: border-box;top: 0;bottom: 0;left: 50%;z-index: 0;}#sk-container-id-2 div.sk-serial {display: flex;flex-direction: column;align-items: center;background-color: white;padding-right: 0.2em;padding-left: 0.2em;position: relative;}#sk-container-id-2 div.sk-item {position: relative;z-index: 1;}#sk-container-id-2 div.sk-parallel {display: flex;align-items: stretch;justify-content: center;background-color: white;position: relative;}#sk-container-id-2 div.sk-item::before, #sk-container-id-2 div.sk-parallel-item::before {content: \"\";position: absolute;border-left: 1px solid gray;box-sizing: border-box;top: 0;bottom: 0;left: 50%;z-index: -1;}#sk-container-id-2 div.sk-parallel-item {display: flex;flex-direction: column;z-index: 1;position: relative;background-color: white;}#sk-container-id-2 div.sk-parallel-item:first-child::after {align-self: flex-end;width: 50%;}#sk-container-id-2 div.sk-parallel-item:last-child::after {align-self: flex-start;width: 50%;}#sk-container-id-2 div.sk-parallel-item:only-child::after {width: 0;}#sk-container-id-2 div.sk-dashed-wrapped {border: 1px dashed gray;margin: 0 0.4em 0.5em 0.4em;box-sizing: border-box;padding-bottom: 0.4em;background-color: white;}#sk-container-id-2 div.sk-label label {font-family: monospace;font-weight: bold;display: inline-block;line-height: 1.2em;}#sk-container-id-2 div.sk-label-container {text-align: center;}#sk-container-id-2 div.sk-container {/* jupyter's `normalize.less` sets `[hidden] { display: none; }` but bootstrap.min.css set `[hidden] { display: none !important; }` so we also need the `!important` here to be able to override the default hidden behavior on the sphinx rendered scikit-learn.org. See: https://github.com/scikit-learn/scikit-learn/issues/21755 */display: inline-block !important;position: relative;}#sk-container-id-2 div.sk-text-repr-fallback {display: none;}</style><div id=\"sk-container-id-2\" class=\"sk-top-container\"><div class=\"sk-text-repr-fallback\"><pre>LogisticRegression()</pre><b>In a Jupyter environment, please rerun this cell to show the HTML representation or trust the notebook. <br />On GitHub, the HTML representation is unable to render, please try loading this page with nbviewer.org.</b></div><div class=\"sk-container\" hidden><div class=\"sk-item\"><div class=\"sk-estimator sk-toggleable\"><input class=\"sk-toggleable__control sk-hidden--visually\" id=\"sk-estimator-id-2\" type=\"checkbox\" checked><label for=\"sk-estimator-id-2\" class=\"sk-toggleable__label sk-toggleable__label-arrow\">LogisticRegression</label><div class=\"sk-toggleable__content\"><pre>LogisticRegression()</pre></div></div></div></div></div>"
      ],
      "text/plain": [
       "LogisticRegression()"
      ]
     },
     "execution_count": 197,
     "metadata": {},
     "output_type": "execute_result"
    }
   ],
   "source": [
    "from sklearn.linear_model import LogisticRegression\n",
    "\n",
    "l_reg=LogisticRegression()\n",
    "l_reg.fit(X_train,y_train)\n",
    "\n"
   ]
  },
  {
   "cell_type": "code",
   "execution_count": 198,
   "metadata": {},
   "outputs": [],
   "source": [
    "from sklearn.metrics import accuracy_score,classification_report"
   ]
  },
  {
   "cell_type": "code",
   "execution_count": 199,
   "metadata": {},
   "outputs": [],
   "source": [
    "def perfomance_maeasure(reg,X_train, X_test, y_train, y_test, train=True,test=True):\n",
    "    \n",
    "    TRAIN_ACCURACY= accuracy_score(y_train,reg.predict(X_train))\n",
    "\n",
    "    TEST_ACCURACY= accuracy_score(y_test,reg.predict(X_test))\n",
    "\n",
    "    #RESULT = classification_report(y_test,y_pred_test)\n",
    "    \n",
    "    traing_results_df=pd.DataFrame({'Model':reg.__class__.__name__,'TRAIN ACCURACY':round(TRAIN_ACCURACY,5),'TEST ACCURACY':round(TEST_ACCURACY,5)},index=[1])\n",
    "    \n",
    "    #print(RESULT)\n",
    "    return traing_results_df"
   ]
  },
  {
   "cell_type": "code",
   "execution_count": 200,
   "metadata": {},
   "outputs": [
    {
     "data": {
      "text/html": [
       "<div>\n",
       "<style scoped>\n",
       "    .dataframe tbody tr th:only-of-type {\n",
       "        vertical-align: middle;\n",
       "    }\n",
       "\n",
       "    .dataframe tbody tr th {\n",
       "        vertical-align: top;\n",
       "    }\n",
       "\n",
       "    .dataframe thead th {\n",
       "        text-align: right;\n",
       "    }\n",
       "</style>\n",
       "<table border=\"1\" class=\"dataframe\">\n",
       "  <thead>\n",
       "    <tr style=\"text-align: right;\">\n",
       "      <th></th>\n",
       "      <th>Model</th>\n",
       "      <th>TRAIN ACCURACY</th>\n",
       "      <th>TEST ACCURACY</th>\n",
       "    </tr>\n",
       "  </thead>\n",
       "  <tbody>\n",
       "    <tr>\n",
       "      <th>1</th>\n",
       "      <td>LogisticRegression</td>\n",
       "      <td>0.87397</td>\n",
       "      <td>0.87122</td>\n",
       "    </tr>\n",
       "  </tbody>\n",
       "</table>\n",
       "</div>"
      ],
      "text/plain": [
       "                Model  TRAIN ACCURACY  TEST ACCURACY\n",
       "1  LogisticRegression         0.87397        0.87122"
      ]
     },
     "execution_count": 200,
     "metadata": {},
     "output_type": "execute_result"
    }
   ],
   "source": [
    "Logistic = perfomance_maeasure(l_reg,X_train, X_test, y_train, y_test, train=True,test=True)\n",
    "Logistic"
   ]
  },
  {
   "cell_type": "code",
   "execution_count": null,
   "metadata": {},
   "outputs": [],
   "source": []
  },
  {
   "cell_type": "code",
   "execution_count": null,
   "metadata": {},
   "outputs": [],
   "source": []
  },
  {
   "cell_type": "markdown",
   "metadata": {},
   "source": [
    "# Decision Tree"
   ]
  },
  {
   "cell_type": "code",
   "execution_count": 201,
   "metadata": {},
   "outputs": [
    {
     "data": {
      "text/html": [
       "<style>#sk-container-id-3 {color: black;background-color: white;}#sk-container-id-3 pre{padding: 0;}#sk-container-id-3 div.sk-toggleable {background-color: white;}#sk-container-id-3 label.sk-toggleable__label {cursor: pointer;display: block;width: 100%;margin-bottom: 0;padding: 0.3em;box-sizing: border-box;text-align: center;}#sk-container-id-3 label.sk-toggleable__label-arrow:before {content: \"▸\";float: left;margin-right: 0.25em;color: #696969;}#sk-container-id-3 label.sk-toggleable__label-arrow:hover:before {color: black;}#sk-container-id-3 div.sk-estimator:hover label.sk-toggleable__label-arrow:before {color: black;}#sk-container-id-3 div.sk-toggleable__content {max-height: 0;max-width: 0;overflow: hidden;text-align: left;background-color: #f0f8ff;}#sk-container-id-3 div.sk-toggleable__content pre {margin: 0.2em;color: black;border-radius: 0.25em;background-color: #f0f8ff;}#sk-container-id-3 input.sk-toggleable__control:checked~div.sk-toggleable__content {max-height: 200px;max-width: 100%;overflow: auto;}#sk-container-id-3 input.sk-toggleable__control:checked~label.sk-toggleable__label-arrow:before {content: \"▾\";}#sk-container-id-3 div.sk-estimator input.sk-toggleable__control:checked~label.sk-toggleable__label {background-color: #d4ebff;}#sk-container-id-3 div.sk-label input.sk-toggleable__control:checked~label.sk-toggleable__label {background-color: #d4ebff;}#sk-container-id-3 input.sk-hidden--visually {border: 0;clip: rect(1px 1px 1px 1px);clip: rect(1px, 1px, 1px, 1px);height: 1px;margin: -1px;overflow: hidden;padding: 0;position: absolute;width: 1px;}#sk-container-id-3 div.sk-estimator {font-family: monospace;background-color: #f0f8ff;border: 1px dotted black;border-radius: 0.25em;box-sizing: border-box;margin-bottom: 0.5em;}#sk-container-id-3 div.sk-estimator:hover {background-color: #d4ebff;}#sk-container-id-3 div.sk-parallel-item::after {content: \"\";width: 100%;border-bottom: 1px solid gray;flex-grow: 1;}#sk-container-id-3 div.sk-label:hover label.sk-toggleable__label {background-color: #d4ebff;}#sk-container-id-3 div.sk-serial::before {content: \"\";position: absolute;border-left: 1px solid gray;box-sizing: border-box;top: 0;bottom: 0;left: 50%;z-index: 0;}#sk-container-id-3 div.sk-serial {display: flex;flex-direction: column;align-items: center;background-color: white;padding-right: 0.2em;padding-left: 0.2em;position: relative;}#sk-container-id-3 div.sk-item {position: relative;z-index: 1;}#sk-container-id-3 div.sk-parallel {display: flex;align-items: stretch;justify-content: center;background-color: white;position: relative;}#sk-container-id-3 div.sk-item::before, #sk-container-id-3 div.sk-parallel-item::before {content: \"\";position: absolute;border-left: 1px solid gray;box-sizing: border-box;top: 0;bottom: 0;left: 50%;z-index: -1;}#sk-container-id-3 div.sk-parallel-item {display: flex;flex-direction: column;z-index: 1;position: relative;background-color: white;}#sk-container-id-3 div.sk-parallel-item:first-child::after {align-self: flex-end;width: 50%;}#sk-container-id-3 div.sk-parallel-item:last-child::after {align-self: flex-start;width: 50%;}#sk-container-id-3 div.sk-parallel-item:only-child::after {width: 0;}#sk-container-id-3 div.sk-dashed-wrapped {border: 1px dashed gray;margin: 0 0.4em 0.5em 0.4em;box-sizing: border-box;padding-bottom: 0.4em;background-color: white;}#sk-container-id-3 div.sk-label label {font-family: monospace;font-weight: bold;display: inline-block;line-height: 1.2em;}#sk-container-id-3 div.sk-label-container {text-align: center;}#sk-container-id-3 div.sk-container {/* jupyter's `normalize.less` sets `[hidden] { display: none; }` but bootstrap.min.css set `[hidden] { display: none !important; }` so we also need the `!important` here to be able to override the default hidden behavior on the sphinx rendered scikit-learn.org. See: https://github.com/scikit-learn/scikit-learn/issues/21755 */display: inline-block !important;position: relative;}#sk-container-id-3 div.sk-text-repr-fallback {display: none;}</style><div id=\"sk-container-id-3\" class=\"sk-top-container\"><div class=\"sk-text-repr-fallback\"><pre>DecisionTreeClassifier()</pre><b>In a Jupyter environment, please rerun this cell to show the HTML representation or trust the notebook. <br />On GitHub, the HTML representation is unable to render, please try loading this page with nbviewer.org.</b></div><div class=\"sk-container\" hidden><div class=\"sk-item\"><div class=\"sk-estimator sk-toggleable\"><input class=\"sk-toggleable__control sk-hidden--visually\" id=\"sk-estimator-id-3\" type=\"checkbox\" checked><label for=\"sk-estimator-id-3\" class=\"sk-toggleable__label sk-toggleable__label-arrow\">DecisionTreeClassifier</label><div class=\"sk-toggleable__content\"><pre>DecisionTreeClassifier()</pre></div></div></div></div></div>"
      ],
      "text/plain": [
       "DecisionTreeClassifier()"
      ]
     },
     "execution_count": 201,
     "metadata": {},
     "output_type": "execute_result"
    }
   ],
   "source": [
    "from sklearn.tree import DecisionTreeClassifier\n",
    "\n",
    "dt=DecisionTreeClassifier()\n",
    "dt.fit(X_train,y_train)\n"
   ]
  },
  {
   "cell_type": "code",
   "execution_count": 202,
   "metadata": {},
   "outputs": [
    {
     "data": {
      "text/html": [
       "<div>\n",
       "<style scoped>\n",
       "    .dataframe tbody tr th:only-of-type {\n",
       "        vertical-align: middle;\n",
       "    }\n",
       "\n",
       "    .dataframe tbody tr th {\n",
       "        vertical-align: top;\n",
       "    }\n",
       "\n",
       "    .dataframe thead th {\n",
       "        text-align: right;\n",
       "    }\n",
       "</style>\n",
       "<table border=\"1\" class=\"dataframe\">\n",
       "  <thead>\n",
       "    <tr style=\"text-align: right;\">\n",
       "      <th></th>\n",
       "      <th>Model</th>\n",
       "      <th>TRAIN ACCURACY</th>\n",
       "      <th>TEST ACCURACY</th>\n",
       "    </tr>\n",
       "  </thead>\n",
       "  <tbody>\n",
       "    <tr>\n",
       "      <th>1</th>\n",
       "      <td>DecisionTreeClassifier</td>\n",
       "      <td>1.0</td>\n",
       "      <td>0.93855</td>\n",
       "    </tr>\n",
       "  </tbody>\n",
       "</table>\n",
       "</div>"
      ],
      "text/plain": [
       "                    Model  TRAIN ACCURACY  TEST ACCURACY\n",
       "1  DecisionTreeClassifier             1.0        0.93855"
      ]
     },
     "execution_count": 202,
     "metadata": {},
     "output_type": "execute_result"
    }
   ],
   "source": [
    "Decision = perfomance_maeasure(dt,X_train, X_test, y_train, y_test, train=True,test=True)\n",
    "Decision"
   ]
  },
  {
   "cell_type": "code",
   "execution_count": null,
   "metadata": {},
   "outputs": [],
   "source": []
  },
  {
   "cell_type": "code",
   "execution_count": null,
   "metadata": {},
   "outputs": [],
   "source": []
  },
  {
   "cell_type": "code",
   "execution_count": null,
   "metadata": {},
   "outputs": [],
   "source": []
  },
  {
   "cell_type": "markdown",
   "metadata": {},
   "source": [
    "# Random Forest"
   ]
  },
  {
   "cell_type": "code",
   "execution_count": 203,
   "metadata": {},
   "outputs": [
    {
     "data": {
      "text/html": [
       "<style>#sk-container-id-4 {color: black;background-color: white;}#sk-container-id-4 pre{padding: 0;}#sk-container-id-4 div.sk-toggleable {background-color: white;}#sk-container-id-4 label.sk-toggleable__label {cursor: pointer;display: block;width: 100%;margin-bottom: 0;padding: 0.3em;box-sizing: border-box;text-align: center;}#sk-container-id-4 label.sk-toggleable__label-arrow:before {content: \"▸\";float: left;margin-right: 0.25em;color: #696969;}#sk-container-id-4 label.sk-toggleable__label-arrow:hover:before {color: black;}#sk-container-id-4 div.sk-estimator:hover label.sk-toggleable__label-arrow:before {color: black;}#sk-container-id-4 div.sk-toggleable__content {max-height: 0;max-width: 0;overflow: hidden;text-align: left;background-color: #f0f8ff;}#sk-container-id-4 div.sk-toggleable__content pre {margin: 0.2em;color: black;border-radius: 0.25em;background-color: #f0f8ff;}#sk-container-id-4 input.sk-toggleable__control:checked~div.sk-toggleable__content {max-height: 200px;max-width: 100%;overflow: auto;}#sk-container-id-4 input.sk-toggleable__control:checked~label.sk-toggleable__label-arrow:before {content: \"▾\";}#sk-container-id-4 div.sk-estimator input.sk-toggleable__control:checked~label.sk-toggleable__label {background-color: #d4ebff;}#sk-container-id-4 div.sk-label input.sk-toggleable__control:checked~label.sk-toggleable__label {background-color: #d4ebff;}#sk-container-id-4 input.sk-hidden--visually {border: 0;clip: rect(1px 1px 1px 1px);clip: rect(1px, 1px, 1px, 1px);height: 1px;margin: -1px;overflow: hidden;padding: 0;position: absolute;width: 1px;}#sk-container-id-4 div.sk-estimator {font-family: monospace;background-color: #f0f8ff;border: 1px dotted black;border-radius: 0.25em;box-sizing: border-box;margin-bottom: 0.5em;}#sk-container-id-4 div.sk-estimator:hover {background-color: #d4ebff;}#sk-container-id-4 div.sk-parallel-item::after {content: \"\";width: 100%;border-bottom: 1px solid gray;flex-grow: 1;}#sk-container-id-4 div.sk-label:hover label.sk-toggleable__label {background-color: #d4ebff;}#sk-container-id-4 div.sk-serial::before {content: \"\";position: absolute;border-left: 1px solid gray;box-sizing: border-box;top: 0;bottom: 0;left: 50%;z-index: 0;}#sk-container-id-4 div.sk-serial {display: flex;flex-direction: column;align-items: center;background-color: white;padding-right: 0.2em;padding-left: 0.2em;position: relative;}#sk-container-id-4 div.sk-item {position: relative;z-index: 1;}#sk-container-id-4 div.sk-parallel {display: flex;align-items: stretch;justify-content: center;background-color: white;position: relative;}#sk-container-id-4 div.sk-item::before, #sk-container-id-4 div.sk-parallel-item::before {content: \"\";position: absolute;border-left: 1px solid gray;box-sizing: border-box;top: 0;bottom: 0;left: 50%;z-index: -1;}#sk-container-id-4 div.sk-parallel-item {display: flex;flex-direction: column;z-index: 1;position: relative;background-color: white;}#sk-container-id-4 div.sk-parallel-item:first-child::after {align-self: flex-end;width: 50%;}#sk-container-id-4 div.sk-parallel-item:last-child::after {align-self: flex-start;width: 50%;}#sk-container-id-4 div.sk-parallel-item:only-child::after {width: 0;}#sk-container-id-4 div.sk-dashed-wrapped {border: 1px dashed gray;margin: 0 0.4em 0.5em 0.4em;box-sizing: border-box;padding-bottom: 0.4em;background-color: white;}#sk-container-id-4 div.sk-label label {font-family: monospace;font-weight: bold;display: inline-block;line-height: 1.2em;}#sk-container-id-4 div.sk-label-container {text-align: center;}#sk-container-id-4 div.sk-container {/* jupyter's `normalize.less` sets `[hidden] { display: none; }` but bootstrap.min.css set `[hidden] { display: none !important; }` so we also need the `!important` here to be able to override the default hidden behavior on the sphinx rendered scikit-learn.org. See: https://github.com/scikit-learn/scikit-learn/issues/21755 */display: inline-block !important;position: relative;}#sk-container-id-4 div.sk-text-repr-fallback {display: none;}</style><div id=\"sk-container-id-4\" class=\"sk-top-container\"><div class=\"sk-text-repr-fallback\"><pre>RandomForestClassifier()</pre><b>In a Jupyter environment, please rerun this cell to show the HTML representation or trust the notebook. <br />On GitHub, the HTML representation is unable to render, please try loading this page with nbviewer.org.</b></div><div class=\"sk-container\" hidden><div class=\"sk-item\"><div class=\"sk-estimator sk-toggleable\"><input class=\"sk-toggleable__control sk-hidden--visually\" id=\"sk-estimator-id-4\" type=\"checkbox\" checked><label for=\"sk-estimator-id-4\" class=\"sk-toggleable__label sk-toggleable__label-arrow\">RandomForestClassifier</label><div class=\"sk-toggleable__content\"><pre>RandomForestClassifier()</pre></div></div></div></div></div>"
      ],
      "text/plain": [
       "RandomForestClassifier()"
      ]
     },
     "execution_count": 203,
     "metadata": {},
     "output_type": "execute_result"
    }
   ],
   "source": [
    "from sklearn.ensemble import RandomForestClassifier\n",
    "\n",
    "rf=RandomForestClassifier()\n",
    "rf.fit(X_train,y_train)\n",
    "\n"
   ]
  },
  {
   "cell_type": "code",
   "execution_count": 204,
   "metadata": {},
   "outputs": [
    {
     "data": {
      "text/html": [
       "<div>\n",
       "<style scoped>\n",
       "    .dataframe tbody tr th:only-of-type {\n",
       "        vertical-align: middle;\n",
       "    }\n",
       "\n",
       "    .dataframe tbody tr th {\n",
       "        vertical-align: top;\n",
       "    }\n",
       "\n",
       "    .dataframe thead th {\n",
       "        text-align: right;\n",
       "    }\n",
       "</style>\n",
       "<table border=\"1\" class=\"dataframe\">\n",
       "  <thead>\n",
       "    <tr style=\"text-align: right;\">\n",
       "      <th></th>\n",
       "      <th>Model</th>\n",
       "      <th>TRAIN ACCURACY</th>\n",
       "      <th>TEST ACCURACY</th>\n",
       "    </tr>\n",
       "  </thead>\n",
       "  <tbody>\n",
       "    <tr>\n",
       "      <th>1</th>\n",
       "      <td>RandomForestClassifier</td>\n",
       "      <td>1.0</td>\n",
       "      <td>0.95898</td>\n",
       "    </tr>\n",
       "  </tbody>\n",
       "</table>\n",
       "</div>"
      ],
      "text/plain": [
       "                    Model  TRAIN ACCURACY  TEST ACCURACY\n",
       "1  RandomForestClassifier             1.0        0.95898"
      ]
     },
     "execution_count": 204,
     "metadata": {},
     "output_type": "execute_result"
    }
   ],
   "source": [
    "Random = perfomance_maeasure(rf,X_train, X_test, y_train, y_test, train=True,test=True)\n",
    "Random"
   ]
  },
  {
   "cell_type": "code",
   "execution_count": null,
   "metadata": {},
   "outputs": [],
   "source": []
  },
  {
   "cell_type": "code",
   "execution_count": 205,
   "metadata": {},
   "outputs": [
    {
     "data": {
      "text/html": [
       "<style>#sk-container-id-5 {color: black;background-color: white;}#sk-container-id-5 pre{padding: 0;}#sk-container-id-5 div.sk-toggleable {background-color: white;}#sk-container-id-5 label.sk-toggleable__label {cursor: pointer;display: block;width: 100%;margin-bottom: 0;padding: 0.3em;box-sizing: border-box;text-align: center;}#sk-container-id-5 label.sk-toggleable__label-arrow:before {content: \"▸\";float: left;margin-right: 0.25em;color: #696969;}#sk-container-id-5 label.sk-toggleable__label-arrow:hover:before {color: black;}#sk-container-id-5 div.sk-estimator:hover label.sk-toggleable__label-arrow:before {color: black;}#sk-container-id-5 div.sk-toggleable__content {max-height: 0;max-width: 0;overflow: hidden;text-align: left;background-color: #f0f8ff;}#sk-container-id-5 div.sk-toggleable__content pre {margin: 0.2em;color: black;border-radius: 0.25em;background-color: #f0f8ff;}#sk-container-id-5 input.sk-toggleable__control:checked~div.sk-toggleable__content {max-height: 200px;max-width: 100%;overflow: auto;}#sk-container-id-5 input.sk-toggleable__control:checked~label.sk-toggleable__label-arrow:before {content: \"▾\";}#sk-container-id-5 div.sk-estimator input.sk-toggleable__control:checked~label.sk-toggleable__label {background-color: #d4ebff;}#sk-container-id-5 div.sk-label input.sk-toggleable__control:checked~label.sk-toggleable__label {background-color: #d4ebff;}#sk-container-id-5 input.sk-hidden--visually {border: 0;clip: rect(1px 1px 1px 1px);clip: rect(1px, 1px, 1px, 1px);height: 1px;margin: -1px;overflow: hidden;padding: 0;position: absolute;width: 1px;}#sk-container-id-5 div.sk-estimator {font-family: monospace;background-color: #f0f8ff;border: 1px dotted black;border-radius: 0.25em;box-sizing: border-box;margin-bottom: 0.5em;}#sk-container-id-5 div.sk-estimator:hover {background-color: #d4ebff;}#sk-container-id-5 div.sk-parallel-item::after {content: \"\";width: 100%;border-bottom: 1px solid gray;flex-grow: 1;}#sk-container-id-5 div.sk-label:hover label.sk-toggleable__label {background-color: #d4ebff;}#sk-container-id-5 div.sk-serial::before {content: \"\";position: absolute;border-left: 1px solid gray;box-sizing: border-box;top: 0;bottom: 0;left: 50%;z-index: 0;}#sk-container-id-5 div.sk-serial {display: flex;flex-direction: column;align-items: center;background-color: white;padding-right: 0.2em;padding-left: 0.2em;position: relative;}#sk-container-id-5 div.sk-item {position: relative;z-index: 1;}#sk-container-id-5 div.sk-parallel {display: flex;align-items: stretch;justify-content: center;background-color: white;position: relative;}#sk-container-id-5 div.sk-item::before, #sk-container-id-5 div.sk-parallel-item::before {content: \"\";position: absolute;border-left: 1px solid gray;box-sizing: border-box;top: 0;bottom: 0;left: 50%;z-index: -1;}#sk-container-id-5 div.sk-parallel-item {display: flex;flex-direction: column;z-index: 1;position: relative;background-color: white;}#sk-container-id-5 div.sk-parallel-item:first-child::after {align-self: flex-end;width: 50%;}#sk-container-id-5 div.sk-parallel-item:last-child::after {align-self: flex-start;width: 50%;}#sk-container-id-5 div.sk-parallel-item:only-child::after {width: 0;}#sk-container-id-5 div.sk-dashed-wrapped {border: 1px dashed gray;margin: 0 0.4em 0.5em 0.4em;box-sizing: border-box;padding-bottom: 0.4em;background-color: white;}#sk-container-id-5 div.sk-label label {font-family: monospace;font-weight: bold;display: inline-block;line-height: 1.2em;}#sk-container-id-5 div.sk-label-container {text-align: center;}#sk-container-id-5 div.sk-container {/* jupyter's `normalize.less` sets `[hidden] { display: none; }` but bootstrap.min.css set `[hidden] { display: none !important; }` so we also need the `!important` here to be able to override the default hidden behavior on the sphinx rendered scikit-learn.org. See: https://github.com/scikit-learn/scikit-learn/issues/21755 */display: inline-block !important;position: relative;}#sk-container-id-5 div.sk-text-repr-fallback {display: none;}</style><div id=\"sk-container-id-5\" class=\"sk-top-container\"><div class=\"sk-text-repr-fallback\"><pre>SVC()</pre><b>In a Jupyter environment, please rerun this cell to show the HTML representation or trust the notebook. <br />On GitHub, the HTML representation is unable to render, please try loading this page with nbviewer.org.</b></div><div class=\"sk-container\" hidden><div class=\"sk-item\"><div class=\"sk-estimator sk-toggleable\"><input class=\"sk-toggleable__control sk-hidden--visually\" id=\"sk-estimator-id-5\" type=\"checkbox\" checked><label for=\"sk-estimator-id-5\" class=\"sk-toggleable__label sk-toggleable__label-arrow\">SVC</label><div class=\"sk-toggleable__content\"><pre>SVC()</pre></div></div></div></div></div>"
      ],
      "text/plain": [
       "SVC()"
      ]
     },
     "execution_count": 205,
     "metadata": {},
     "output_type": "execute_result"
    }
   ],
   "source": [
    "from sklearn import svm\n",
    "\n",
    "svm = svm.SVC()\n",
    "svm.fit(X_train, y_train)\n",
    "\n"
   ]
  },
  {
   "cell_type": "code",
   "execution_count": 206,
   "metadata": {},
   "outputs": [
    {
     "data": {
      "text/html": [
       "<div>\n",
       "<style scoped>\n",
       "    .dataframe tbody tr th:only-of-type {\n",
       "        vertical-align: middle;\n",
       "    }\n",
       "\n",
       "    .dataframe tbody tr th {\n",
       "        vertical-align: top;\n",
       "    }\n",
       "\n",
       "    .dataframe thead th {\n",
       "        text-align: right;\n",
       "    }\n",
       "</style>\n",
       "<table border=\"1\" class=\"dataframe\">\n",
       "  <thead>\n",
       "    <tr style=\"text-align: right;\">\n",
       "      <th></th>\n",
       "      <th>Model</th>\n",
       "      <th>TRAIN ACCURACY</th>\n",
       "      <th>TEST ACCURACY</th>\n",
       "    </tr>\n",
       "  </thead>\n",
       "  <tbody>\n",
       "    <tr>\n",
       "      <th>1</th>\n",
       "      <td>SVC</td>\n",
       "      <td>0.95682</td>\n",
       "      <td>0.94755</td>\n",
       "    </tr>\n",
       "  </tbody>\n",
       "</table>\n",
       "</div>"
      ],
      "text/plain": [
       "  Model  TRAIN ACCURACY  TEST ACCURACY\n",
       "1   SVC         0.95682        0.94755"
      ]
     },
     "execution_count": 206,
     "metadata": {},
     "output_type": "execute_result"
    }
   ],
   "source": [
    "SVM = perfomance_maeasure(svm,X_train, X_test, y_train, y_test, train=True,test=True)\n",
    "SVM"
   ]
  },
  {
   "cell_type": "code",
   "execution_count": null,
   "metadata": {},
   "outputs": [],
   "source": []
  },
  {
   "cell_type": "code",
   "execution_count": 214,
   "metadata": {},
   "outputs": [
    {
     "data": {
      "text/html": [
       "<style>#sk-container-id-8 {color: black;background-color: white;}#sk-container-id-8 pre{padding: 0;}#sk-container-id-8 div.sk-toggleable {background-color: white;}#sk-container-id-8 label.sk-toggleable__label {cursor: pointer;display: block;width: 100%;margin-bottom: 0;padding: 0.3em;box-sizing: border-box;text-align: center;}#sk-container-id-8 label.sk-toggleable__label-arrow:before {content: \"▸\";float: left;margin-right: 0.25em;color: #696969;}#sk-container-id-8 label.sk-toggleable__label-arrow:hover:before {color: black;}#sk-container-id-8 div.sk-estimator:hover label.sk-toggleable__label-arrow:before {color: black;}#sk-container-id-8 div.sk-toggleable__content {max-height: 0;max-width: 0;overflow: hidden;text-align: left;background-color: #f0f8ff;}#sk-container-id-8 div.sk-toggleable__content pre {margin: 0.2em;color: black;border-radius: 0.25em;background-color: #f0f8ff;}#sk-container-id-8 input.sk-toggleable__control:checked~div.sk-toggleable__content {max-height: 200px;max-width: 100%;overflow: auto;}#sk-container-id-8 input.sk-toggleable__control:checked~label.sk-toggleable__label-arrow:before {content: \"▾\";}#sk-container-id-8 div.sk-estimator input.sk-toggleable__control:checked~label.sk-toggleable__label {background-color: #d4ebff;}#sk-container-id-8 div.sk-label input.sk-toggleable__control:checked~label.sk-toggleable__label {background-color: #d4ebff;}#sk-container-id-8 input.sk-hidden--visually {border: 0;clip: rect(1px 1px 1px 1px);clip: rect(1px, 1px, 1px, 1px);height: 1px;margin: -1px;overflow: hidden;padding: 0;position: absolute;width: 1px;}#sk-container-id-8 div.sk-estimator {font-family: monospace;background-color: #f0f8ff;border: 1px dotted black;border-radius: 0.25em;box-sizing: border-box;margin-bottom: 0.5em;}#sk-container-id-8 div.sk-estimator:hover {background-color: #d4ebff;}#sk-container-id-8 div.sk-parallel-item::after {content: \"\";width: 100%;border-bottom: 1px solid gray;flex-grow: 1;}#sk-container-id-8 div.sk-label:hover label.sk-toggleable__label {background-color: #d4ebff;}#sk-container-id-8 div.sk-serial::before {content: \"\";position: absolute;border-left: 1px solid gray;box-sizing: border-box;top: 0;bottom: 0;left: 50%;z-index: 0;}#sk-container-id-8 div.sk-serial {display: flex;flex-direction: column;align-items: center;background-color: white;padding-right: 0.2em;padding-left: 0.2em;position: relative;}#sk-container-id-8 div.sk-item {position: relative;z-index: 1;}#sk-container-id-8 div.sk-parallel {display: flex;align-items: stretch;justify-content: center;background-color: white;position: relative;}#sk-container-id-8 div.sk-item::before, #sk-container-id-8 div.sk-parallel-item::before {content: \"\";position: absolute;border-left: 1px solid gray;box-sizing: border-box;top: 0;bottom: 0;left: 50%;z-index: -1;}#sk-container-id-8 div.sk-parallel-item {display: flex;flex-direction: column;z-index: 1;position: relative;background-color: white;}#sk-container-id-8 div.sk-parallel-item:first-child::after {align-self: flex-end;width: 50%;}#sk-container-id-8 div.sk-parallel-item:last-child::after {align-self: flex-start;width: 50%;}#sk-container-id-8 div.sk-parallel-item:only-child::after {width: 0;}#sk-container-id-8 div.sk-dashed-wrapped {border: 1px dashed gray;margin: 0 0.4em 0.5em 0.4em;box-sizing: border-box;padding-bottom: 0.4em;background-color: white;}#sk-container-id-8 div.sk-label label {font-family: monospace;font-weight: bold;display: inline-block;line-height: 1.2em;}#sk-container-id-8 div.sk-label-container {text-align: center;}#sk-container-id-8 div.sk-container {/* jupyter's `normalize.less` sets `[hidden] { display: none; }` but bootstrap.min.css set `[hidden] { display: none !important; }` so we also need the `!important` here to be able to override the default hidden behavior on the sphinx rendered scikit-learn.org. See: https://github.com/scikit-learn/scikit-learn/issues/21755 */display: inline-block !important;position: relative;}#sk-container-id-8 div.sk-text-repr-fallback {display: none;}</style><div id=\"sk-container-id-8\" class=\"sk-top-container\"><div class=\"sk-text-repr-fallback\"><pre>KNeighborsClassifier()</pre><b>In a Jupyter environment, please rerun this cell to show the HTML representation or trust the notebook. <br />On GitHub, the HTML representation is unable to render, please try loading this page with nbviewer.org.</b></div><div class=\"sk-container\" hidden><div class=\"sk-item\"><div class=\"sk-estimator sk-toggleable\"><input class=\"sk-toggleable__control sk-hidden--visually\" id=\"sk-estimator-id-8\" type=\"checkbox\" checked><label for=\"sk-estimator-id-8\" class=\"sk-toggleable__label sk-toggleable__label-arrow\">KNeighborsClassifier</label><div class=\"sk-toggleable__content\"><pre>KNeighborsClassifier()</pre></div></div></div></div></div>"
      ],
      "text/plain": [
       "KNeighborsClassifier()"
      ]
     },
     "execution_count": 214,
     "metadata": {},
     "output_type": "execute_result"
    }
   ],
   "source": [
    "from sklearn.neighbors import KNeighborsClassifier\n",
    "\n",
    "knn = KNeighborsClassifier()\n",
    "knn.fit(X_train,y_train) "
   ]
  },
  {
   "cell_type": "code",
   "execution_count": null,
   "metadata": {},
   "outputs": [],
   "source": []
  },
  {
   "cell_type": "code",
   "execution_count": null,
   "metadata": {},
   "outputs": [],
   "source": []
  },
  {
   "cell_type": "code",
   "execution_count": null,
   "metadata": {},
   "outputs": [],
   "source": []
  },
  {
   "cell_type": "markdown",
   "metadata": {},
   "source": [
    "# Naive Bayes"
   ]
  },
  {
   "cell_type": "code",
   "execution_count": 207,
   "metadata": {},
   "outputs": [
    {
     "data": {
      "text/html": [
       "<style>#sk-container-id-6 {color: black;background-color: white;}#sk-container-id-6 pre{padding: 0;}#sk-container-id-6 div.sk-toggleable {background-color: white;}#sk-container-id-6 label.sk-toggleable__label {cursor: pointer;display: block;width: 100%;margin-bottom: 0;padding: 0.3em;box-sizing: border-box;text-align: center;}#sk-container-id-6 label.sk-toggleable__label-arrow:before {content: \"▸\";float: left;margin-right: 0.25em;color: #696969;}#sk-container-id-6 label.sk-toggleable__label-arrow:hover:before {color: black;}#sk-container-id-6 div.sk-estimator:hover label.sk-toggleable__label-arrow:before {color: black;}#sk-container-id-6 div.sk-toggleable__content {max-height: 0;max-width: 0;overflow: hidden;text-align: left;background-color: #f0f8ff;}#sk-container-id-6 div.sk-toggleable__content pre {margin: 0.2em;color: black;border-radius: 0.25em;background-color: #f0f8ff;}#sk-container-id-6 input.sk-toggleable__control:checked~div.sk-toggleable__content {max-height: 200px;max-width: 100%;overflow: auto;}#sk-container-id-6 input.sk-toggleable__control:checked~label.sk-toggleable__label-arrow:before {content: \"▾\";}#sk-container-id-6 div.sk-estimator input.sk-toggleable__control:checked~label.sk-toggleable__label {background-color: #d4ebff;}#sk-container-id-6 div.sk-label input.sk-toggleable__control:checked~label.sk-toggleable__label {background-color: #d4ebff;}#sk-container-id-6 input.sk-hidden--visually {border: 0;clip: rect(1px 1px 1px 1px);clip: rect(1px, 1px, 1px, 1px);height: 1px;margin: -1px;overflow: hidden;padding: 0;position: absolute;width: 1px;}#sk-container-id-6 div.sk-estimator {font-family: monospace;background-color: #f0f8ff;border: 1px dotted black;border-radius: 0.25em;box-sizing: border-box;margin-bottom: 0.5em;}#sk-container-id-6 div.sk-estimator:hover {background-color: #d4ebff;}#sk-container-id-6 div.sk-parallel-item::after {content: \"\";width: 100%;border-bottom: 1px solid gray;flex-grow: 1;}#sk-container-id-6 div.sk-label:hover label.sk-toggleable__label {background-color: #d4ebff;}#sk-container-id-6 div.sk-serial::before {content: \"\";position: absolute;border-left: 1px solid gray;box-sizing: border-box;top: 0;bottom: 0;left: 50%;z-index: 0;}#sk-container-id-6 div.sk-serial {display: flex;flex-direction: column;align-items: center;background-color: white;padding-right: 0.2em;padding-left: 0.2em;position: relative;}#sk-container-id-6 div.sk-item {position: relative;z-index: 1;}#sk-container-id-6 div.sk-parallel {display: flex;align-items: stretch;justify-content: center;background-color: white;position: relative;}#sk-container-id-6 div.sk-item::before, #sk-container-id-6 div.sk-parallel-item::before {content: \"\";position: absolute;border-left: 1px solid gray;box-sizing: border-box;top: 0;bottom: 0;left: 50%;z-index: -1;}#sk-container-id-6 div.sk-parallel-item {display: flex;flex-direction: column;z-index: 1;position: relative;background-color: white;}#sk-container-id-6 div.sk-parallel-item:first-child::after {align-self: flex-end;width: 50%;}#sk-container-id-6 div.sk-parallel-item:last-child::after {align-self: flex-start;width: 50%;}#sk-container-id-6 div.sk-parallel-item:only-child::after {width: 0;}#sk-container-id-6 div.sk-dashed-wrapped {border: 1px dashed gray;margin: 0 0.4em 0.5em 0.4em;box-sizing: border-box;padding-bottom: 0.4em;background-color: white;}#sk-container-id-6 div.sk-label label {font-family: monospace;font-weight: bold;display: inline-block;line-height: 1.2em;}#sk-container-id-6 div.sk-label-container {text-align: center;}#sk-container-id-6 div.sk-container {/* jupyter's `normalize.less` sets `[hidden] { display: none; }` but bootstrap.min.css set `[hidden] { display: none !important; }` so we also need the `!important` here to be able to override the default hidden behavior on the sphinx rendered scikit-learn.org. See: https://github.com/scikit-learn/scikit-learn/issues/21755 */display: inline-block !important;position: relative;}#sk-container-id-6 div.sk-text-repr-fallback {display: none;}</style><div id=\"sk-container-id-6\" class=\"sk-top-container\"><div class=\"sk-text-repr-fallback\"><pre>GaussianNB()</pre><b>In a Jupyter environment, please rerun this cell to show the HTML representation or trust the notebook. <br />On GitHub, the HTML representation is unable to render, please try loading this page with nbviewer.org.</b></div><div class=\"sk-container\" hidden><div class=\"sk-item\"><div class=\"sk-estimator sk-toggleable\"><input class=\"sk-toggleable__control sk-hidden--visually\" id=\"sk-estimator-id-6\" type=\"checkbox\" checked><label for=\"sk-estimator-id-6\" class=\"sk-toggleable__label sk-toggleable__label-arrow\">GaussianNB</label><div class=\"sk-toggleable__content\"><pre>GaussianNB()</pre></div></div></div></div></div>"
      ],
      "text/plain": [
       "GaussianNB()"
      ]
     },
     "execution_count": 207,
     "metadata": {},
     "output_type": "execute_result"
    }
   ],
   "source": [
    "from sklearn.naive_bayes import GaussianNB\n",
    "\n",
    "nb = GaussianNB()\n",
    "nb.fit(X_train,y_train)\n",
    "\n"
   ]
  },
  {
   "cell_type": "code",
   "execution_count": 208,
   "metadata": {},
   "outputs": [
    {
     "data": {
      "text/html": [
       "<div>\n",
       "<style scoped>\n",
       "    .dataframe tbody tr th:only-of-type {\n",
       "        vertical-align: middle;\n",
       "    }\n",
       "\n",
       "    .dataframe tbody tr th {\n",
       "        vertical-align: top;\n",
       "    }\n",
       "\n",
       "    .dataframe thead th {\n",
       "        text-align: right;\n",
       "    }\n",
       "</style>\n",
       "<table border=\"1\" class=\"dataframe\">\n",
       "  <thead>\n",
       "    <tr style=\"text-align: right;\">\n",
       "      <th></th>\n",
       "      <th>Model</th>\n",
       "      <th>TRAIN ACCURACY</th>\n",
       "      <th>TEST ACCURACY</th>\n",
       "    </tr>\n",
       "  </thead>\n",
       "  <tbody>\n",
       "    <tr>\n",
       "      <th>1</th>\n",
       "      <td>GaussianNB</td>\n",
       "      <td>0.86226</td>\n",
       "      <td>0.85972</td>\n",
       "    </tr>\n",
       "  </tbody>\n",
       "</table>\n",
       "</div>"
      ],
      "text/plain": [
       "        Model  TRAIN ACCURACY  TEST ACCURACY\n",
       "1  GaussianNB         0.86226        0.85972"
      ]
     },
     "execution_count": 208,
     "metadata": {},
     "output_type": "execute_result"
    }
   ],
   "source": [
    "NB = perfomance_maeasure(nb,X_train, X_test, y_train, y_test)\n",
    "NB"
   ]
  },
  {
   "cell_type": "code",
   "execution_count": null,
   "metadata": {},
   "outputs": [],
   "source": []
  },
  {
   "cell_type": "code",
   "execution_count": 209,
   "metadata": {},
   "outputs": [],
   "source": [
    "from sklearn import metrics"
   ]
  },
  {
   "cell_type": "code",
   "execution_count": 210,
   "metadata": {},
   "outputs": [
    {
     "data": {
      "text/html": [
       "<style>#sk-container-id-7 {color: black;background-color: white;}#sk-container-id-7 pre{padding: 0;}#sk-container-id-7 div.sk-toggleable {background-color: white;}#sk-container-id-7 label.sk-toggleable__label {cursor: pointer;display: block;width: 100%;margin-bottom: 0;padding: 0.3em;box-sizing: border-box;text-align: center;}#sk-container-id-7 label.sk-toggleable__label-arrow:before {content: \"▸\";float: left;margin-right: 0.25em;color: #696969;}#sk-container-id-7 label.sk-toggleable__label-arrow:hover:before {color: black;}#sk-container-id-7 div.sk-estimator:hover label.sk-toggleable__label-arrow:before {color: black;}#sk-container-id-7 div.sk-toggleable__content {max-height: 0;max-width: 0;overflow: hidden;text-align: left;background-color: #f0f8ff;}#sk-container-id-7 div.sk-toggleable__content pre {margin: 0.2em;color: black;border-radius: 0.25em;background-color: #f0f8ff;}#sk-container-id-7 input.sk-toggleable__control:checked~div.sk-toggleable__content {max-height: 200px;max-width: 100%;overflow: auto;}#sk-container-id-7 input.sk-toggleable__control:checked~label.sk-toggleable__label-arrow:before {content: \"▾\";}#sk-container-id-7 div.sk-estimator input.sk-toggleable__control:checked~label.sk-toggleable__label {background-color: #d4ebff;}#sk-container-id-7 div.sk-label input.sk-toggleable__control:checked~label.sk-toggleable__label {background-color: #d4ebff;}#sk-container-id-7 input.sk-hidden--visually {border: 0;clip: rect(1px 1px 1px 1px);clip: rect(1px, 1px, 1px, 1px);height: 1px;margin: -1px;overflow: hidden;padding: 0;position: absolute;width: 1px;}#sk-container-id-7 div.sk-estimator {font-family: monospace;background-color: #f0f8ff;border: 1px dotted black;border-radius: 0.25em;box-sizing: border-box;margin-bottom: 0.5em;}#sk-container-id-7 div.sk-estimator:hover {background-color: #d4ebff;}#sk-container-id-7 div.sk-parallel-item::after {content: \"\";width: 100%;border-bottom: 1px solid gray;flex-grow: 1;}#sk-container-id-7 div.sk-label:hover label.sk-toggleable__label {background-color: #d4ebff;}#sk-container-id-7 div.sk-serial::before {content: \"\";position: absolute;border-left: 1px solid gray;box-sizing: border-box;top: 0;bottom: 0;left: 50%;z-index: 0;}#sk-container-id-7 div.sk-serial {display: flex;flex-direction: column;align-items: center;background-color: white;padding-right: 0.2em;padding-left: 0.2em;position: relative;}#sk-container-id-7 div.sk-item {position: relative;z-index: 1;}#sk-container-id-7 div.sk-parallel {display: flex;align-items: stretch;justify-content: center;background-color: white;position: relative;}#sk-container-id-7 div.sk-item::before, #sk-container-id-7 div.sk-parallel-item::before {content: \"\";position: absolute;border-left: 1px solid gray;box-sizing: border-box;top: 0;bottom: 0;left: 50%;z-index: -1;}#sk-container-id-7 div.sk-parallel-item {display: flex;flex-direction: column;z-index: 1;position: relative;background-color: white;}#sk-container-id-7 div.sk-parallel-item:first-child::after {align-self: flex-end;width: 50%;}#sk-container-id-7 div.sk-parallel-item:last-child::after {align-self: flex-start;width: 50%;}#sk-container-id-7 div.sk-parallel-item:only-child::after {width: 0;}#sk-container-id-7 div.sk-dashed-wrapped {border: 1px dashed gray;margin: 0 0.4em 0.5em 0.4em;box-sizing: border-box;padding-bottom: 0.4em;background-color: white;}#sk-container-id-7 div.sk-label label {font-family: monospace;font-weight: bold;display: inline-block;line-height: 1.2em;}#sk-container-id-7 div.sk-label-container {text-align: center;}#sk-container-id-7 div.sk-container {/* jupyter's `normalize.less` sets `[hidden] { display: none; }` but bootstrap.min.css set `[hidden] { display: none !important; }` so we also need the `!important` here to be able to override the default hidden behavior on the sphinx rendered scikit-learn.org. See: https://github.com/scikit-learn/scikit-learn/issues/21755 */display: inline-block !important;position: relative;}#sk-container-id-7 div.sk-text-repr-fallback {display: none;}</style><div id=\"sk-container-id-7\" class=\"sk-top-container\"><div class=\"sk-text-repr-fallback\"><pre>XGBClassifier(base_score=0.5, booster=&#x27;gbtree&#x27;, callbacks=None,\n",
       "              colsample_bylevel=1, colsample_bynode=1, colsample_bytree=1,\n",
       "              early_stopping_rounds=None, enable_categorical=False,\n",
       "              eval_metric=None, feature_types=None, gamma=0, gpu_id=-1,\n",
       "              grow_policy=&#x27;depthwise&#x27;, importance_type=None,\n",
       "              interaction_constraints=&#x27;&#x27;, learning_rate=0.1, max_bin=256,\n",
       "              max_cat_threshold=64, max_cat_to_onehot=4, max_delta_step=0,\n",
       "              max_depth=6, max_leaves=0, min_child_weight=1, missing=nan,\n",
       "              monotone_constraints=&#x27;()&#x27;, n_estimators=100, n_jobs=0,\n",
       "              num_parallel_tree=1, predictor=&#x27;auto&#x27;, random_state=11, ...)</pre><b>In a Jupyter environment, please rerun this cell to show the HTML representation or trust the notebook. <br />On GitHub, the HTML representation is unable to render, please try loading this page with nbviewer.org.</b></div><div class=\"sk-container\" hidden><div class=\"sk-item\"><div class=\"sk-estimator sk-toggleable\"><input class=\"sk-toggleable__control sk-hidden--visually\" id=\"sk-estimator-id-7\" type=\"checkbox\" checked><label for=\"sk-estimator-id-7\" class=\"sk-toggleable__label sk-toggleable__label-arrow\">XGBClassifier</label><div class=\"sk-toggleable__content\"><pre>XGBClassifier(base_score=0.5, booster=&#x27;gbtree&#x27;, callbacks=None,\n",
       "              colsample_bylevel=1, colsample_bynode=1, colsample_bytree=1,\n",
       "              early_stopping_rounds=None, enable_categorical=False,\n",
       "              eval_metric=None, feature_types=None, gamma=0, gpu_id=-1,\n",
       "              grow_policy=&#x27;depthwise&#x27;, importance_type=None,\n",
       "              interaction_constraints=&#x27;&#x27;, learning_rate=0.1, max_bin=256,\n",
       "              max_cat_threshold=64, max_cat_to_onehot=4, max_delta_step=0,\n",
       "              max_depth=6, max_leaves=0, min_child_weight=1, missing=nan,\n",
       "              monotone_constraints=&#x27;()&#x27;, n_estimators=100, n_jobs=0,\n",
       "              num_parallel_tree=1, predictor=&#x27;auto&#x27;, random_state=11, ...)</pre></div></div></div></div></div>"
      ],
      "text/plain": [
       "XGBClassifier(base_score=0.5, booster='gbtree', callbacks=None,\n",
       "              colsample_bylevel=1, colsample_bynode=1, colsample_bytree=1,\n",
       "              early_stopping_rounds=None, enable_categorical=False,\n",
       "              eval_metric=None, feature_types=None, gamma=0, gpu_id=-1,\n",
       "              grow_policy='depthwise', importance_type=None,\n",
       "              interaction_constraints='', learning_rate=0.1, max_bin=256,\n",
       "              max_cat_threshold=64, max_cat_to_onehot=4, max_delta_step=0,\n",
       "              max_depth=6, max_leaves=0, min_child_weight=1, missing=nan,\n",
       "              monotone_constraints='()', n_estimators=100, n_jobs=0,\n",
       "              num_parallel_tree=1, predictor='auto', random_state=11, ...)"
      ]
     },
     "execution_count": 210,
     "metadata": {},
     "output_type": "execute_result"
    }
   ],
   "source": [
    "from xgboost.sklearn import XGBClassifier\n",
    "\n",
    "xgbm_clf = XGBClassifier(random_state=11, learning_rate=0.1)\n",
    "xgbm_clf.fit(X_train,y_train)\n"
   ]
  },
  {
   "cell_type": "code",
   "execution_count": 211,
   "metadata": {},
   "outputs": [
    {
     "data": {
      "image/png": "[encoded data removed]",
      "text/plain": [
       "<Figure size 432x288 with 1 Axes>"
      ]
     },
     "metadata": {},
     "output_type": "display_data"
    }
   ],
   "source": [
    "y_pred_proba = xgbm_clf.predict_proba(X_test)[::,1]\n",
    "fpr, tpr, _ = metrics.roc_curve(y_test,  y_pred_proba)\n",
    "auc = metrics.roc_auc_score(y_test, y_pred_proba)\n",
    "plt.plot(fpr,tpr,label=\"data 1, auc=\"+str(auc))\n",
    "plt.legend(loc=4)\n",
    "plt.xlabel('False Positive Rate')\n",
    "plt.ylabel('True Positive Rate')\n",
    "plt.title('Receiver operating characteristic')\n",
    "plt.show()"
   ]
  },
  {
   "cell_type": "code",
   "execution_count": 212,
   "metadata": {},
   "outputs": [
    {
     "data": {
      "text/html": [
       "<div>\n",
       "<style scoped>\n",
       "    .dataframe tbody tr th:only-of-type {\n",
       "        vertical-align: middle;\n",
       "    }\n",
       "\n",
       "    .dataframe tbody tr th {\n",
       "        vertical-align: top;\n",
       "    }\n",
       "\n",
       "    .dataframe thead th {\n",
       "        text-align: right;\n",
       "    }\n",
       "</style>\n",
       "<table border=\"1\" class=\"dataframe\">\n",
       "  <thead>\n",
       "    <tr style=\"text-align: right;\">\n",
       "      <th></th>\n",
       "      <th>Model</th>\n",
       "      <th>TRAIN ACCURACY</th>\n",
       "      <th>TEST ACCURACY</th>\n",
       "    </tr>\n",
       "  </thead>\n",
       "  <tbody>\n",
       "    <tr>\n",
       "      <th>1</th>\n",
       "      <td>XGBClassifier</td>\n",
       "      <td>0.96786</td>\n",
       "      <td>0.95921</td>\n",
       "    </tr>\n",
       "  </tbody>\n",
       "</table>\n",
       "</div>"
      ],
      "text/plain": [
       "           Model  TRAIN ACCURACY  TEST ACCURACY\n",
       "1  XGBClassifier         0.96786        0.95921"
      ]
     },
     "execution_count": 212,
     "metadata": {},
     "output_type": "execute_result"
    }
   ],
   "source": [
    "XG = perfomance_maeasure(xgbm_clf,X_train, X_test, y_train, y_test, train=True,test=True)\n",
    "XG"
   ]
  },
  {
   "cell_type": "code",
   "execution_count": null,
   "metadata": {},
   "outputs": [],
   "source": []
  },
  {
   "cell_type": "code",
   "execution_count": 213,
   "metadata": {},
   "outputs": [
    {
     "data": {
      "text/html": [
       "<div>\n",
       "<style scoped>\n",
       "    .dataframe tbody tr th:only-of-type {\n",
       "        vertical-align: middle;\n",
       "    }\n",
       "\n",
       "    .dataframe tbody tr th {\n",
       "        vertical-align: top;\n",
       "    }\n",
       "\n",
       "    .dataframe thead th {\n",
       "        text-align: right;\n",
       "    }\n",
       "</style>\n",
       "<table border=\"1\" class=\"dataframe\">\n",
       "  <thead>\n",
       "    <tr style=\"text-align: right;\">\n",
       "      <th></th>\n",
       "      <th>Model</th>\n",
       "      <th>TRAIN ACCURACY</th>\n",
       "      <th>TEST ACCURACY</th>\n",
       "    </tr>\n",
       "  </thead>\n",
       "  <tbody>\n",
       "    <tr>\n",
       "      <th>0</th>\n",
       "      <td>LogisticRegression</td>\n",
       "      <td>0.87397</td>\n",
       "      <td>0.87122</td>\n",
       "    </tr>\n",
       "    <tr>\n",
       "      <th>1</th>\n",
       "      <td>DecisionTreeClassifier</td>\n",
       "      <td>1.00000</td>\n",
       "      <td>0.93855</td>\n",
       "    </tr>\n",
       "    <tr>\n",
       "      <th>2</th>\n",
       "      <td>RandomForestClassifier</td>\n",
       "      <td>1.00000</td>\n",
       "      <td>0.95898</td>\n",
       "    </tr>\n",
       "    <tr>\n",
       "      <th>3</th>\n",
       "      <td>SVC</td>\n",
       "      <td>0.95682</td>\n",
       "      <td>0.94755</td>\n",
       "    </tr>\n",
       "    <tr>\n",
       "      <th>4</th>\n",
       "      <td>KNeighborsClassifier</td>\n",
       "      <td>0.65680</td>\n",
       "      <td>0.64530</td>\n",
       "    </tr>\n",
       "    <tr>\n",
       "      <th>5</th>\n",
       "      <td>GaussianNB</td>\n",
       "      <td>0.86226</td>\n",
       "      <td>0.85972</td>\n",
       "    </tr>\n",
       "    <tr>\n",
       "      <th>6</th>\n",
       "      <td>XGBClassifier</td>\n",
       "      <td>0.96786</td>\n",
       "      <td>0.95921</td>\n",
       "    </tr>\n",
       "  </tbody>\n",
       "</table>\n",
       "</div>"
      ],
      "text/plain": [
       "                    Model  TRAIN ACCURACY  TEST ACCURACY\n",
       "0      LogisticRegression         0.87397        0.87122\n",
       "1  DecisionTreeClassifier         1.00000        0.93855\n",
       "2  RandomForestClassifier         1.00000        0.95898\n",
       "3                     SVC         0.95682        0.94755\n",
       "4    KNeighborsClassifier         0.65680        0.64530\n",
       "5              GaussianNB         0.86226        0.85972\n",
       "6           XGBClassifier         0.96786        0.95921"
      ]
     },
     "execution_count": 213,
     "metadata": {},
     "output_type": "execute_result"
    }
   ],
   "source": [
    "DATA = Logistic.append(Decision).append(Random).append(SVM).append(KNN).append(NB).append(XG,ignore_index=True)\n",
    "DATA"
   ]
  },
  {
   "cell_type": "code",
   "execution_count": null,
   "metadata": {},
   "outputs": [],
   "source": [
    "\n"
   ]
  }
 ],
 "metadata": {
  "colab": {
   "collapsed_sections": [
    "ad117c85-d2ea-437b-82d8-d296d52806bc",
    "b0cbbae6-8fb0-4bca-babc-bb0ef1d25bb4"
   ],
   "provenance": []
  },
  "kernelspec": {
   "display_name": "Python 3",
   "language": "python",
   "name": "python3"
  },
  "language_info": {
   "codemirror_mode": {
    "name": "ipython",
    "version": 3
   },
   "file_extension": ".py",
   "mimetype": "text/x-python",
   "name": "python",
   "nbconvert_exporter": "python",
   "pygments_lexer": "ipython3",
   "version": "3.8.5"
  }
 },
 "nbformat": 4,
 "nbformat_minor": 5
}
